{
 "cells": [
  {
   "cell_type": "markdown",
   "id": "b66edfb4",
   "metadata": {
    "id": "b66edfb4"
   },
   "source": [
    "\n",
    "# Project 3: Deep & Wide Nets, RNNs, Kernels & Regressions — Data + Feature Engineering\n",
    "\n",
    "### By Aisha Tahir & Laiba Noor\n",
    "\n",
    "**Notebook created:** 2025-09-18 16:18:39  \n",
    "\n",
    "This notebook assembles two original datasets (&lt; 5,000 rows each), performs **cleaning, imputation, IQR outlier treatment, encoding, scaling**, and adds **domain-driven feature engineering** for both datasets. Ready for you to append classical vs. neural models.\n",
    "\n",
    "## How to run (Colab-ready)\n",
    "1) **Runtime**: Google Colab (Python 3.10+). GPU optional for deep nets.\n",
    "2) **Install (first run only):**\n",
    "```bash\n",
    "%pip install -q pandas numpy scikit-learn torch torchvision torchaudio requests matplotlib\n",
    "```\n",
    "3) **Seeds**: We fix `numpy`, `random`, `torch`, and `sklearn` for reproducibility.\n",
    "4) **APIs**:  \n",
    "   - Dataset A: NYC 311 (Socrata Open Data; keyless for small pulls).  \n",
    "   - Dataset B: Open-Meteo Air Quality (keyless). Use variables: `pm2_5`, `pm10`, `nitrogen_dioxide`, `ozone`.\n",
    "5) **Row budget**: Each dataset stays **&lt; 5,000** rows as required.\n"
   ]
  },
  {
   "cell_type": "code",
   "execution_count": 130,
   "id": "88ee1489",
   "metadata": {
    "colab": {
     "base_uri": "https://localhost:8080/"
    },
    "id": "88ee1489",
    "outputId": "39869445-2433-4dd6-d96d-e476261e004d"
   },
   "outputs": [
    {
     "name": "stdout",
     "output_type": "stream",
     "text": [
      "Versions:\n",
      "  Python: 3.9.10\n",
      "  numpy: 1.26.0\n",
      "  pandas: 2.1.1\n",
      "  scikit-learn: 1.3.2\n",
      "  torch: 2.8.0\n"
     ]
    }
   ],
   "source": [
    "# If running on Colab, uncomment installs:\n",
    "# %pip install -q pandas numpy scikit-learn torch torchvision torchaudio requests matplotlib\n",
    "# If ImportError when importing torch:\n",
    "# upgrade typing_extensions and restart kernel\n",
    "\n",
    "import os, sys, json, math, random, time, datetime as dt\n",
    "import numpy as np\n",
    "import pandas as pd\n",
    "import requests\n",
    "import matplotlib.pyplot as plt\n",
    "\n",
    "from sklearn.model_selection import train_test_split, TimeSeriesSplit\n",
    "from sklearn.preprocessing import OneHotEncoder, StandardScaler\n",
    "from sklearn.compose import ColumnTransformer\n",
    "from sklearn.pipeline import Pipeline\n",
    "from sklearn.impute import SimpleImputer\n",
    "from sklearn.base import BaseEstimator, TransformerMixin\n",
    "\n",
    "import torch, sklearn\n",
    "\n",
    "print(\"Versions:\")\n",
    "print(\"  Python:\", sys.version.split()[0])\n",
    "print(\"  numpy:\", np.__version__)\n",
    "print(\"  pandas:\", pd.__version__)\n",
    "print(\"  scikit-learn:\", sklearn.__version__)\n",
    "print(\"  torch:\", torch.__version__)\n"
   ]
  },
  {
   "cell_type": "code",
   "execution_count": 131,
   "id": "a131c5a7",
   "metadata": {
    "colab": {
     "base_uri": "https://localhost:8080/"
    },
    "id": "a131c5a7",
    "outputId": "e52c1e0b-8b7e-4215-dd4a-fafcf3e2df38"
   },
   "outputs": [
    {
     "name": "stdout",
     "output_type": "stream",
     "text": [
      "Seeds set: 4603\n"
     ]
    }
   ],
   "source": [
    "\n",
    "SEED = 4603\n",
    "random.seed(SEED)\n",
    "np.random.seed(SEED)\n",
    "torch.manual_seed(SEED)\n",
    "if torch.cuda.is_available():\n",
    "    torch.cuda.manual_seed_all(SEED)\n",
    "\n",
    "print(\"Seeds set:\", SEED)\n"
   ]
  },
  {
   "cell_type": "code",
   "execution_count": 132,
   "id": "66f467d7",
   "metadata": {
    "id": "66f467d7"
   },
   "outputs": [],
   "source": [
    "\n",
    "class IQRClipper(BaseEstimator, TransformerMixin):\n",
    "    \"\"\"Clips numeric columns using IQR (1.5 * IQR by default).\"\"\"\n",
    "    def __init__(self, factor=1.5):\n",
    "        self.factor = factor\n",
    "        self.bounds_ = {}\n",
    "        self.columns_ = None\n",
    "\n",
    "    def fit(self, X, y=None):\n",
    "        X = pd.DataFrame(X).copy()\n",
    "        self.columns_ = X.columns\n",
    "        for c in self.columns_:\n",
    "            q1 = X[c].quantile(0.25)\n",
    "            q3 = X[c].quantile(0.75)\n",
    "            iqr = q3 - q1\n",
    "            low = q1 - self.factor * iqr\n",
    "            high = q3 + self.factor * iqr\n",
    "            self.bounds_[c] = (low, high)\n",
    "        return self\n",
    "\n",
    "    def transform(self, X):\n",
    "        X = pd.DataFrame(X).copy()\n",
    "        for c in self.columns_:\n",
    "            low, high = self.bounds_[c]\n",
    "            X[c] = X[c].clip(lower=low, upper=high)\n",
    "            # keep numeric type\n",
    "            X[c] = pd.to_numeric(X[c], errors=\"coerce\")\n",
    "        return X\n"
   ]
  },
  {
   "cell_type": "markdown",
   "id": "7d8d7a21",
   "metadata": {
    "id": "7d8d7a21"
   },
   "source": [
    "\n",
    "## Dataset A — NYC 311 Service Requests (API)\n",
    "\n",
    "**API**: `https://data.cityofnewyork.us/resource/erm2-nwe9.json`  \n",
    "**Example task**: Classification (predict `complaint_type` or `borough`).  \n",
    "We keep **< 5,000** rows.\n"
   ]
  },
  {
   "cell_type": "code",
   "execution_count": 133,
   "id": "bf0c314e",
   "metadata": {
    "colab": {
     "base_uri": "https://localhost:8080/"
    },
    "id": "bf0c314e",
    "outputId": "396f413c-fbc4-4841-c0f0-be33b8b23279"
   },
   "outputs": [
    {
     "name": "stdout",
     "output_type": "stream",
     "text": [
      "Raw records fetched (NYC311): 4500\n",
      "Sample (first record):\n",
      "{\n",
      "  \"created_date\": \"2025-09-18T02:25:46.000\",\n",
      "  \"agency\": \"DOT\",\n",
      "  \"agency_name\": \"Department of Transportation\",\n",
      "  \"complaint_type\": \"Street Condition\",\n",
      "  \"descriptor\": \"Pothole\",\n",
      "  \"incident_zip\": \"11433\",\n",
      "  \"borough\": \"QUEENS\",\n",
      "  \"latitude\": \"40.6928313797231\",\n",
      "  \"longitude\": \"-73.79516093908215\"\n",
      "}\n",
      "\n",
      "NYC 311 raw shape: (4500, 13)\n",
      "NYC311 raw rows: 4500\n"
     ]
    }
   ],
   "source": [
    "\n",
    "# NYC 311 pull\n",
    "NYC311_URL = \"https://data.cityofnewyork.us/resource/erm2-nwe9.json\"\n",
    "LIMIT_N = 4500\n",
    "SELECT_COLS = [\n",
    "    \"created_date\", \"closed_date\", \"agency\", \"agency_name\",\n",
    "    \"complaint_type\", \"descriptor\", \"location_type\",\n",
    "    \"incident_zip\", \"incident_address\", \"street_name\",\n",
    "    \"borough\", \"latitude\", \"longitude\"\n",
    "]\n",
    "params = {\n",
    "    \"$select\": \",\".join(SELECT_COLS),\n",
    "    \"$limit\": LIMIT_N,\n",
    "    \"$order\": \"created_date DESC\"\n",
    "}\n",
    "resp = requests.get(NYC311_URL, params=params, timeout=60)\n",
    "resp.raise_for_status()\n",
    "data_nyc = resp.json()\n",
    "print(\"Raw records fetched (NYC311):\", len(data_nyc))\n",
    "print(\"Sample (first record):\")\n",
    "print(json.dumps(data_nyc[0], indent=2) if data_nyc else \"No data returned\")\n",
    "\n",
    "df_nyc = pd.DataFrame(data_nyc)\n",
    "print(\"\\nNYC 311 raw shape:\", df_nyc.shape)\n",
    "df_nyc.head(3)\n",
    "\n",
    "\n",
    "# Row-count check for Dataset A (expect 3000–5000)\n",
    "print('NYC311 raw rows:', len(df_nyc))\n",
    "assert len(df_nyc) >= 3000 and len(df_nyc) < 5000, f'NYC311 rows should be 3000–5000; got {len(df_nyc)}. Adjust LIMIT_N if needed.'\n"
   ]
  },
  {
   "cell_type": "code",
   "execution_count": 134,
   "id": "d26d41f4",
   "metadata": {
    "colab": {
     "base_uri": "https://localhost:8080/"
    },
    "id": "d26d41f4",
    "outputId": "4ecd8aec-d326-49d2-8d77-91cf79423e83",
    "scrolled": true
   },
   "outputs": [
    {
     "name": "stdout",
     "output_type": "stream",
     "text": [
      "Saved: data/nyc311_raw.json\n"
     ]
    },
    {
     "data": {
      "text/html": [
       "<div>\n",
       "<style scoped>\n",
       "    .dataframe tbody tr th:only-of-type {\n",
       "        vertical-align: middle;\n",
       "    }\n",
       "\n",
       "    .dataframe tbody tr th {\n",
       "        vertical-align: top;\n",
       "    }\n",
       "\n",
       "    .dataframe thead th {\n",
       "        text-align: right;\n",
       "    }\n",
       "</style>\n",
       "<table border=\"1\" class=\"dataframe\">\n",
       "  <thead>\n",
       "    <tr style=\"text-align: right;\">\n",
       "      <th></th>\n",
       "      <th>created_date</th>\n",
       "      <th>agency</th>\n",
       "      <th>agency_name</th>\n",
       "      <th>complaint_type</th>\n",
       "      <th>descriptor</th>\n",
       "      <th>incident_zip</th>\n",
       "      <th>borough</th>\n",
       "      <th>latitude</th>\n",
       "      <th>longitude</th>\n",
       "      <th>location_type</th>\n",
       "      <th>incident_address</th>\n",
       "      <th>street_name</th>\n",
       "      <th>closed_date</th>\n",
       "    </tr>\n",
       "  </thead>\n",
       "  <tbody>\n",
       "    <tr>\n",
       "      <th>0</th>\n",
       "      <td>2025-09-18T02:25:46.000</td>\n",
       "      <td>DOT</td>\n",
       "      <td>Department of Transportation</td>\n",
       "      <td>Street Condition</td>\n",
       "      <td>Pothole</td>\n",
       "      <td>11433</td>\n",
       "      <td>QUEENS</td>\n",
       "      <td>40.6928313797231</td>\n",
       "      <td>-73.79516093908215</td>\n",
       "      <td>NaN</td>\n",
       "      <td>NaN</td>\n",
       "      <td>NaN</td>\n",
       "      <td>NaN</td>\n",
       "    </tr>\n",
       "    <tr>\n",
       "      <th>1</th>\n",
       "      <td>2025-09-18T01:51:05.000</td>\n",
       "      <td>NYPD</td>\n",
       "      <td>New York City Police Department</td>\n",
       "      <td>Illegal Parking</td>\n",
       "      <td>Blocked Sidewalk</td>\n",
       "      <td>11234</td>\n",
       "      <td>BROOKLYN</td>\n",
       "      <td>40.63406617762398</td>\n",
       "      <td>-73.92366558536487</td>\n",
       "      <td>Street/Sidewalk</td>\n",
       "      <td>956 EAST   55 STREET</td>\n",
       "      <td>EAST   55 STREET</td>\n",
       "      <td>NaN</td>\n",
       "    </tr>\n",
       "    <tr>\n",
       "      <th>2</th>\n",
       "      <td>2025-09-18T01:50:51.000</td>\n",
       "      <td>NYPD</td>\n",
       "      <td>New York City Police Department</td>\n",
       "      <td>Illegal Parking</td>\n",
       "      <td>Blocked Sidewalk</td>\n",
       "      <td>11234</td>\n",
       "      <td>BROOKLYN</td>\n",
       "      <td>40.6334723832857</td>\n",
       "      <td>-73.92646568528723</td>\n",
       "      <td>Street/Sidewalk</td>\n",
       "      <td>1097 EAST   52 STREET</td>\n",
       "      <td>EAST   52 STREET</td>\n",
       "      <td>NaN</td>\n",
       "    </tr>\n",
       "    <tr>\n",
       "      <th>3</th>\n",
       "      <td>2025-09-18T01:50:27.000</td>\n",
       "      <td>NYPD</td>\n",
       "      <td>New York City Police Department</td>\n",
       "      <td>Noise - Residential</td>\n",
       "      <td>Banging/Pounding</td>\n",
       "      <td>11207</td>\n",
       "      <td>BROOKLYN</td>\n",
       "      <td>40.663308000053604</td>\n",
       "      <td>-73.89751773618866</td>\n",
       "      <td>Residential Building/House</td>\n",
       "      <td>511 WILLIAMS AVENUE</td>\n",
       "      <td>WILLIAMS AVENUE</td>\n",
       "      <td>NaN</td>\n",
       "    </tr>\n",
       "    <tr>\n",
       "      <th>4</th>\n",
       "      <td>2025-09-18T01:50:20.000</td>\n",
       "      <td>NYPD</td>\n",
       "      <td>New York City Police Department</td>\n",
       "      <td>Illegal Parking</td>\n",
       "      <td>Commercial Overnight Parking</td>\n",
       "      <td>11234</td>\n",
       "      <td>BROOKLYN</td>\n",
       "      <td>40.633505336855166</td>\n",
       "      <td>-73.92649086899455</td>\n",
       "      <td>Street/Sidewalk</td>\n",
       "      <td>1096 EAST   52 STREET</td>\n",
       "      <td>EAST   52 STREET</td>\n",
       "      <td>NaN</td>\n",
       "    </tr>\n",
       "    <tr>\n",
       "      <th>...</th>\n",
       "      <td>...</td>\n",
       "      <td>...</td>\n",
       "      <td>...</td>\n",
       "      <td>...</td>\n",
       "      <td>...</td>\n",
       "      <td>...</td>\n",
       "      <td>...</td>\n",
       "      <td>...</td>\n",
       "      <td>...</td>\n",
       "      <td>...</td>\n",
       "      <td>...</td>\n",
       "      <td>...</td>\n",
       "      <td>...</td>\n",
       "    </tr>\n",
       "    <tr>\n",
       "      <th>4495</th>\n",
       "      <td>2025-09-17T14:13:58.000</td>\n",
       "      <td>HPD</td>\n",
       "      <td>Department of Housing Preservation and Develop...</td>\n",
       "      <td>GENERAL</td>\n",
       "      <td>COOKING GAS</td>\n",
       "      <td>10472</td>\n",
       "      <td>BRONX</td>\n",
       "      <td>40.82538418735059</td>\n",
       "      <td>-73.87652806123705</td>\n",
       "      <td>RESIDENTIAL BUILDING</td>\n",
       "      <td>1063 WARD AVENUE</td>\n",
       "      <td>WARD AVENUE</td>\n",
       "      <td>NaN</td>\n",
       "    </tr>\n",
       "    <tr>\n",
       "      <th>4496</th>\n",
       "      <td>2025-09-17T14:13:47.000</td>\n",
       "      <td>NYPD</td>\n",
       "      <td>New York City Police Department</td>\n",
       "      <td>Illegal Parking</td>\n",
       "      <td>Posted Parking Sign Violation</td>\n",
       "      <td>10011</td>\n",
       "      <td>MANHATTAN</td>\n",
       "      <td>40.74626199354559</td>\n",
       "      <td>-74.00150493479484</td>\n",
       "      <td>Street/Sidewalk</td>\n",
       "      <td>207 9 AVENUE</td>\n",
       "      <td>9 AVENUE</td>\n",
       "      <td>2025-09-17T14:23:01.000</td>\n",
       "    </tr>\n",
       "    <tr>\n",
       "      <th>4497</th>\n",
       "      <td>2025-09-17T14:13:43.000</td>\n",
       "      <td>HPD</td>\n",
       "      <td>Department of Housing Preservation and Develop...</td>\n",
       "      <td>DOOR/WINDOW</td>\n",
       "      <td>WINDOW PANE</td>\n",
       "      <td>11208</td>\n",
       "      <td>BROOKLYN</td>\n",
       "      <td>40.65702908984591</td>\n",
       "      <td>-73.87634950244784</td>\n",
       "      <td>RESIDENTIAL BUILDING</td>\n",
       "      <td>12399 FLATLANDS AVENUE</td>\n",
       "      <td>FLATLANDS AVENUE</td>\n",
       "      <td>NaN</td>\n",
       "    </tr>\n",
       "    <tr>\n",
       "      <th>4498</th>\n",
       "      <td>2025-09-17T14:13:43.000</td>\n",
       "      <td>DSNY</td>\n",
       "      <td>Department of Sanitation</td>\n",
       "      <td>Dirty Condition</td>\n",
       "      <td>Trash</td>\n",
       "      <td>11233</td>\n",
       "      <td>BROOKLYN</td>\n",
       "      <td>40.680490087596844</td>\n",
       "      <td>-73.91400405897653</td>\n",
       "      <td>Sidewalk</td>\n",
       "      <td>124 THOMAS S BOYLAND STREET</td>\n",
       "      <td>THOMAS S BOYLAND STREET</td>\n",
       "      <td>2025-09-17T16:15:47.000</td>\n",
       "    </tr>\n",
       "    <tr>\n",
       "      <th>4499</th>\n",
       "      <td>2025-09-17T14:13:43.000</td>\n",
       "      <td>DSNY</td>\n",
       "      <td>Department of Sanitation</td>\n",
       "      <td>Litter Basket Request</td>\n",
       "      <td>Replacement Basket</td>\n",
       "      <td>10466</td>\n",
       "      <td>BRONX</td>\n",
       "      <td>40.88919344270751</td>\n",
       "      <td>-73.83129818365059</td>\n",
       "      <td>Street</td>\n",
       "      <td>DYRE AVENUE</td>\n",
       "      <td>DYRE AVENUE</td>\n",
       "      <td>NaN</td>\n",
       "    </tr>\n",
       "  </tbody>\n",
       "</table>\n",
       "<p>4500 rows × 13 columns</p>\n",
       "</div>"
      ],
      "text/plain": [
       "                 created_date agency  \\\n",
       "0     2025-09-18T02:25:46.000    DOT   \n",
       "1     2025-09-18T01:51:05.000   NYPD   \n",
       "2     2025-09-18T01:50:51.000   NYPD   \n",
       "3     2025-09-18T01:50:27.000   NYPD   \n",
       "4     2025-09-18T01:50:20.000   NYPD   \n",
       "...                       ...    ...   \n",
       "4495  2025-09-17T14:13:58.000    HPD   \n",
       "4496  2025-09-17T14:13:47.000   NYPD   \n",
       "4497  2025-09-17T14:13:43.000    HPD   \n",
       "4498  2025-09-17T14:13:43.000   DSNY   \n",
       "4499  2025-09-17T14:13:43.000   DSNY   \n",
       "\n",
       "                                            agency_name  \\\n",
       "0                          Department of Transportation   \n",
       "1                       New York City Police Department   \n",
       "2                       New York City Police Department   \n",
       "3                       New York City Police Department   \n",
       "4                       New York City Police Department   \n",
       "...                                                 ...   \n",
       "4495  Department of Housing Preservation and Develop...   \n",
       "4496                    New York City Police Department   \n",
       "4497  Department of Housing Preservation and Develop...   \n",
       "4498                           Department of Sanitation   \n",
       "4499                           Department of Sanitation   \n",
       "\n",
       "             complaint_type                     descriptor incident_zip  \\\n",
       "0          Street Condition                        Pothole        11433   \n",
       "1           Illegal Parking               Blocked Sidewalk        11234   \n",
       "2           Illegal Parking               Blocked Sidewalk        11234   \n",
       "3       Noise - Residential               Banging/Pounding        11207   \n",
       "4           Illegal Parking   Commercial Overnight Parking        11234   \n",
       "...                     ...                            ...          ...   \n",
       "4495                GENERAL                    COOKING GAS        10472   \n",
       "4496        Illegal Parking  Posted Parking Sign Violation        10011   \n",
       "4497            DOOR/WINDOW                    WINDOW PANE        11208   \n",
       "4498        Dirty Condition                          Trash        11233   \n",
       "4499  Litter Basket Request             Replacement Basket        10466   \n",
       "\n",
       "        borough            latitude           longitude  \\\n",
       "0        QUEENS    40.6928313797231  -73.79516093908215   \n",
       "1      BROOKLYN   40.63406617762398  -73.92366558536487   \n",
       "2      BROOKLYN    40.6334723832857  -73.92646568528723   \n",
       "3      BROOKLYN  40.663308000053604  -73.89751773618866   \n",
       "4      BROOKLYN  40.633505336855166  -73.92649086899455   \n",
       "...         ...                 ...                 ...   \n",
       "4495      BRONX   40.82538418735059  -73.87652806123705   \n",
       "4496  MANHATTAN   40.74626199354559  -74.00150493479484   \n",
       "4497   BROOKLYN   40.65702908984591  -73.87634950244784   \n",
       "4498   BROOKLYN  40.680490087596844  -73.91400405897653   \n",
       "4499      BRONX   40.88919344270751  -73.83129818365059   \n",
       "\n",
       "                   location_type             incident_address  \\\n",
       "0                            NaN                          NaN   \n",
       "1                Street/Sidewalk         956 EAST   55 STREET   \n",
       "2                Street/Sidewalk        1097 EAST   52 STREET   \n",
       "3     Residential Building/House          511 WILLIAMS AVENUE   \n",
       "4                Street/Sidewalk        1096 EAST   52 STREET   \n",
       "...                          ...                          ...   \n",
       "4495        RESIDENTIAL BUILDING             1063 WARD AVENUE   \n",
       "4496             Street/Sidewalk                 207 9 AVENUE   \n",
       "4497        RESIDENTIAL BUILDING       12399 FLATLANDS AVENUE   \n",
       "4498                    Sidewalk  124 THOMAS S BOYLAND STREET   \n",
       "4499                      Street                  DYRE AVENUE   \n",
       "\n",
       "                  street_name              closed_date  \n",
       "0                         NaN                      NaN  \n",
       "1            EAST   55 STREET                      NaN  \n",
       "2            EAST   52 STREET                      NaN  \n",
       "3             WILLIAMS AVENUE                      NaN  \n",
       "4            EAST   52 STREET                      NaN  \n",
       "...                       ...                      ...  \n",
       "4495              WARD AVENUE                      NaN  \n",
       "4496                 9 AVENUE  2025-09-17T14:23:01.000  \n",
       "4497         FLATLANDS AVENUE                      NaN  \n",
       "4498  THOMAS S BOYLAND STREET  2025-09-17T16:15:47.000  \n",
       "4499              DYRE AVENUE                      NaN  \n",
       "\n",
       "[4500 rows x 13 columns]"
      ]
     },
     "execution_count": 134,
     "metadata": {},
     "output_type": "execute_result"
    }
   ],
   "source": [
    "# Save raw NYC311 (for GitHub provenance)\n",
    "os.makedirs(\"data\", exist_ok=True)\n",
    "pd.Series(data_nyc).to_json(\"data/nyc311_raw.json\", orient=\"values\")\n",
    "print(\"Saved:\", \"data/nyc311_raw.json\")\n",
    "\n",
    "df_nyc"
   ]
  },
  {
   "cell_type": "markdown",
   "id": "091adbf8-0a44-4a69-a2ad-238a86bd1111",
   "metadata": {},
   "source": [
    "### Engineering Challanges:\n",
    "\n",
    "The dataset has many rows missing in location_type, latitude, longitude, and closed_date. Additionally, the  created_date, closed_date, latitude, and longitude require cleaning because of inconsistent or inefficent datatypees. These issues may create challanges in feature engineering and model training. "
   ]
  },
  {
   "cell_type": "markdown",
   "id": "1d8ee75b",
   "metadata": {
    "id": "1d8ee75b"
   },
   "source": [
    "\n",
    "### Cleaning & Base Features (NYC311)\n",
    "- Parse datetimes; compute `response_hours`.\n",
    "- Derive `created_hour`, `created_dow`.\n",
    "- Median/mode impute; **IQR-clip** numerics.\n"
   ]
  },
  {
   "cell_type": "code",
   "execution_count": 135,
   "id": "e0583fd1-1b16-4082-9018-dcd6d6849406",
   "metadata": {
    "colab": {
     "base_uri": "https://localhost:8080/",
     "height": 161
    },
    "id": "95eee189",
    "outputId": "965765fd-4d03-47c3-ff92-bcf633d9631e"
   },
   "outputs": [
    {
     "name": "stdout",
     "output_type": "stream",
     "text": [
      "After base cleaning - shape: (4500, 10)\n"
     ]
    },
    {
     "data": {
      "text/html": [
       "<div>\n",
       "<style scoped>\n",
       "    .dataframe tbody tr th:only-of-type {\n",
       "        vertical-align: middle;\n",
       "    }\n",
       "\n",
       "    .dataframe tbody tr th {\n",
       "        vertical-align: top;\n",
       "    }\n",
       "\n",
       "    .dataframe thead th {\n",
       "        text-align: right;\n",
       "    }\n",
       "</style>\n",
       "<table border=\"1\" class=\"dataframe\">\n",
       "  <thead>\n",
       "    <tr style=\"text-align: right;\">\n",
       "      <th></th>\n",
       "      <th>agency</th>\n",
       "      <th>complaint_type</th>\n",
       "      <th>descriptor</th>\n",
       "      <th>location_type</th>\n",
       "      <th>borough</th>\n",
       "      <th>latitude</th>\n",
       "      <th>longitude</th>\n",
       "      <th>response_hours</th>\n",
       "      <th>created_hour</th>\n",
       "      <th>created_dow</th>\n",
       "    </tr>\n",
       "  </thead>\n",
       "  <tbody>\n",
       "    <tr>\n",
       "      <th>0</th>\n",
       "      <td>DOT</td>\n",
       "      <td>Street Condition</td>\n",
       "      <td>Pothole</td>\n",
       "      <td>Street/Sidewalk</td>\n",
       "      <td>QUEENS</td>\n",
       "      <td>40.692831</td>\n",
       "      <td>-73.795161</td>\n",
       "      <td>0.836667</td>\n",
       "      <td>7.5</td>\n",
       "      <td>2.0</td>\n",
       "    </tr>\n",
       "    <tr>\n",
       "      <th>1</th>\n",
       "      <td>NYPD</td>\n",
       "      <td>Illegal Parking</td>\n",
       "      <td>Blocked Sidewalk</td>\n",
       "      <td>Street/Sidewalk</td>\n",
       "      <td>BROOKLYN</td>\n",
       "      <td>40.634066</td>\n",
       "      <td>-73.923666</td>\n",
       "      <td>0.836667</td>\n",
       "      <td>7.5</td>\n",
       "      <td>2.0</td>\n",
       "    </tr>\n",
       "    <tr>\n",
       "      <th>2</th>\n",
       "      <td>NYPD</td>\n",
       "      <td>Illegal Parking</td>\n",
       "      <td>Blocked Sidewalk</td>\n",
       "      <td>Street/Sidewalk</td>\n",
       "      <td>BROOKLYN</td>\n",
       "      <td>40.633472</td>\n",
       "      <td>-73.926466</td>\n",
       "      <td>0.836667</td>\n",
       "      <td>7.5</td>\n",
       "      <td>2.0</td>\n",
       "    </tr>\n",
       "  </tbody>\n",
       "</table>\n",
       "</div>"
      ],
      "text/plain": [
       "  agency    complaint_type        descriptor    location_type   borough  \\\n",
       "0    DOT  Street Condition           Pothole  Street/Sidewalk    QUEENS   \n",
       "1   NYPD   Illegal Parking  Blocked Sidewalk  Street/Sidewalk  BROOKLYN   \n",
       "2   NYPD   Illegal Parking  Blocked Sidewalk  Street/Sidewalk  BROOKLYN   \n",
       "\n",
       "    latitude  longitude  response_hours  created_hour  created_dow  \n",
       "0  40.692831 -73.795161        0.836667           7.5          2.0  \n",
       "1  40.634066 -73.923666        0.836667           7.5          2.0  \n",
       "2  40.633472 -73.926466        0.836667           7.5          2.0  "
      ]
     },
     "execution_count": 135,
     "metadata": {},
     "output_type": "execute_result"
    }
   ],
   "source": [
    "dfN = df_nyc.copy()\n",
    "\n",
    "# Parse Datetimes: prevents invalid timelines from breaking feature engineering.\n",
    "for c in [\"created_date\", \"closed_date\"]:\n",
    "    dfN[c] = pd.to_datetime(dfN[c], errors=\"coerce\")\n",
    "\n",
    "# Base Features: \n",
    "\n",
    "# Calculate hours to measure response time.\n",
    "dfN[\"response_hours\"] = (dfN[\"closed_date\"] - dfN[\"created_date\"]).dt.total_seconds() / 3600.0\n",
    "# Set hour variable to measure by time of day.\n",
    "dfN[\"created_hour\"] = dfN[\"created_date\"].dt.hour\n",
    "# Set day variable to measure by day\n",
    "dfN[\"created_dow\"] = dfN[\"created_date\"].dt.dayofweek\n",
    "\n",
    "# Numeric Conversions: latitude and longitude variables have inconsistent datatypes.\n",
    "for c in [\"latitude\",\"longitude\"]:\n",
    "    if c in dfN.columns:\n",
    "        dfN[c] = pd.to_numeric(dfN[c], errors=\"coerce\")\n",
    "\n",
    "# Keep non-repetitive and engineered columns to minimize noise.\n",
    "keep_cols = [\"agency\", \"complaint_type\", \"descriptor\", \"location_type\", \"borough\",\n",
    "    \"latitude\", \"longitude\", \"response_hours\", \"created_hour\", \"created_dow\"]\n",
    "\n",
    "dfN = dfN[keep_cols]\n",
    "\n",
    "# Impute With Medians: prevent bias towards a value.\n",
    "num_cols_A = [\"latitude\", \"longitude\", \"response_hours\", \"created_hour\", \"created_dow\"]\n",
    "num_imputer = SimpleImputer(strategy=\"median\")\n",
    "dfN[num_cols_A] = num_imputer.fit_transform(dfN[num_cols_A])\n",
    "\n",
    "# Outlier Handling via IQR:\n",
    "dfN[num_cols_A] = IQRClipper().fit_transform(dfN[num_cols_A])\n",
    "\n",
    "# Impute With Most Frequent: prevent unrealistically skewed distributions.\n",
    "cat_cols_A_all = [\"agency\", \"complaint_type\", \"descriptor\", \"location_type\", \"borough\"]\n",
    "cat_imputer = SimpleImputer(strategy=\"most_frequent\")\n",
    "dfN[cat_cols_A_all] = cat_imputer.fit_transform(dfN[cat_cols_A_all])\n",
    "\n",
    "print(\"After base cleaning - shape:\", dfN.shape)\n",
    "dfN.head(3)"
   ]
  },
  {
   "cell_type": "markdown",
   "id": "c00cff77",
   "metadata": {
    "id": "c00cff77"
   },
   "source": [
    "\n",
    "## 2. Feature Engineering — NYC311\n",
    "\n",
    "**Features we add (with rationale):**  \n",
    "- `is_weekend` — complaint mix differs on weekends (ops context).  \n",
    "- `is_rush_hour` — traffic/availability effects.  \n",
    "- `hour_sin`, `hour_cos` — cyclical time encoding (23≈0).  \n",
    "- `descriptor_len` — text richness proxy.  \n",
    "- `dist_km_cityhall` — compact spatial signal.  \n",
    "- `geo_cell` — coarse lat/lon grid as categorical.\n"
   ]
  },
  {
   "cell_type": "code",
   "execution_count": 136,
   "id": "615ce8dd",
   "metadata": {
    "colab": {
     "base_uri": "https://localhost:8080/"
    },
    "id": "615ce8dd",
    "outputId": "f30b0429-c041-4030-b677-4bfacfd2d483"
   },
   "outputs": [
    {
     "name": "stdout",
     "output_type": "stream",
     "text": [
      "NYC311 after FE -> X shape: (4500, 1064) | numeric cols: 11 | categorical cols: 5\n",
      "Saved: data/nyc311_clean_with_FE.csv\n"
     ]
    }
   ],
   "source": [
    "import numpy as np\n",
    "\n",
    "# Haversine distance (km)\n",
    "def haversine_km(lat1, lon1, lat2, lon2):\n",
    "    R = 6371.0\n",
    "    lat1, lon1, lat2, lon2 = map(np.radians, [lat1, lon1, lat2, lon2])\n",
    "    dlat = lat2 - lat1\n",
    "    dlon = lon2 - lon1\n",
    "    a = np.sin(dlat/2)**2 + np.cos(lat1) * np.cos(lat2) * np.sin(dlon/2)**2\n",
    "    return 2 * R * np.arcsin(np.sqrt(a))\n",
    "\n",
    "# 1) Weekend / 2) Rush hour\n",
    "dfN[\"is_weekend\"]   = (dfN[\"created_dow\"] >= 5).astype(int)\n",
    "dfN[\"is_rush_hour\"] = ((dfN[\"created_hour\"].between(7,10)) | (dfN[\"created_hour\"].between(16,19))).astype(int)\n",
    "\n",
    "# 3) Cyclical hour\n",
    "dfN[\"hour_sin\"] = np.sin(2*np.pi*dfN[\"created_hour\"]/24.0)\n",
    "dfN[\"hour_cos\"] = np.cos(2*np.pi*dfN[\"created_hour\"]/24.0)\n",
    "\n",
    "# 4) Text richness\n",
    "dfN[\"descriptor_len\"] = dfN[\"descriptor\"].astype(str).str.split().apply(len).astype(float)\n",
    "\n",
    "# 5) Distance to City Hall (approx 40.7128,-74.0060)\n",
    "dfN[\"dist_km_cityhall\"] = haversine_km(dfN[\"latitude\"], dfN[\"longitude\"], 40.7128, -74.0060)\n",
    "\n",
    "# 6) Geo cell (2-decimal rounding)\n",
    "dfN[\"geo_cell\"] = dfN[\"latitude\"].round(2).astype(str) + \"_\" + dfN[\"longitude\"].round(2).astype(str)\n",
    "\n",
    "# Update column sets\n",
    "num_cols_A = num_cols_A + [\"descriptor_len\",\"dist_km_cityhall\",\"hour_sin\",\"hour_cos\",\"is_weekend\",\"is_rush_hour\"]\n",
    "cat_cols_A = [\"agency\",\"descriptor\",\"location_type\",\"borough\",\"geo_cell\"]  # exclude target\n",
    "\n",
    "# Encode & scale\n",
    "from sklearn.compose import ColumnTransformer\n",
    "from sklearn.pipeline import Pipeline\n",
    "from sklearn.preprocessing import OneHotEncoder, StandardScaler\n",
    "\n",
    "try:\n",
    "    ohe = OneHotEncoder(handle_unknown=\"ignore\", sparse_output=False)\n",
    "except TypeError:\n",
    "    # older sklearn\n",
    "    ohe = OneHotEncoder(handle_unknown=\"ignore\", sparse=False)\n",
    "\n",
    "preprocess_A = ColumnTransformer([\n",
    "    (\"num\", Pipeline([(\"scaler\", StandardScaler())]), num_cols_A),\n",
    "    (\"cat\", ohe, cat_cols_A)\n",
    "])\n",
    "\n",
    "X_A = dfN.drop(columns=[\"complaint_type\"])\n",
    "y_A = dfN[\"complaint_type\"]\n",
    "XA = preprocess_A.fit_transform(X_A)\n",
    "print(\"NYC311 after FE -> X shape:\", XA.shape, \"| numeric cols:\", len(num_cols_A), \"| categorical cols:\", len(cat_cols_A))\n",
    "\n",
    "# Save cleaned snapshot\n",
    "a_csv = \"data/nyc311_clean_with_FE.csv\"\n",
    "dfN.to_csv(a_csv, index=False)\n",
    "print(\"Saved:\", a_csv)\n"
   ]
  },
  {
   "cell_type": "markdown",
   "id": "10dee474-60c6-469c-9fd1-2a0956af9c33",
   "metadata": {},
   "source": [
    "### Justification:\n",
    "\n",
    "Engineered Features:\n",
    "- is_weekend: returns 0 for the weekdays and 1 for the weekend, highlighting any patterns or changes relating to the weekend.\n",
    "- is_rush_hour: returns 0 for non-rush hour and 1 for complaints during rush hour, defined as 7 am to 10 am or 4 pm to 7 pm. This captures potential patterns relating to rush hour, such as delays due to traffic.\n",
    "- hour_sin and hour_cos: transform hours to fit a 24-hour cycle.\n",
    "- descriptor_len: counts number of words in complains, enabling model to measure short complaints and long complaints. \n",
    "- dist_km_cityhall: calculates distance from City Hall, highlighting patterns between locations far from City Hall vs. locations close to City Hall.\n",
    "- geo_cell: condenses latitudes and longitudes to help model identify neighborhood-related patterns without too many variables or noise.\n",
    "  \n",
    "We one-hot encoded categorical columns to prevent model from assuming there is an order between the categories. Numeric features were scaled to ensure there is a similar range, preventing dominance of larger variables or neglect of smaller variables. The handle_unknown=\"ignore\" prevents model breakdown if new data appears later on during training. Finally, we saved a clean CSV snapshot so the processed data can be reloaded in the future, without repeating the preprocessing steps."
   ]
  },
  {
   "cell_type": "markdown",
   "id": "7eca40ad",
   "metadata": {
    "id": "7eca40ad"
   },
   "source": [
    "\n",
    "## Dataset B — Open-Meteo Air Quality (API, no key)\n",
    "\n",
    "**API**: `https://air-quality-api.open-meteo.com/v1/air-quality`  \n",
    "**Task**: Regression on `pm2_5` (hourly Los Angeles).  \n",
    "We keep the date window **< 5,000 rows**.\n"
   ]
  },
  {
   "cell_type": "code",
   "execution_count": 137,
   "id": "f897325a",
   "metadata": {
    "colab": {
     "base_uri": "https://localhost:8080/"
    },
    "id": "f897325a",
    "outputId": "8d68894a-3dd5-4d04-b816-8fbb90fc39fe"
   },
   "outputs": [
    {
     "name": "stdout",
     "output_type": "stream",
     "text": [
      "Open-Meteo raw shape: (4344, 5)\n",
      "Open-Meteo hourly rows: 4344\n"
     ]
    }
   ],
   "source": [
    "\n",
    "# Open-Meteo fetch with CORRECT variable names\n",
    "LAT, LON = 34.0522, -118.2437   # Los Angeles\n",
    "START_DATE = \"2025-02-01\"\n",
    "END_DATE   = \"2025-07-31\"\n",
    "# 181*24 ≈ 4344 rows (within 3000–5000)\n",
    "VARS = [\"pm2_5\", \"pm10\", \"nitrogen_dioxide\", \"ozone\"]\n",
    "TIMEZONE = \"America/Los_Angeles\"\n",
    "BASE = \"https://air-quality-api.open-meteo.com/v1/air-quality\"\n",
    "\n",
    "params = {\n",
    "    \"latitude\": LAT,\n",
    "    \"longitude\": LON,\n",
    "    \"start_date\": START_DATE,\n",
    "    \"end_date\": END_DATE,\n",
    "    \"hourly\": \",\".join(VARS),\n",
    "    \"timezone\": TIMEZONE\n",
    "}\n",
    "\n",
    "r = requests.get(BASE, params=params, timeout=60)\n",
    "if r.status_code != 200:\n",
    "    print(\"Status:\", r.status_code)\n",
    "    try:\n",
    "        print(\"Error:\", r.json())\n",
    "    except Exception:\n",
    "        print(\"Text:\", r.text[:600])\n",
    "    raise SystemExit(\"Open-Meteo request failed\")\n",
    "\n",
    "js = r.json()\n",
    "hourly = js.get(\"hourly\", {}) or {}\n",
    "times = hourly.get(\"time\", []) or []\n",
    "if not times:\n",
    "    raise RuntimeError(\"No hourly data returned. Adjust dates/variables.\")\n",
    "\n",
    "# Align arrays to time length\n",
    "n = len(times)\n",
    "df_q = pd.DataFrame({\"time\": pd.to_datetime(times, errors=\"coerce\")})\n",
    "for k, arr in hourly.items():\n",
    "    if k == \"time\":\n",
    "        continue\n",
    "    vals = list(arr or [])\n",
    "    if len(vals) < n:\n",
    "        vals += [None] * (n - len(vals))\n",
    "    elif len(vals) > n:\n",
    "        vals = vals[:n]\n",
    "    df_q[k] = pd.to_numeric(pd.Series(vals), errors=\"coerce\")\n",
    "\n",
    "print(\"Open-Meteo raw shape:\", df_q.shape)\n",
    "df_q.head(3)\n",
    "\n",
    "\n",
    "# Row-count check for Dataset B (expect 3000–5000)\n",
    "min_rows, max_rows = 3000, 5000\n",
    "n_rows = len(df_q)\n",
    "print('Open-Meteo hourly rows:', n_rows)\n",
    "assert min_rows <= n_rows < max_rows, (\n",
    "    f'Open-Meteo rows should be in [{min_rows},{max_rows}); got {n_rows}. Try widening/narrowing the date window.')\n"
   ]
  },
  {
   "cell_type": "code",
   "execution_count": 138,
   "id": "a2119ab3",
   "metadata": {
    "colab": {
     "base_uri": "https://localhost:8080/"
    },
    "id": "a2119ab3",
    "outputId": "f64963f2-dd16-49a4-811a-f88a55774c8b"
   },
   "outputs": [
    {
     "name": "stdout",
     "output_type": "stream",
     "text": [
      "Saved: data/openmeteo_raw.json\n"
     ]
    },
    {
     "data": {
      "text/html": [
       "<div>\n",
       "<style scoped>\n",
       "    .dataframe tbody tr th:only-of-type {\n",
       "        vertical-align: middle;\n",
       "    }\n",
       "\n",
       "    .dataframe tbody tr th {\n",
       "        vertical-align: top;\n",
       "    }\n",
       "\n",
       "    .dataframe thead th {\n",
       "        text-align: right;\n",
       "    }\n",
       "</style>\n",
       "<table border=\"1\" class=\"dataframe\">\n",
       "  <thead>\n",
       "    <tr style=\"text-align: right;\">\n",
       "      <th></th>\n",
       "      <th>time</th>\n",
       "      <th>pm2_5</th>\n",
       "      <th>pm10</th>\n",
       "      <th>nitrogen_dioxide</th>\n",
       "      <th>ozone</th>\n",
       "    </tr>\n",
       "  </thead>\n",
       "  <tbody>\n",
       "    <tr>\n",
       "      <th>0</th>\n",
       "      <td>2025-02-01 00:00:00</td>\n",
       "      <td>56.6</td>\n",
       "      <td>57.9</td>\n",
       "      <td>78.7</td>\n",
       "      <td>0.0</td>\n",
       "    </tr>\n",
       "    <tr>\n",
       "      <th>1</th>\n",
       "      <td>2025-02-01 01:00:00</td>\n",
       "      <td>57.0</td>\n",
       "      <td>58.1</td>\n",
       "      <td>75.3</td>\n",
       "      <td>0.0</td>\n",
       "    </tr>\n",
       "    <tr>\n",
       "      <th>2</th>\n",
       "      <td>2025-02-01 02:00:00</td>\n",
       "      <td>55.1</td>\n",
       "      <td>55.9</td>\n",
       "      <td>72.1</td>\n",
       "      <td>0.0</td>\n",
       "    </tr>\n",
       "    <tr>\n",
       "      <th>3</th>\n",
       "      <td>2025-02-01 03:00:00</td>\n",
       "      <td>54.7</td>\n",
       "      <td>55.3</td>\n",
       "      <td>70.1</td>\n",
       "      <td>0.0</td>\n",
       "    </tr>\n",
       "    <tr>\n",
       "      <th>4</th>\n",
       "      <td>2025-02-01 04:00:00</td>\n",
       "      <td>51.5</td>\n",
       "      <td>51.9</td>\n",
       "      <td>68.3</td>\n",
       "      <td>0.0</td>\n",
       "    </tr>\n",
       "    <tr>\n",
       "      <th>...</th>\n",
       "      <td>...</td>\n",
       "      <td>...</td>\n",
       "      <td>...</td>\n",
       "      <td>...</td>\n",
       "      <td>...</td>\n",
       "    </tr>\n",
       "    <tr>\n",
       "      <th>4339</th>\n",
       "      <td>2025-07-31 19:00:00</td>\n",
       "      <td>15.1</td>\n",
       "      <td>16.2</td>\n",
       "      <td>28.5</td>\n",
       "      <td>63.0</td>\n",
       "    </tr>\n",
       "    <tr>\n",
       "      <th>4340</th>\n",
       "      <td>2025-07-31 20:00:00</td>\n",
       "      <td>15.3</td>\n",
       "      <td>16.4</td>\n",
       "      <td>34.7</td>\n",
       "      <td>48.0</td>\n",
       "    </tr>\n",
       "    <tr>\n",
       "      <th>4341</th>\n",
       "      <td>2025-07-31 21:00:00</td>\n",
       "      <td>15.9</td>\n",
       "      <td>16.8</td>\n",
       "      <td>41.9</td>\n",
       "      <td>34.0</td>\n",
       "    </tr>\n",
       "    <tr>\n",
       "      <th>4342</th>\n",
       "      <td>2025-07-31 22:00:00</td>\n",
       "      <td>17.3</td>\n",
       "      <td>18.1</td>\n",
       "      <td>49.7</td>\n",
       "      <td>21.0</td>\n",
       "    </tr>\n",
       "    <tr>\n",
       "      <th>4343</th>\n",
       "      <td>2025-07-31 23:00:00</td>\n",
       "      <td>20.7</td>\n",
       "      <td>21.4</td>\n",
       "      <td>55.8</td>\n",
       "      <td>11.0</td>\n",
       "    </tr>\n",
       "  </tbody>\n",
       "</table>\n",
       "<p>4344 rows × 5 columns</p>\n",
       "</div>"
      ],
      "text/plain": [
       "                    time  pm2_5  pm10  nitrogen_dioxide  ozone\n",
       "0    2025-02-01 00:00:00   56.6  57.9              78.7    0.0\n",
       "1    2025-02-01 01:00:00   57.0  58.1              75.3    0.0\n",
       "2    2025-02-01 02:00:00   55.1  55.9              72.1    0.0\n",
       "3    2025-02-01 03:00:00   54.7  55.3              70.1    0.0\n",
       "4    2025-02-01 04:00:00   51.5  51.9              68.3    0.0\n",
       "...                  ...    ...   ...               ...    ...\n",
       "4339 2025-07-31 19:00:00   15.1  16.2              28.5   63.0\n",
       "4340 2025-07-31 20:00:00   15.3  16.4              34.7   48.0\n",
       "4341 2025-07-31 21:00:00   15.9  16.8              41.9   34.0\n",
       "4342 2025-07-31 22:00:00   17.3  18.1              49.7   21.0\n",
       "4343 2025-07-31 23:00:00   20.7  21.4              55.8   11.0\n",
       "\n",
       "[4344 rows x 5 columns]"
      ]
     },
     "execution_count": 138,
     "metadata": {},
     "output_type": "execute_result"
    }
   ],
   "source": [
    "# Save raw Open-Meteo (for GitHub provenance)\n",
    "os.makedirs(\"data\", exist_ok=True)\n",
    "pd.Series(hourly).to_json(\"data/openmeteo_raw.json\", orient=\"values\")\n",
    "print(\"Saved:\", \"data/openmeteo_raw.json\")\n",
    "\n",
    "df_q"
   ]
  },
  {
   "cell_type": "markdown",
   "id": "a2779597-c524-4a25-9759-0e667cba5168",
   "metadata": {},
   "source": [
    "### Engineering Challanges:\n",
    "\n",
    "The data includes variables with various scales, like ozone and hours, in different ranges. Similarly, there are extreme values in categories, such as pm2_5 and ozone, which can introduce noise or hinder model performance.  "
   ]
  },
  {
   "cell_type": "markdown",
   "id": "282e2914",
   "metadata": {
    "id": "282e2914"
   },
   "source": [
    "\n",
    "### Cleaning & Base Features (Open-Meteo)\n",
    "- Sort by time; derive `hour`, `dow`.\n",
    "- (We impute & clip after FE so engineered columns get processed too.)\n"
   ]
  },
  {
   "cell_type": "code",
   "execution_count": 139,
   "id": "391959d9",
   "metadata": {
    "colab": {
     "base_uri": "https://localhost:8080/",
     "height": 161
    },
    "id": "391959d9",
    "outputId": "2662d986-eec6-498f-b2f3-54b80fbb218f"
   },
   "outputs": [
    {
     "name": "stdout",
     "output_type": "stream",
     "text": [
      "Base columns: ['time', 'pm2_5', 'pm10', 'nitrogen_dioxide', 'ozone', 'hour', 'dow']\n"
     ]
    },
    {
     "data": {
      "text/html": [
       "<div>\n",
       "<style scoped>\n",
       "    .dataframe tbody tr th:only-of-type {\n",
       "        vertical-align: middle;\n",
       "    }\n",
       "\n",
       "    .dataframe tbody tr th {\n",
       "        vertical-align: top;\n",
       "    }\n",
       "\n",
       "    .dataframe thead th {\n",
       "        text-align: right;\n",
       "    }\n",
       "</style>\n",
       "<table border=\"1\" class=\"dataframe\">\n",
       "  <thead>\n",
       "    <tr style=\"text-align: right;\">\n",
       "      <th></th>\n",
       "      <th>time</th>\n",
       "      <th>pm2_5</th>\n",
       "      <th>pm10</th>\n",
       "      <th>nitrogen_dioxide</th>\n",
       "      <th>ozone</th>\n",
       "      <th>hour</th>\n",
       "      <th>dow</th>\n",
       "    </tr>\n",
       "  </thead>\n",
       "  <tbody>\n",
       "    <tr>\n",
       "      <th>0</th>\n",
       "      <td>2025-02-01 00:00:00</td>\n",
       "      <td>56.6</td>\n",
       "      <td>57.9</td>\n",
       "      <td>78.7</td>\n",
       "      <td>0.0</td>\n",
       "      <td>0</td>\n",
       "      <td>5</td>\n",
       "    </tr>\n",
       "    <tr>\n",
       "      <th>1</th>\n",
       "      <td>2025-02-01 01:00:00</td>\n",
       "      <td>57.0</td>\n",
       "      <td>58.1</td>\n",
       "      <td>75.3</td>\n",
       "      <td>0.0</td>\n",
       "      <td>1</td>\n",
       "      <td>5</td>\n",
       "    </tr>\n",
       "    <tr>\n",
       "      <th>2</th>\n",
       "      <td>2025-02-01 02:00:00</td>\n",
       "      <td>55.1</td>\n",
       "      <td>55.9</td>\n",
       "      <td>72.1</td>\n",
       "      <td>0.0</td>\n",
       "      <td>2</td>\n",
       "      <td>5</td>\n",
       "    </tr>\n",
       "  </tbody>\n",
       "</table>\n",
       "</div>"
      ],
      "text/plain": [
       "                 time  pm2_5  pm10  nitrogen_dioxide  ozone  hour  dow\n",
       "0 2025-02-01 00:00:00   56.6  57.9              78.7    0.0     0    5\n",
       "1 2025-02-01 01:00:00   57.0  58.1              75.3    0.0     1    5\n",
       "2 2025-02-01 02:00:00   55.1  55.9              72.1    0.0     2    5"
      ]
     },
     "execution_count": 139,
     "metadata": {},
     "output_type": "execute_result"
    }
   ],
   "source": [
    "dfQ = df_q.copy().sort_values(\"time\").reset_index(drop=True)\n",
    "# Set hour variable to measure by time.\n",
    "dfQ[\"hour\"] = dfQ[\"time\"].dt.hour\n",
    "# Set day variable to measure by day of week.\n",
    "dfQ[\"dow\"]  = dfQ[\"time\"].dt.dayofweek\n",
    "\n",
    "print(\"Base columns:\", dfQ.columns.tolist())\n",
    "dfQ.head(3)"
   ]
  },
  {
   "cell_type": "markdown",
   "id": "fc5217be",
   "metadata": {
    "id": "fc5217be"
   },
   "source": [
    "\n",
    "## 2. Feature Engineering — Open-Meteo\n",
    "\n",
    "**Features we add (with rationale):**  \n",
    "- `pm_frac_fine = pm2_5 / pm10` — composition balance (fine vs coarse).  \n",
    "- `no2_o3_ratio = nitrogen_dioxide / ozone` — photochemical/traffic regime proxy.  \n",
    "- `hour_sin`, `hour_cos` — cyclical diurnal pattern.  \n",
    "- `pm2_5_lag1`, `pm2_5_lag3`, `pm2_5_lag24` — persistence.  \n",
    "- `pm2_5_roll3`, `pm2_5_roll12`, `pm2_5_roll24` (one-step lag) — smoothed background.\n",
    "\n",
    "> **Evaluation tip:** Use **time-based splits** (no shuffle) to avoid leakage.\n"
   ]
  },
  {
   "cell_type": "code",
   "execution_count": 140,
   "id": "cf59359a",
   "metadata": {
    "colab": {
     "base_uri": "https://localhost:8080/",
     "height": 318
    },
    "id": "cf59359a",
    "outputId": "5f86449f-65ff-4531-dc02-ff8714d1b1f6"
   },
   "outputs": [
    {
     "name": "stdout",
     "output_type": "stream",
     "text": [
      "Engineered columns added: ['pm_frac_fine', 'no2_o3_ratio', 'hour_sin', 'hour_cos', 'pm2_5_lag1', 'pm2_5_lag3', 'pm2_5_lag24', 'pm2_5_roll3'] ...\n"
     ]
    },
    {
     "data": {
      "text/html": [
       "<div>\n",
       "<style scoped>\n",
       "    .dataframe tbody tr th:only-of-type {\n",
       "        vertical-align: middle;\n",
       "    }\n",
       "\n",
       "    .dataframe tbody tr th {\n",
       "        vertical-align: top;\n",
       "    }\n",
       "\n",
       "    .dataframe thead th {\n",
       "        text-align: right;\n",
       "    }\n",
       "</style>\n",
       "<table border=\"1\" class=\"dataframe\">\n",
       "  <thead>\n",
       "    <tr style=\"text-align: right;\">\n",
       "      <th></th>\n",
       "      <th>time</th>\n",
       "      <th>pm2_5</th>\n",
       "      <th>pm10</th>\n",
       "      <th>nitrogen_dioxide</th>\n",
       "      <th>ozone</th>\n",
       "      <th>hour</th>\n",
       "      <th>dow</th>\n",
       "      <th>pm_frac_fine</th>\n",
       "      <th>no2_o3_ratio</th>\n",
       "      <th>hour_sin</th>\n",
       "      <th>hour_cos</th>\n",
       "      <th>pm2_5_lag1</th>\n",
       "      <th>pm2_5_lag3</th>\n",
       "      <th>pm2_5_lag24</th>\n",
       "      <th>pm2_5_roll3</th>\n",
       "      <th>pm2_5_roll12</th>\n",
       "      <th>pm2_5_roll24</th>\n",
       "    </tr>\n",
       "  </thead>\n",
       "  <tbody>\n",
       "    <tr>\n",
       "      <th>0</th>\n",
       "      <td>2025-02-01 00:00:00</td>\n",
       "      <td>56.6</td>\n",
       "      <td>57.9</td>\n",
       "      <td>78.7</td>\n",
       "      <td>0.0</td>\n",
       "      <td>0</td>\n",
       "      <td>5</td>\n",
       "      <td>0.977547</td>\n",
       "      <td>10.0</td>\n",
       "      <td>0.000000</td>\n",
       "      <td>1.000000e+00</td>\n",
       "      <td>NaN</td>\n",
       "      <td>NaN</td>\n",
       "      <td>NaN</td>\n",
       "      <td>NaN</td>\n",
       "      <td>NaN</td>\n",
       "      <td>NaN</td>\n",
       "    </tr>\n",
       "    <tr>\n",
       "      <th>1</th>\n",
       "      <td>2025-02-01 01:00:00</td>\n",
       "      <td>57.0</td>\n",
       "      <td>58.1</td>\n",
       "      <td>75.3</td>\n",
       "      <td>0.0</td>\n",
       "      <td>1</td>\n",
       "      <td>5</td>\n",
       "      <td>0.981067</td>\n",
       "      <td>10.0</td>\n",
       "      <td>0.258819</td>\n",
       "      <td>9.659258e-01</td>\n",
       "      <td>56.6</td>\n",
       "      <td>NaN</td>\n",
       "      <td>NaN</td>\n",
       "      <td>56.600000</td>\n",
       "      <td>56.600000</td>\n",
       "      <td>56.600000</td>\n",
       "    </tr>\n",
       "    <tr>\n",
       "      <th>2</th>\n",
       "      <td>2025-02-01 02:00:00</td>\n",
       "      <td>55.1</td>\n",
       "      <td>55.9</td>\n",
       "      <td>72.1</td>\n",
       "      <td>0.0</td>\n",
       "      <td>2</td>\n",
       "      <td>5</td>\n",
       "      <td>0.985689</td>\n",
       "      <td>10.0</td>\n",
       "      <td>0.500000</td>\n",
       "      <td>8.660254e-01</td>\n",
       "      <td>57.0</td>\n",
       "      <td>NaN</td>\n",
       "      <td>NaN</td>\n",
       "      <td>56.800000</td>\n",
       "      <td>56.800000</td>\n",
       "      <td>56.800000</td>\n",
       "    </tr>\n",
       "    <tr>\n",
       "      <th>3</th>\n",
       "      <td>2025-02-01 03:00:00</td>\n",
       "      <td>54.7</td>\n",
       "      <td>55.3</td>\n",
       "      <td>70.1</td>\n",
       "      <td>0.0</td>\n",
       "      <td>3</td>\n",
       "      <td>5</td>\n",
       "      <td>0.989150</td>\n",
       "      <td>10.0</td>\n",
       "      <td>0.707107</td>\n",
       "      <td>7.071068e-01</td>\n",
       "      <td>55.1</td>\n",
       "      <td>56.6</td>\n",
       "      <td>NaN</td>\n",
       "      <td>56.233333</td>\n",
       "      <td>56.233333</td>\n",
       "      <td>56.233333</td>\n",
       "    </tr>\n",
       "    <tr>\n",
       "      <th>4</th>\n",
       "      <td>2025-02-01 04:00:00</td>\n",
       "      <td>51.5</td>\n",
       "      <td>51.9</td>\n",
       "      <td>68.3</td>\n",
       "      <td>0.0</td>\n",
       "      <td>4</td>\n",
       "      <td>5</td>\n",
       "      <td>0.992293</td>\n",
       "      <td>10.0</td>\n",
       "      <td>0.866025</td>\n",
       "      <td>5.000000e-01</td>\n",
       "      <td>54.7</td>\n",
       "      <td>57.0</td>\n",
       "      <td>NaN</td>\n",
       "      <td>55.600000</td>\n",
       "      <td>55.850000</td>\n",
       "      <td>55.850000</td>\n",
       "    </tr>\n",
       "    <tr>\n",
       "      <th>5</th>\n",
       "      <td>2025-02-01 05:00:00</td>\n",
       "      <td>24.5</td>\n",
       "      <td>25.0</td>\n",
       "      <td>58.6</td>\n",
       "      <td>3.0</td>\n",
       "      <td>5</td>\n",
       "      <td>5</td>\n",
       "      <td>0.980000</td>\n",
       "      <td>10.0</td>\n",
       "      <td>0.965926</td>\n",
       "      <td>2.588190e-01</td>\n",
       "      <td>51.5</td>\n",
       "      <td>55.1</td>\n",
       "      <td>NaN</td>\n",
       "      <td>53.766667</td>\n",
       "      <td>54.980000</td>\n",
       "      <td>54.980000</td>\n",
       "    </tr>\n",
       "    <tr>\n",
       "      <th>6</th>\n",
       "      <td>2025-02-01 06:00:00</td>\n",
       "      <td>23.9</td>\n",
       "      <td>24.4</td>\n",
       "      <td>58.6</td>\n",
       "      <td>2.0</td>\n",
       "      <td>6</td>\n",
       "      <td>5</td>\n",
       "      <td>0.979508</td>\n",
       "      <td>10.0</td>\n",
       "      <td>1.000000</td>\n",
       "      <td>6.123234e-17</td>\n",
       "      <td>24.5</td>\n",
       "      <td>54.7</td>\n",
       "      <td>NaN</td>\n",
       "      <td>43.566667</td>\n",
       "      <td>49.900000</td>\n",
       "      <td>49.900000</td>\n",
       "    </tr>\n",
       "    <tr>\n",
       "      <th>7</th>\n",
       "      <td>2025-02-01 07:00:00</td>\n",
       "      <td>24.1</td>\n",
       "      <td>24.7</td>\n",
       "      <td>58.6</td>\n",
       "      <td>0.0</td>\n",
       "      <td>7</td>\n",
       "      <td>5</td>\n",
       "      <td>0.975708</td>\n",
       "      <td>10.0</td>\n",
       "      <td>0.965926</td>\n",
       "      <td>-2.588190e-01</td>\n",
       "      <td>23.9</td>\n",
       "      <td>51.5</td>\n",
       "      <td>NaN</td>\n",
       "      <td>33.300000</td>\n",
       "      <td>46.185714</td>\n",
       "      <td>46.185714</td>\n",
       "    </tr>\n",
       "  </tbody>\n",
       "</table>\n",
       "</div>"
      ],
      "text/plain": [
       "                 time  pm2_5  pm10  nitrogen_dioxide  ozone  hour  dow  \\\n",
       "0 2025-02-01 00:00:00   56.6  57.9              78.7    0.0     0    5   \n",
       "1 2025-02-01 01:00:00   57.0  58.1              75.3    0.0     1    5   \n",
       "2 2025-02-01 02:00:00   55.1  55.9              72.1    0.0     2    5   \n",
       "3 2025-02-01 03:00:00   54.7  55.3              70.1    0.0     3    5   \n",
       "4 2025-02-01 04:00:00   51.5  51.9              68.3    0.0     4    5   \n",
       "5 2025-02-01 05:00:00   24.5  25.0              58.6    3.0     5    5   \n",
       "6 2025-02-01 06:00:00   23.9  24.4              58.6    2.0     6    5   \n",
       "7 2025-02-01 07:00:00   24.1  24.7              58.6    0.0     7    5   \n",
       "\n",
       "   pm_frac_fine  no2_o3_ratio  hour_sin      hour_cos  pm2_5_lag1  pm2_5_lag3  \\\n",
       "0      0.977547          10.0  0.000000  1.000000e+00         NaN         NaN   \n",
       "1      0.981067          10.0  0.258819  9.659258e-01        56.6         NaN   \n",
       "2      0.985689          10.0  0.500000  8.660254e-01        57.0         NaN   \n",
       "3      0.989150          10.0  0.707107  7.071068e-01        55.1        56.6   \n",
       "4      0.992293          10.0  0.866025  5.000000e-01        54.7        57.0   \n",
       "5      0.980000          10.0  0.965926  2.588190e-01        51.5        55.1   \n",
       "6      0.979508          10.0  1.000000  6.123234e-17        24.5        54.7   \n",
       "7      0.975708          10.0  0.965926 -2.588190e-01        23.9        51.5   \n",
       "\n",
       "   pm2_5_lag24  pm2_5_roll3  pm2_5_roll12  pm2_5_roll24  \n",
       "0          NaN          NaN           NaN           NaN  \n",
       "1          NaN    56.600000     56.600000     56.600000  \n",
       "2          NaN    56.800000     56.800000     56.800000  \n",
       "3          NaN    56.233333     56.233333     56.233333  \n",
       "4          NaN    55.600000     55.850000     55.850000  \n",
       "5          NaN    53.766667     54.980000     54.980000  \n",
       "6          NaN    43.566667     49.900000     49.900000  \n",
       "7          NaN    33.300000     46.185714     46.185714  "
      ]
     },
     "execution_count": 140,
     "metadata": {},
     "output_type": "execute_result"
    }
   ],
   "source": [
    "import numpy as np\n",
    "\n",
    "# Ratios with epsilon guard\n",
    "eps = 1e-6\n",
    "if \"pm10\" in dfQ.columns:\n",
    "    dfQ[\"pm_frac_fine\"] = (dfQ[\"pm2_5\"] / (dfQ[\"pm10\"] + eps)).clip(upper=2.0)\n",
    "else:\n",
    "    dfQ[\"pm_frac_fine\"] = np.nan\n",
    "\n",
    "if \"nitrogen_dioxide\" in dfQ.columns and \"ozone\" in dfQ.columns:\n",
    "    dfQ[\"no2_o3_ratio\"] = (dfQ[\"nitrogen_dioxide\"] / (dfQ[\"ozone\"] + eps)).clip(upper=10.0)\n",
    "else:\n",
    "    dfQ[\"no2_o3_ratio\"] = np.nan\n",
    "\n",
    "# Cyclical hour\n",
    "dfQ[\"hour_sin\"] = np.sin(2*np.pi*dfQ[\"hour\"]/24.0)\n",
    "dfQ[\"hour_cos\"] = np.cos(2*np.pi*dfQ[\"hour\"]/24.0)\n",
    "\n",
    "# Autoregressive lags\n",
    "for k in [1, 3, 24]:\n",
    "    dfQ[f\"pm2_5_lag{k}\"] = dfQ[\"pm2_5\"].shift(k)\n",
    "\n",
    "# Rolling means (with one-step lag)\n",
    "for w in [3, 12, 24]:\n",
    "    dfQ[f\"pm2_5_roll{w}\"] = dfQ[\"pm2_5\"].rolling(window=w, min_periods=1).mean().shift(1)\n",
    "\n",
    "print(\"Engineered columns added:\", [c for c in dfQ.columns if \"lag\" in c or \"roll\" in c or c in [\"pm_frac_fine\",\"no2_o3_ratio\",\"hour_sin\",\"hour_cos\"]][:8], \"...\")\n",
    "dfQ.head(8)\n"
   ]
  },
  {
   "cell_type": "markdown",
   "id": "e78af605",
   "metadata": {
    "id": "e78af605"
   },
   "source": [
    "\n",
    "### Imputation, Outliers & Preprocessing (Open-Meteo)\n",
    "We impute all predictor numerics (median), **IQR-clip** target & predictors, and standardize.\n"
   ]
  },
  {
   "cell_type": "code",
   "execution_count": 141,
   "id": "101e3751",
   "metadata": {
    "colab": {
     "base_uri": "https://localhost:8080/"
    },
    "id": "101e3751",
    "outputId": "0a1ca3f5-f45b-4207-cf0c-ec17e29b0cd3"
   },
   "outputs": [
    {
     "name": "stdout",
     "output_type": "stream",
     "text": [
      "Open-Meteo after FE -> X shape: (4344, 15) | numeric cols: 15\n",
      "Saved: data/openmeteo_la_pm25_with_FE.csv\n"
     ]
    }
   ],
   "source": [
    "\n",
    "# Numeric predictors to scale (exclude target)\n",
    "num_cols_B = [c for c in [\n",
    "    \"pm10\", \"nitrogen_dioxide\", \"ozone\", \"hour\", \"dow\",\n",
    "    \"pm_frac_fine\", \"no2_o3_ratio\", \"hour_sin\", \"hour_cos\",\n",
    "    \"pm2_5_lag1\", \"pm2_5_lag3\", \"pm2_5_lag24\",\n",
    "    \"pm2_5_roll3\", \"pm2_5_roll12\", \"pm2_5_roll24\"\n",
    "] if c in dfQ.columns]\n",
    "\n",
    "# Impute, clip, scale\n",
    "num_imputer_B = SimpleImputer(strategy=\"median\")\n",
    "dfQ[num_cols_B] = num_imputer_B.fit_transform(dfQ[num_cols_B])\n",
    "\n",
    "clip_cols = [c for c in [\"pm2_5\"] + num_cols_B if c in dfQ.columns]\n",
    "dfQ[clip_cols] = IQRClipper().fit_transform(dfQ[clip_cols])\n",
    "\n",
    "from sklearn.compose import ColumnTransformer\n",
    "from sklearn.pipeline import Pipeline\n",
    "from sklearn.preprocessing import StandardScaler\n",
    "\n",
    "preprocess_B = ColumnTransformer([\n",
    "    (\"num\", Pipeline([(\"scaler\", StandardScaler())]), num_cols_B)\n",
    "], remainder=\"drop\")\n",
    "\n",
    "if \"pm2_5\" not in dfQ.columns:\n",
    "    raise RuntimeError(\"pm2_5 not present; adjust date window.\")\n",
    "\n",
    "X_B = dfQ.drop(columns=[\"time\", \"pm2_5\"], errors=\"ignore\")\n",
    "y_B = dfQ[\"pm2_5\"]\n",
    "\n",
    "XB = preprocess_B.fit_transform(X_B)\n",
    "print(\"Open-Meteo after FE -> X shape:\", XB.shape, \"| numeric cols:\", len(num_cols_B))\n",
    "\n",
    "# Save cleaned snapshot\n",
    "b_csv = \"data/openmeteo_la_pm25_with_FE.csv\"\n",
    "dfQ.to_csv(b_csv, index=False)\n",
    "print(\"Saved:\", b_csv)\n"
   ]
  },
  {
   "cell_type": "markdown",
   "id": "c5018a1c-2e73-4692-bdd6-bacb5006f7b6",
   "metadata": {},
   "source": [
    "### Justification:\n",
    "\n",
    "Engineered Features: \n",
    "\n",
    "- pm_frac_fine: calculates ratio of fine particles in total particles, displaying prevelance of tiny particles in air pollution.\n",
    "- no2_03_ratio: comparison between nitrogen dioxide and ozone to determine which time of pollution is more common.\n",
    "- hour_sin and hour_cos: transform hours to fit 24-hour cycle.\n",
    "- pm2_5lag1, lag3, and lag_24: calculates pm2_5 levels 1 hour, 3 hours, and 24 hours before, enabling model predictions based on past data.\n",
    "- pm2_5 roll3, roll12, and roll_24: smoothen averages of pm2_5 3 hours, 12 hours, and 24 hours before, providing models with a more precise level of pollution.\n",
    "\n",
    "The numerical values were replaced with median values and extreme outliers were clipped, reducing chance of error or noise in model training. These values were then scaled to ensure a consistent scale. Finally, we saved a clean CSV snapshot so processed data can be reused in the future, without repeating the preprocessing steps."
   ]
  },
  {
   "cell_type": "markdown",
   "id": "4deeb55b",
   "metadata": {
    "id": "4deeb55b"
   },
   "source": [
    "\n",
    "## Quick EDA Checks\n"
   ]
  },
  {
   "cell_type": "code",
   "execution_count": 142,
   "id": "45448f24",
   "metadata": {
    "colab": {
     "base_uri": "https://localhost:8080/",
     "height": 957
    },
    "id": "45448f24",
    "outputId": "fd805f8d-88bc-4c70-d914-2b5579b88d23"
   },
   "outputs": [
    {
     "data": {
      "image/png": "[encoded data removed]",
      "text/plain": [
       "<Figure size 640x480 with 1 Axes>"
      ]
     },
     "metadata": {},
     "output_type": "display_data"
    },
    {
     "data": {
      "image/png": "[encoded data removed]",
      "text/plain": [
       "<Figure size 640x480 with 1 Axes>"
      ]
     },
     "metadata": {},
     "output_type": "display_data"
    }
   ],
   "source": [
    "# NYC311 - complaint distribution (top 15)\n",
    "if \"complaint_type\" in dfN.columns:\n",
    "    plt.figure()\n",
    "    dfN[\"complaint_type\"].value_counts().head(15).plot(kind=\"bar\")\n",
    "    plt.title(\"NYC311 Top Complaint Types (Top 15)\")\n",
    "    plt.xlabel(\"Complaint Type\")\n",
    "    plt.ylabel(\"Count\")\n",
    "    plt.tight_layout()\n",
    "    plt.show()\n",
    "\n",
    "# Open-Meteo - PM2.5 histogram\n",
    "if \"pm2_5\" in dfQ.columns:\n",
    "    plt.figure()\n",
    "    pd.Series(dfQ[\"pm2_5\"]).hist(bins=40)\n",
    "    plt.title(\"Open-Meteo PM2.5 Distribution (Hourly)\")\n",
    "    plt.xlabel(\"PM2.5\")\n",
    "    plt.ylabel(\"Frequency\")\n",
    "    plt.tight_layout()\n",
    "    plt.show()\n"
   ]
  },
  {
   "cell_type": "code",
   "execution_count": 143,
   "id": "8bf9721c-71c5-43e5-b8c7-c4a89f6b6716",
   "metadata": {},
   "outputs": [
    {
     "name": "stdout",
     "output_type": "stream",
     "text": [
      "NYC311 Dataset Post-Feature\n",
      " \n",
      "<class 'pandas.core.frame.DataFrame'>\n",
      "RangeIndex: 4500 entries, 0 to 4499\n",
      "Data columns (total 17 columns):\n",
      " #   Column            Non-Null Count  Dtype  \n",
      "---  ------            --------------  -----  \n",
      " 0   agency            4500 non-null   object \n",
      " 1   complaint_type    4500 non-null   object \n",
      " 2   descriptor        4500 non-null   object \n",
      " 3   location_type     4500 non-null   object \n",
      " 4   borough           4500 non-null   object \n",
      " 5   latitude          4500 non-null   float64\n",
      " 6   longitude         4500 non-null   float64\n",
      " 7   response_hours    4500 non-null   float64\n",
      " 8   created_hour      4500 non-null   float64\n",
      " 9   created_dow       4500 non-null   float64\n",
      " 10  is_weekend        4500 non-null   int64  \n",
      " 11  is_rush_hour      4500 non-null   int64  \n",
      " 12  hour_sin          4500 non-null   float64\n",
      " 13  hour_cos          4500 non-null   float64\n",
      " 14  descriptor_len    4500 non-null   float64\n",
      " 15  dist_km_cityhall  4500 non-null   float64\n",
      " 16  geo_cell          4500 non-null   object \n",
      "dtypes: float64(9), int64(2), object(6)\n",
      "memory usage: 597.8+ KB\n",
      "None\n",
      " \n"
     ]
    },
    {
     "data": {
      "text/html": [
       "<div>\n",
       "<style scoped>\n",
       "    .dataframe tbody tr th:only-of-type {\n",
       "        vertical-align: middle;\n",
       "    }\n",
       "\n",
       "    .dataframe tbody tr th {\n",
       "        vertical-align: top;\n",
       "    }\n",
       "\n",
       "    .dataframe thead th {\n",
       "        text-align: right;\n",
       "    }\n",
       "</style>\n",
       "<table border=\"1\" class=\"dataframe\">\n",
       "  <thead>\n",
       "    <tr style=\"text-align: right;\">\n",
       "      <th></th>\n",
       "      <th>latitude</th>\n",
       "      <th>longitude</th>\n",
       "      <th>response_hours</th>\n",
       "      <th>created_hour</th>\n",
       "      <th>created_dow</th>\n",
       "      <th>is_weekend</th>\n",
       "      <th>is_rush_hour</th>\n",
       "      <th>hour_sin</th>\n",
       "      <th>hour_cos</th>\n",
       "      <th>descriptor_len</th>\n",
       "      <th>dist_km_cityhall</th>\n",
       "    </tr>\n",
       "  </thead>\n",
       "  <tbody>\n",
       "    <tr>\n",
       "      <th>count</th>\n",
       "      <td>4500.000000</td>\n",
       "      <td>4500.000000</td>\n",
       "      <td>4500.000000</td>\n",
       "      <td>4500.000000</td>\n",
       "      <td>4500.0</td>\n",
       "      <td>4500.0</td>\n",
       "      <td>4500.000000</td>\n",
       "      <td>4500.000000</td>\n",
       "      <td>4.500000e+03</td>\n",
       "      <td>4500.000000</td>\n",
       "      <td>4500.000000</td>\n",
       "    </tr>\n",
       "    <tr>\n",
       "      <th>mean</th>\n",
       "      <td>40.729051</td>\n",
       "      <td>-73.920787</td>\n",
       "      <td>0.840539</td>\n",
       "      <td>17.510333</td>\n",
       "      <td>2.0</td>\n",
       "      <td>0.0</td>\n",
       "      <td>0.470889</td>\n",
       "      <td>-0.641548</td>\n",
       "      <td>1.110170e-02</td>\n",
       "      <td>2.394222</td>\n",
       "      <td>11.919710</td>\n",
       "    </tr>\n",
       "    <tr>\n",
       "      <th>std</th>\n",
       "      <td>0.081757</td>\n",
       "      <td>0.072655</td>\n",
       "      <td>0.216621</td>\n",
       "      <td>3.803996</td>\n",
       "      <td>0.0</td>\n",
       "      <td>0.0</td>\n",
       "      <td>0.499207</td>\n",
       "      <td>0.472709</td>\n",
       "      <td>6.041268e-01</td>\n",
       "      <td>1.273514</td>\n",
       "      <td>5.732589</td>\n",
       "    </tr>\n",
       "    <tr>\n",
       "      <th>min</th>\n",
       "      <td>40.507754</td>\n",
       "      <td>-74.109617</td>\n",
       "      <td>0.509688</td>\n",
       "      <td>7.500000</td>\n",
       "      <td>2.0</td>\n",
       "      <td>0.0</td>\n",
       "      <td>0.000000</td>\n",
       "      <td>-1.000000</td>\n",
       "      <td>-8.660254e-01</td>\n",
       "      <td>1.000000</td>\n",
       "      <td>0.154959</td>\n",
       "    </tr>\n",
       "    <tr>\n",
       "      <th>25%</th>\n",
       "      <td>40.671004</td>\n",
       "      <td>-73.968192</td>\n",
       "      <td>0.757708</td>\n",
       "      <td>15.000000</td>\n",
       "      <td>2.0</td>\n",
       "      <td>0.0</td>\n",
       "      <td>0.000000</td>\n",
       "      <td>-0.965926</td>\n",
       "      <td>-5.000000e-01</td>\n",
       "      <td>2.000000</td>\n",
       "      <td>7.513358</td>\n",
       "    </tr>\n",
       "    <tr>\n",
       "      <th>50%</th>\n",
       "      <td>40.721959</td>\n",
       "      <td>-73.928192</td>\n",
       "      <td>0.836667</td>\n",
       "      <td>18.000000</td>\n",
       "      <td>2.0</td>\n",
       "      <td>0.0</td>\n",
       "      <td>0.000000</td>\n",
       "      <td>-0.707107</td>\n",
       "      <td>-1.836970e-16</td>\n",
       "      <td>2.000000</td>\n",
       "      <td>11.696405</td>\n",
       "    </tr>\n",
       "    <tr>\n",
       "      <th>75%</th>\n",
       "      <td>40.791603</td>\n",
       "      <td>-73.873909</td>\n",
       "      <td>0.923056</td>\n",
       "      <td>20.000000</td>\n",
       "      <td>2.0</td>\n",
       "      <td>0.0</td>\n",
       "      <td>1.000000</td>\n",
       "      <td>-0.500000</td>\n",
       "      <td>5.000000e-01</td>\n",
       "      <td>3.000000</td>\n",
       "      <td>16.354583</td>\n",
       "    </tr>\n",
       "    <tr>\n",
       "      <th>max</th>\n",
       "      <td>40.907711</td>\n",
       "      <td>-73.732484</td>\n",
       "      <td>1.171076</td>\n",
       "      <td>23.000000</td>\n",
       "      <td>2.0</td>\n",
       "      <td>0.0</td>\n",
       "      <td>1.000000</td>\n",
       "      <td>0.923880</td>\n",
       "      <td>9.659258e-01</td>\n",
       "      <td>8.000000</td>\n",
       "      <td>25.767544</td>\n",
       "    </tr>\n",
       "  </tbody>\n",
       "</table>\n",
       "</div>"
      ],
      "text/plain": [
       "          latitude    longitude  response_hours  created_hour  created_dow  \\\n",
       "count  4500.000000  4500.000000     4500.000000   4500.000000       4500.0   \n",
       "mean     40.729051   -73.920787        0.840539     17.510333          2.0   \n",
       "std       0.081757     0.072655        0.216621      3.803996          0.0   \n",
       "min      40.507754   -74.109617        0.509688      7.500000          2.0   \n",
       "25%      40.671004   -73.968192        0.757708     15.000000          2.0   \n",
       "50%      40.721959   -73.928192        0.836667     18.000000          2.0   \n",
       "75%      40.791603   -73.873909        0.923056     20.000000          2.0   \n",
       "max      40.907711   -73.732484        1.171076     23.000000          2.0   \n",
       "\n",
       "       is_weekend  is_rush_hour     hour_sin      hour_cos  descriptor_len  \\\n",
       "count      4500.0   4500.000000  4500.000000  4.500000e+03     4500.000000   \n",
       "mean          0.0      0.470889    -0.641548  1.110170e-02        2.394222   \n",
       "std           0.0      0.499207     0.472709  6.041268e-01        1.273514   \n",
       "min           0.0      0.000000    -1.000000 -8.660254e-01        1.000000   \n",
       "25%           0.0      0.000000    -0.965926 -5.000000e-01        2.000000   \n",
       "50%           0.0      0.000000    -0.707107 -1.836970e-16        2.000000   \n",
       "75%           0.0      1.000000    -0.500000  5.000000e-01        3.000000   \n",
       "max           0.0      1.000000     0.923880  9.659258e-01        8.000000   \n",
       "\n",
       "       dist_km_cityhall  \n",
       "count       4500.000000  \n",
       "mean          11.919710  \n",
       "std            5.732589  \n",
       "min            0.154959  \n",
       "25%            7.513358  \n",
       "50%           11.696405  \n",
       "75%           16.354583  \n",
       "max           25.767544  "
      ]
     },
     "execution_count": 143,
     "metadata": {},
     "output_type": "execute_result"
    }
   ],
   "source": [
    "print(\"NYC311 Dataset Post-Feature\")\n",
    "print(\" \")\n",
    "\n",
    "print(dfN.info())\n",
    "print(\" \")\n",
    "dfN.describe()"
   ]
  },
  {
   "cell_type": "code",
   "execution_count": 144,
   "id": "079ce336-c834-43b2-a107-7f15d250aa98",
   "metadata": {},
   "outputs": [
    {
     "name": "stdout",
     "output_type": "stream",
     "text": [
      "Air Quality Dataset Post-Feature Engineering:\n",
      " \n",
      "<class 'pandas.core.frame.DataFrame'>\n",
      "RangeIndex: 4344 entries, 0 to 4343\n",
      "Data columns (total 17 columns):\n",
      " #   Column            Non-Null Count  Dtype         \n",
      "---  ------            --------------  -----         \n",
      " 0   time              4344 non-null   datetime64[ns]\n",
      " 1   pm2_5             4344 non-null   float64       \n",
      " 2   pm10              4344 non-null   float64       \n",
      " 3   nitrogen_dioxide  4344 non-null   float64       \n",
      " 4   ozone             4344 non-null   float64       \n",
      " 5   hour              4344 non-null   float64       \n",
      " 6   dow               4344 non-null   float64       \n",
      " 7   pm_frac_fine      4344 non-null   float64       \n",
      " 8   no2_o3_ratio      4344 non-null   float64       \n",
      " 9   hour_sin          4344 non-null   float64       \n",
      " 10  hour_cos          4344 non-null   float64       \n",
      " 11  pm2_5_lag1        4344 non-null   float64       \n",
      " 12  pm2_5_lag3        4344 non-null   float64       \n",
      " 13  pm2_5_lag24       4344 non-null   float64       \n",
      " 14  pm2_5_roll3       4344 non-null   float64       \n",
      " 15  pm2_5_roll12      4344 non-null   float64       \n",
      " 16  pm2_5_roll24      4344 non-null   float64       \n",
      "dtypes: datetime64[ns](1), float64(16)\n",
      "memory usage: 577.1 KB\n",
      "None\n",
      " \n"
     ]
    },
    {
     "data": {
      "text/html": [
       "<div>\n",
       "<style scoped>\n",
       "    .dataframe tbody tr th:only-of-type {\n",
       "        vertical-align: middle;\n",
       "    }\n",
       "\n",
       "    .dataframe tbody tr th {\n",
       "        vertical-align: top;\n",
       "    }\n",
       "\n",
       "    .dataframe thead th {\n",
       "        text-align: right;\n",
       "    }\n",
       "</style>\n",
       "<table border=\"1\" class=\"dataframe\">\n",
       "  <thead>\n",
       "    <tr style=\"text-align: right;\">\n",
       "      <th></th>\n",
       "      <th>time</th>\n",
       "      <th>pm2_5</th>\n",
       "      <th>pm10</th>\n",
       "      <th>nitrogen_dioxide</th>\n",
       "      <th>ozone</th>\n",
       "      <th>hour</th>\n",
       "      <th>dow</th>\n",
       "      <th>pm_frac_fine</th>\n",
       "      <th>no2_o3_ratio</th>\n",
       "      <th>hour_sin</th>\n",
       "      <th>hour_cos</th>\n",
       "      <th>pm2_5_lag1</th>\n",
       "      <th>pm2_5_lag3</th>\n",
       "      <th>pm2_5_lag24</th>\n",
       "      <th>pm2_5_roll3</th>\n",
       "      <th>pm2_5_roll12</th>\n",
       "      <th>pm2_5_roll24</th>\n",
       "    </tr>\n",
       "  </thead>\n",
       "  <tbody>\n",
       "    <tr>\n",
       "      <th>count</th>\n",
       "      <td>4344</td>\n",
       "      <td>4344.000000</td>\n",
       "      <td>4344.000000</td>\n",
       "      <td>4344.000000</td>\n",
       "      <td>4344.000000</td>\n",
       "      <td>4344.000000</td>\n",
       "      <td>4344.000000</td>\n",
       "      <td>4344.000000</td>\n",
       "      <td>4344.000000</td>\n",
       "      <td>4.344000e+03</td>\n",
       "      <td>4.344000e+03</td>\n",
       "      <td>4344.000000</td>\n",
       "      <td>4344.000000</td>\n",
       "      <td>4344.000000</td>\n",
       "      <td>4344.000000</td>\n",
       "      <td>4344.000000</td>\n",
       "      <td>4344.000000</td>\n",
       "    </tr>\n",
       "    <tr>\n",
       "      <th>mean</th>\n",
       "      <td>2025-05-02 11:30:00</td>\n",
       "      <td>19.830654</td>\n",
       "      <td>22.559930</td>\n",
       "      <td>37.750173</td>\n",
       "      <td>53.809392</td>\n",
       "      <td>11.500000</td>\n",
       "      <td>2.994475</td>\n",
       "      <td>0.876969</td>\n",
       "      <td>1.467317</td>\n",
       "      <td>-1.758364e-17</td>\n",
       "      <td>-5.868030e-17</td>\n",
       "      <td>19.830263</td>\n",
       "      <td>19.831368</td>\n",
       "      <td>19.788133</td>\n",
       "      <td>19.848746</td>\n",
       "      <td>19.967305</td>\n",
       "      <td>20.073301</td>\n",
       "    </tr>\n",
       "    <tr>\n",
       "      <th>min</th>\n",
       "      <td>2025-02-01 00:00:00</td>\n",
       "      <td>2.200000</td>\n",
       "      <td>2.600000</td>\n",
       "      <td>3.300000</td>\n",
       "      <td>0.000000</td>\n",
       "      <td>0.000000</td>\n",
       "      <td>0.000000</td>\n",
       "      <td>0.664532</td>\n",
       "      <td>0.030841</td>\n",
       "      <td>-1.000000e+00</td>\n",
       "      <td>-1.000000e+00</td>\n",
       "      <td>2.200000</td>\n",
       "      <td>2.200000</td>\n",
       "      <td>2.200000</td>\n",
       "      <td>2.866667</td>\n",
       "      <td>3.833333</td>\n",
       "      <td>4.750000</td>\n",
       "    </tr>\n",
       "    <tr>\n",
       "      <th>25%</th>\n",
       "      <td>2025-03-18 05:45:00</td>\n",
       "      <td>14.300000</td>\n",
       "      <td>16.600000</td>\n",
       "      <td>18.900000</td>\n",
       "      <td>25.000000</td>\n",
       "      <td>5.750000</td>\n",
       "      <td>1.000000</td>\n",
       "      <td>0.828571</td>\n",
       "      <td>0.241954</td>\n",
       "      <td>-7.071068e-01</td>\n",
       "      <td>-7.071068e-01</td>\n",
       "      <td>14.300000</td>\n",
       "      <td>14.300000</td>\n",
       "      <td>14.300000</td>\n",
       "      <td>14.533333</td>\n",
       "      <td>15.464583</td>\n",
       "      <td>15.957292</td>\n",
       "    </tr>\n",
       "    <tr>\n",
       "      <th>50%</th>\n",
       "      <td>2025-05-02 11:30:00</td>\n",
       "      <td>19.000000</td>\n",
       "      <td>21.900000</td>\n",
       "      <td>31.000000</td>\n",
       "      <td>55.000000</td>\n",
       "      <td>11.500000</td>\n",
       "      <td>3.000000</td>\n",
       "      <td>0.888999</td>\n",
       "      <td>0.569464</td>\n",
       "      <td>6.123234e-17</td>\n",
       "      <td>-6.123234e-17</td>\n",
       "      <td>19.000000</td>\n",
       "      <td>19.000000</td>\n",
       "      <td>19.000000</td>\n",
       "      <td>19.066667</td>\n",
       "      <td>19.283333</td>\n",
       "      <td>19.800000</td>\n",
       "    </tr>\n",
       "    <tr>\n",
       "      <th>75%</th>\n",
       "      <td>2025-06-16 17:15:00</td>\n",
       "      <td>24.325000</td>\n",
       "      <td>27.525000</td>\n",
       "      <td>53.000000</td>\n",
       "      <td>81.000000</td>\n",
       "      <td>17.250000</td>\n",
       "      <td>5.000000</td>\n",
       "      <td>0.937931</td>\n",
       "      <td>2.074549</td>\n",
       "      <td>7.071068e-01</td>\n",
       "      <td>7.071068e-01</td>\n",
       "      <td>24.325000</td>\n",
       "      <td>24.325000</td>\n",
       "      <td>24.200000</td>\n",
       "      <td>24.308333</td>\n",
       "      <td>23.993750</td>\n",
       "      <td>23.620833</td>\n",
       "    </tr>\n",
       "    <tr>\n",
       "      <th>max</th>\n",
       "      <td>2025-07-31 23:00:00</td>\n",
       "      <td>39.362500</td>\n",
       "      <td>43.912500</td>\n",
       "      <td>104.150000</td>\n",
       "      <td>162.000000</td>\n",
       "      <td>23.000000</td>\n",
       "      <td>6.000000</td>\n",
       "      <td>1.000000</td>\n",
       "      <td>4.823440</td>\n",
       "      <td>1.000000e+00</td>\n",
       "      <td>1.000000e+00</td>\n",
       "      <td>39.362500</td>\n",
       "      <td>39.362500</td>\n",
       "      <td>39.050000</td>\n",
       "      <td>38.970833</td>\n",
       "      <td>36.787500</td>\n",
       "      <td>35.116146</td>\n",
       "    </tr>\n",
       "    <tr>\n",
       "      <th>std</th>\n",
       "      <td>NaN</td>\n",
       "      <td>8.067057</td>\n",
       "      <td>8.598066</td>\n",
       "      <td>23.770948</td>\n",
       "      <td>35.255686</td>\n",
       "      <td>6.922983</td>\n",
       "      <td>2.004362</td>\n",
       "      <td>0.079018</td>\n",
       "      <td>1.734015</td>\n",
       "      <td>7.071882e-01</td>\n",
       "      <td>7.071882e-01</td>\n",
       "      <td>8.067056</td>\n",
       "      <td>8.066764</td>\n",
       "      <td>8.016523</td>\n",
       "      <td>7.921823</td>\n",
       "      <td>7.041764</td>\n",
       "      <td>6.316291</td>\n",
       "    </tr>\n",
       "  </tbody>\n",
       "</table>\n",
       "</div>"
      ],
      "text/plain": [
       "                      time        pm2_5         pm10  nitrogen_dioxide  \\\n",
       "count                 4344  4344.000000  4344.000000       4344.000000   \n",
       "mean   2025-05-02 11:30:00    19.830654    22.559930         37.750173   \n",
       "min    2025-02-01 00:00:00     2.200000     2.600000          3.300000   \n",
       "25%    2025-03-18 05:45:00    14.300000    16.600000         18.900000   \n",
       "50%    2025-05-02 11:30:00    19.000000    21.900000         31.000000   \n",
       "75%    2025-06-16 17:15:00    24.325000    27.525000         53.000000   \n",
       "max    2025-07-31 23:00:00    39.362500    43.912500        104.150000   \n",
       "std                    NaN     8.067057     8.598066         23.770948   \n",
       "\n",
       "             ozone         hour          dow  pm_frac_fine  no2_o3_ratio  \\\n",
       "count  4344.000000  4344.000000  4344.000000   4344.000000   4344.000000   \n",
       "mean     53.809392    11.500000     2.994475      0.876969      1.467317   \n",
       "min       0.000000     0.000000     0.000000      0.664532      0.030841   \n",
       "25%      25.000000     5.750000     1.000000      0.828571      0.241954   \n",
       "50%      55.000000    11.500000     3.000000      0.888999      0.569464   \n",
       "75%      81.000000    17.250000     5.000000      0.937931      2.074549   \n",
       "max     162.000000    23.000000     6.000000      1.000000      4.823440   \n",
       "std      35.255686     6.922983     2.004362      0.079018      1.734015   \n",
       "\n",
       "           hour_sin      hour_cos   pm2_5_lag1   pm2_5_lag3  pm2_5_lag24  \\\n",
       "count  4.344000e+03  4.344000e+03  4344.000000  4344.000000  4344.000000   \n",
       "mean  -1.758364e-17 -5.868030e-17    19.830263    19.831368    19.788133   \n",
       "min   -1.000000e+00 -1.000000e+00     2.200000     2.200000     2.200000   \n",
       "25%   -7.071068e-01 -7.071068e-01    14.300000    14.300000    14.300000   \n",
       "50%    6.123234e-17 -6.123234e-17    19.000000    19.000000    19.000000   \n",
       "75%    7.071068e-01  7.071068e-01    24.325000    24.325000    24.200000   \n",
       "max    1.000000e+00  1.000000e+00    39.362500    39.362500    39.050000   \n",
       "std    7.071882e-01  7.071882e-01     8.067056     8.066764     8.016523   \n",
       "\n",
       "       pm2_5_roll3  pm2_5_roll12  pm2_5_roll24  \n",
       "count  4344.000000   4344.000000   4344.000000  \n",
       "mean     19.848746     19.967305     20.073301  \n",
       "min       2.866667      3.833333      4.750000  \n",
       "25%      14.533333     15.464583     15.957292  \n",
       "50%      19.066667     19.283333     19.800000  \n",
       "75%      24.308333     23.993750     23.620833  \n",
       "max      38.970833     36.787500     35.116146  \n",
       "std       7.921823      7.041764      6.316291  "
      ]
     },
     "execution_count": 144,
     "metadata": {},
     "output_type": "execute_result"
    }
   ],
   "source": [
    "print(\"Air Quality Dataset Post-Feature Engineering:\")\n",
    "print(\" \")\n",
    "\n",
    "print(dfQ.info())\n",
    "print(\" \")\n",
    "dfQ.describe()"
   ]
  },
  {
   "cell_type": "markdown",
   "id": "49ab5496",
   "metadata": {
    "id": "49ab5496"
   },
   "source": [
    "\n",
    "## Feature Engineering Summary:\n",
    "\n",
    "NYC311 Dataset EDA Summary:\n",
    "\n",
    "- Dataset has 4,500 rows with no missing values or outliers.\n",
    "- Numerical columns are clipped to stable ranges.\n",
    "- Weekend / Rush Hour: Encodes operational context (staffing/traffic) that shifts complaint distributions.\n",
    "- Text length: Richer descriptions may align with certain complaint types or severities.\n",
    "- Distance / Geo cell: Captures neighborhood effects without full geocoding.\n",
    "- Cyclical Time: Sine/cos ensures 23:00 is near 00:00; improves linear separability and NN optimization.  \n",
    "\n",
    "Air Quality Dataset EDA Summary:\n",
    "\n",
    "- Dataset has 4,3444 rows with no missing values or outliers.\n",
    "- Values are clipped to stable ranges.\n",
    "- Cyclical Time: Sine/cos ensures 23:00 is near 00:00; improves linear separability and NN optimization.  \n",
    "- Fine fraction & NO₂/O₃ ratio: Reflect aerosol composition and photochemical regime, which co-varies with PM2.5.  \n",
    "- Lags & Rolling means: Exploit persistence; add short- and daily-scale memory.\n",
    "> For models using lags/rolls, evaluate with **time-based splits** (e.g., `TimeSeriesSplit`) to avoid leakage."
   ]
  },
  {
   "cell_type": "markdown",
   "id": "c096248c-a95e-4f4b-8c8f-fc77388a97f7",
   "metadata": {},
   "source": [
    "### Reflection: Section 1–2 (Data, Cleaning, Feature Engineering):\n",
    "\n",
    "- **Hardest bug/training issue:**  \n",
    "  The OpenAQ endpoint kept returning `400` with `Cannot initialize VariableOrDerived<...> from invalid String value pm2_5,pm10,no2,o3`. Switching to **Open-Meteo** and using the correct variable names (`pm2_5`, `pm10`, `nitrogen_dioxide`, `ozone`) fixed the API error, and I also had to align array lengths to `hourly.time` to avoid shape mismatches. IQR-clipping the target and predictors eliminated a few extreme spikes that were blowing up early model fits.\n",
    "- **New insight about model/data behavior:**  \n",
    "  Simple **domain features**—diurnal sin/cos cycles, **lagged PM2.5**, and **PM2.5/PM10** ratio—mattered more than adding lots of raw variables. A small amount of robust outlier handling (IQR clip) stabilized both linear and non-linear models far more than expected.\n"
   ]
  },
  {
   "cell_type": "markdown",
   "id": "f3cd9131",
   "metadata": {
    "id": "f3cd9131"
   },
   "source": [
    "\n",
    "---\n",
    "\n",
    "## Next Steps (Modeling Stubs)\n",
    "\n",
    "Plug these preprocessors into:\n",
    "- **Classical**: Logistic/Linear & Kernel SVM/Random Forest/Gradient Boosting; Regression: Linear/Ridge/Lasso/SVR/Random Forest.\n",
    "- **Neural**: **Wide & Deep** MLPs for tabular; **RNN (GRU/LSTM)** for Open-Meteo sequences (or skip lags and learn directly from sequences).\n"
   ]
  },
  {
   "cell_type": "markdown",
   "id": "edfc770b",
   "metadata": {
    "id": "edfc770b"
   },
   "source": [
    "\n",
    "---\n",
    "\n",
    "# 3. Baseline Regression & Kernel Methods\n",
    "\n",
    "**Added:** 2025-09-18 16:31:53  \n",
    "We train and compare:\n",
    "- **OLS (Linear Regression)**\n",
    "- **Ridge**\n",
    "- **LASSO**\n",
    "- **Elastic Net**\n",
    "- **Kernel Ridge** with **RBF** & **Polynomial** kernels\n",
    "\n",
    "We **manually grid search** hyperparameters, logging **training time** and **validation MSE** for each setting, and plot **MSE vs parameter values**.\n"
   ]
  },
  {
   "cell_type": "markdown",
   "id": "0ad2555a",
   "metadata": {
    "id": "0ad2555a"
   },
   "source": [
    "\n",
    "## 3.1 Load Features & Target (Open-Meteo)\n",
    "\n",
    "We use the engineered Open-Meteo dataset from earlier (`dfQ` in memory).  \n",
    "If this notebook was restarted, we try `data/openmeteo_la_pm25_with_FE.csv`.\n"
   ]
  },
  {
   "cell_type": "code",
   "execution_count": 145,
   "id": "23b718d1",
   "metadata": {
    "colab": {
     "base_uri": "https://localhost:8080/"
    },
    "id": "23b718d1",
    "outputId": "5e82ce4a-313f-48a1-d15e-247e917182d9"
   },
   "outputs": [
    {
     "name": "stdout",
     "output_type": "stream",
     "text": [
      "Using in-memory dfQ with FE | shape: (4344, 17)\n",
      "Num features: 15\n",
      "Feature sample: ['pm10', 'nitrogen_dioxide', 'ozone', 'hour', 'dow', 'pm_frac_fine', 'no2_o3_ratio', 'hour_sin', 'hour_cos', 'pm2_5_lag1']\n"
     ]
    }
   ],
   "source": [
    "\n",
    "import os, time, math, json, warnings\n",
    "import numpy as np\n",
    "import pandas as pd\n",
    "import matplotlib.pyplot as plt\n",
    "\n",
    "from sklearn.model_selection import train_test_split\n",
    "from sklearn.preprocessing import StandardScaler\n",
    "from sklearn.compose import ColumnTransformer\n",
    "from sklearn.pipeline import Pipeline\n",
    "from sklearn.impute import SimpleImputer\n",
    "from sklearn.metrics import mean_squared_error\n",
    "\n",
    "from sklearn.linear_model import LinearRegression, Ridge, Lasso, ElasticNet\n",
    "from sklearn.kernel_ridge import KernelRidge\n",
    "\n",
    "warnings.filterwarnings(\"ignore\")\n",
    "\n",
    "# Load engineered Open-Meteo data\n",
    "csv_path = \"data/openmeteo_la_pm25_with_FE.csv\"\n",
    "if 'dfQ' in globals() and isinstance(dfQ, pd.DataFrame) and \"pm2_5\" in dfQ.columns:\n",
    "    df_mod = dfQ.copy()\n",
    "    print(\"Using in-memory dfQ with FE | shape:\", df_mod.shape)\n",
    "elif os.path.exists(csv_path):\n",
    "    df_mod = pd.read_csv(csv_path, parse_dates=[\"time\"])\n",
    "    print(\"Loaded:\", csv_path, \"| shape:\", df_mod.shape)\n",
    "else:\n",
    "    raise FileNotFoundError(\"Run the Feature Engineering cells first so dfQ exists or save to data/openmeteo_la_pm25_with_FE.csv.\")\n",
    "\n",
    "# Time sort (important for lags/rolls)\n",
    "df_mod = df_mod.sort_values(\"time\").reset_index(drop=True)\n",
    "\n",
    "# Feature selection: all numeric except target; exclude 'time'\n",
    "exclude = set([\"pm2_5\",\"time\"])\n",
    "feature_cols = [c for c in df_mod.columns if c not in exclude and np.issubdtype(df_mod[c].dtype, np.number)]\n",
    "X = df_mod[feature_cols].copy()\n",
    "y = df_mod[\"pm2_5\"].astype(float).copy()\n",
    "\n",
    "print(\"Num features:\", len(feature_cols))\n",
    "print(\"Feature sample:\", feature_cols[:10])\n"
   ]
  },
  {
   "cell_type": "markdown",
   "id": "6876b280",
   "metadata": {
    "id": "6876b280"
   },
   "source": [
    "\n",
    "## 3.2 Train/Validation Split (Time-based)\n",
    "We use the **earliest 80%** to train and the **latest 20%** to validate to avoid look-ahead bias.\n"
   ]
  },
  {
   "cell_type": "code",
   "execution_count": 146,
   "id": "b8e4c6a2",
   "metadata": {
    "colab": {
     "base_uri": "https://localhost:8080/"
    },
    "id": "b8e4c6a2",
    "outputId": "3ef682a1-8c48-49d0-f5ff-79a9eae001fd"
   },
   "outputs": [
    {
     "name": "stdout",
     "output_type": "stream",
     "text": [
      "Train size: (3475, 15) | Val size: (869, 15)\n"
     ]
    }
   ],
   "source": [
    "\n",
    "n = len(X)\n",
    "split = int(0.8 * n)\n",
    "X_train, X_val = X.iloc[:split], X.iloc[split:]\n",
    "y_train, y_val = y.iloc[:split], y.iloc[split:]\n",
    "\n",
    "print(\"Train size:\", X_train.shape, \"| Val size:\", X_val.shape)\n",
    "\n",
    "# Preprocessor (median impute + standardize)\n",
    "preprocessor = ColumnTransformer([\n",
    "    (\"num\", Pipeline([(\"imputer\", SimpleImputer(strategy=\"median\")),\n",
    "                      (\"scaler\",  StandardScaler())]), feature_cols)\n",
    "], remainder=\"drop\")\n"
   ]
  },
  {
   "cell_type": "markdown",
   "id": "6fcfbb9d",
   "metadata": {
    "id": "6fcfbb9d"
   },
   "source": [
    "\n",
    "## 3.3 Helper: Train & Evaluate\n",
    "Times `.fit()` and computes validation MSE.\n"
   ]
  },
  {
   "cell_type": "code",
   "execution_count": 147,
   "id": "81d5e926",
   "metadata": {
    "id": "81d5e926"
   },
   "outputs": [],
   "source": [
    "\n",
    "def fit_and_eval(model, X_train, y_train, X_val, y_val, preprocessor, model_name, **meta):\n",
    "    pipe = Pipeline([(\"pre\", preprocessor), (\"model\", model)])\n",
    "    t0 = time.perf_counter()\n",
    "    pipe.fit(X_train, y_train)\n",
    "    t1 = time.perf_counter()\n",
    "    y_hat = pipe.predict(X_val)\n",
    "    mse = mean_squared_error(y_val, y_hat)\n",
    "    rec = {\"model\": model_name, \"val_mse\": mse, \"train_time_sec\": (t1 - t0)}\n",
    "    rec.update(meta)\n",
    "    return rec, pipe\n"
   ]
  },
  {
   "cell_type": "markdown",
   "id": "f2328531",
   "metadata": {
    "id": "f2328531"
   },
   "source": [
    "\n",
    "## 3.4 Baselines: OLS & Ridge\n"
   ]
  },
  {
   "cell_type": "code",
   "execution_count": 148,
   "id": "301479ea",
   "metadata": {
    "colab": {
     "base_uri": "https://localhost:8080/"
    },
    "id": "301479ea",
    "outputId": "f22c8280-bd27-43a1-e436-6f2e1bab0684"
   },
   "outputs": [
    {
     "data": {
      "text/plain": [
       "{'model': 'Ridge',\n",
       " 'val_mse': 0.4247461562092174,\n",
       " 'train_time_sec': 0.014580584000214003,\n",
       " 'alpha': 0.1}"
      ]
     },
     "execution_count": 148,
     "metadata": {},
     "output_type": "execute_result"
    }
   ],
   "source": [
    "\n",
    "results = []\n",
    "\n",
    "# OLS\n",
    "rec, pipe_ols = fit_and_eval(LinearRegression(), X_train, y_train, X_val, y_val, preprocessor, \"OLS\")\n",
    "results.append(rec)\n",
    "\n",
    "# Ridge grid\n",
    "ridge_alphas = [1e-4, 1e-3, 1e-2, 1e-1, 1, 10, 100]\n",
    "best_ridge = None\n",
    "for a in ridge_alphas:\n",
    "    rec, _ = fit_and_eval(Ridge(alpha=a, random_state=4603), X_train, y_train, X_val, y_val, preprocessor, \"Ridge\", alpha=a)\n",
    "    results.append(rec)\n",
    "    if best_ridge is None or rec[\"val_mse\"] < best_ridge[\"val_mse\"]:\n",
    "        best_ridge = rec\n",
    "\n",
    "best_ridge\n"
   ]
  },
  {
   "cell_type": "markdown",
   "id": "cddbdad1",
   "metadata": {
    "id": "cddbdad1"
   },
   "source": [
    "\n",
    "## 3.5 LASSO & Elastic Net\n"
   ]
  },
  {
   "cell_type": "code",
   "execution_count": 149,
   "id": "71edcf6c",
   "metadata": {
    "colab": {
     "base_uri": "https://localhost:8080/"
    },
    "id": "71edcf6c",
    "outputId": "d1a529a5-3f51-4941-cb33-bebf76269ce2"
   },
   "outputs": [
    {
     "data": {
      "text/plain": [
       "({'model': 'LASSO',\n",
       "  'val_mse': 0.424184054872451,\n",
       "  'train_time_sec': 0.08943112499946437,\n",
       "  'alpha': 0.1},\n",
       " {'model': 'ElasticNet',\n",
       "  'val_mse': 0.42476166040941976,\n",
       "  'train_time_sec': 0.32085729199934576,\n",
       "  'alpha': 0.0001,\n",
       "  'l1_ratio': 0.2})"
      ]
     },
     "execution_count": 149,
     "metadata": {},
     "output_type": "execute_result"
    }
   ],
   "source": [
    "\n",
    "# LASSO grid\n",
    "lasso_alphas = [1e-4, 1e-3, 1e-2, 1e-1, 1]\n",
    "best_lasso = None\n",
    "for a in lasso_alphas:\n",
    "    rec, _ = fit_and_eval(Lasso(alpha=a, max_iter=20000, random_state=4603),\n",
    "                          X_train, y_train, X_val, y_val, preprocessor, \"LASSO\", alpha=a)\n",
    "    results.append(rec)\n",
    "    if best_lasso is None or rec[\"val_mse\"] < best_lasso[\"val_mse\"]:\n",
    "        best_lasso = rec\n",
    "\n",
    "# Elastic Net grid over alpha and l1_ratio\n",
    "en_alphas = [1e-4, 1e-3, 1e-2, 1e-1, 1]\n",
    "en_l1 = [0.2, 0.5, 0.8]\n",
    "best_en = None\n",
    "for a in en_alphas:\n",
    "    for l1 in en_l1:\n",
    "        rec, _ = fit_and_eval(ElasticNet(alpha=a, l1_ratio=l1, max_iter=20000, random_state=4603),\n",
    "                              X_train, y_train, X_val, y_val, preprocessor, \"ElasticNet\",\n",
    "                              alpha=a, l1_ratio=l1)\n",
    "        results.append(rec)\n",
    "        if best_en is None or rec[\"val_mse\"] < best_en[\"val_mse\"]:\n",
    "            best_en = rec\n",
    "\n",
    "best_lasso, best_en\n"
   ]
  },
  {
   "cell_type": "markdown",
   "id": "0de45fff",
   "metadata": {
    "id": "0de45fff"
   },
   "source": [
    "\n",
    "## 3.6 Kernel Ridge — RBF Kernel (grid over alpha, gamma)\n"
   ]
  },
  {
   "cell_type": "code",
   "execution_count": 150,
   "id": "d6f74915",
   "metadata": {
    "colab": {
     "base_uri": "https://localhost:8080/"
    },
    "id": "d6f74915",
    "outputId": "144cb612-a39d-4efc-e9fa-5347b3bba389"
   },
   "outputs": [
    {
     "data": {
      "text/plain": [
       "{'model': 'KRR_RBF',\n",
       " 'val_mse': 0.016962551632033744,\n",
       " 'train_time_sec': 0.5790064159991744,\n",
       " 'alpha': 0.001,\n",
       " 'gamma': 0.01}"
      ]
     },
     "execution_count": 150,
     "metadata": {},
     "output_type": "execute_result"
    }
   ],
   "source": [
    "\n",
    "krr_rbf_alphas = [1e-3, 1e-2, 1e-1, 1, 10]\n",
    "krr_rbf_gammas = [1e-3, 1e-2, 1e-1, 1]\n",
    "best_krr_rbf = None\n",
    "for a in krr_rbf_alphas:\n",
    "    for g in krr_rbf_gammas:\n",
    "        rec, _ = fit_and_eval(KernelRidge(alpha=a, kernel=\"rbf\", gamma=g),\n",
    "                              X_train, y_train, X_val, y_val, preprocessor, \"KRR_RBF\",\n",
    "                              alpha=a, gamma=g)\n",
    "        results.append(rec)\n",
    "        if best_krr_rbf is None or rec[\"val_mse\"] < best_krr_rbf[\"val_mse\"]:\n",
    "            best_krr_rbf = rec\n",
    "\n",
    "best_krr_rbf\n"
   ]
  },
  {
   "cell_type": "markdown",
   "id": "742ed5d6",
   "metadata": {
    "id": "742ed5d6"
   },
   "source": [
    "\n",
    "## 3.7 Kernel Ridge — Polynomial Kernel (grid over alpha, gamma, degree)\n"
   ]
  },
  {
   "cell_type": "code",
   "execution_count": 151,
   "id": "9d6c0571",
   "metadata": {
    "colab": {
     "base_uri": "https://localhost:8080/"
    },
    "id": "9d6c0571",
    "outputId": "dab2f099-6568-430c-ca0c-e38dcc2c24ce"
   },
   "outputs": [
    {
     "data": {
      "text/plain": [
       "{'model': 'KRR_Poly',\n",
       " 'val_mse': 0.018791652139444392,\n",
       " 'train_time_sec': 0.5979353330003505,\n",
       " 'alpha': 0.1,\n",
       " 'gamma': 0.01,\n",
       " 'degree': 4}"
      ]
     },
     "execution_count": 151,
     "metadata": {},
     "output_type": "execute_result"
    }
   ],
   "source": [
    "\n",
    "krr_poly_alphas = [1e-3, 1e-2, 1e-1, 1, 10]\n",
    "krr_poly_gammas = [0.01, 0.1, 1.0]\n",
    "krr_poly_degrees = [2, 3, 4]\n",
    "\n",
    "best_krr_poly = None\n",
    "for a in krr_poly_alphas:\n",
    "    for g in krr_poly_gammas:\n",
    "        for d in krr_poly_degrees:\n",
    "            rec, _ = fit_and_eval(KernelRidge(alpha=a, kernel=\"polynomial\", gamma=g, degree=d, coef0=1.0),\n",
    "                                  X_train, y_train, X_val, y_val, preprocessor, \"KRR_Poly\",\n",
    "                                  alpha=a, gamma=g, degree=d)\n",
    "            results.append(rec)\n",
    "            if best_krr_poly is None or rec[\"val_mse\"] < best_krr_poly[\"val_mse\"]:\n",
    "                best_krr_poly = rec\n",
    "\n",
    "best_krr_poly\n"
   ]
  },
  {
   "cell_type": "markdown",
   "id": "9346b066",
   "metadata": {
    "id": "9346b066"
   },
   "source": [
    "\n",
    "## 3.8 Results Table\n",
    "Sorted by validation MSE (lower is better). Also includes training time in seconds.\n"
   ]
  },
  {
   "cell_type": "code",
   "execution_count": 152,
   "id": "a7b3e47d",
   "metadata": {
    "colab": {
     "base_uri": "https://localhost:8080/",
     "height": 398
    },
    "id": "a7b3e47d",
    "outputId": "8664cbd2-406d-4766-e910-b9539fd97778"
   },
   "outputs": [
    {
     "name": "stdout",
     "output_type": "stream",
     "text": [
      "Top 10 configs by lowest MSE:\n"
     ]
    },
    {
     "data": {
      "text/html": [
       "<div>\n",
       "<style scoped>\n",
       "    .dataframe tbody tr th:only-of-type {\n",
       "        vertical-align: middle;\n",
       "    }\n",
       "\n",
       "    .dataframe tbody tr th {\n",
       "        vertical-align: top;\n",
       "    }\n",
       "\n",
       "    .dataframe thead th {\n",
       "        text-align: right;\n",
       "    }\n",
       "</style>\n",
       "<table border=\"1\" class=\"dataframe\">\n",
       "  <thead>\n",
       "    <tr style=\"text-align: right;\">\n",
       "      <th></th>\n",
       "      <th>model</th>\n",
       "      <th>val_mse</th>\n",
       "      <th>train_time_sec</th>\n",
       "      <th>alpha</th>\n",
       "      <th>l1_ratio</th>\n",
       "      <th>gamma</th>\n",
       "      <th>degree</th>\n",
       "    </tr>\n",
       "  </thead>\n",
       "  <tbody>\n",
       "    <tr>\n",
       "      <th>0</th>\n",
       "      <td>KRR_RBF</td>\n",
       "      <td>0.016963</td>\n",
       "      <td>0.579006</td>\n",
       "      <td>0.001</td>\n",
       "      <td>NaN</td>\n",
       "      <td>0.01</td>\n",
       "      <td>NaN</td>\n",
       "    </tr>\n",
       "    <tr>\n",
       "      <th>1</th>\n",
       "      <td>KRR_Poly</td>\n",
       "      <td>0.018792</td>\n",
       "      <td>0.597935</td>\n",
       "      <td>0.100</td>\n",
       "      <td>NaN</td>\n",
       "      <td>0.01</td>\n",
       "      <td>4.0</td>\n",
       "    </tr>\n",
       "    <tr>\n",
       "      <th>2</th>\n",
       "      <td>KRR_Poly</td>\n",
       "      <td>0.018805</td>\n",
       "      <td>0.610068</td>\n",
       "      <td>0.010</td>\n",
       "      <td>NaN</td>\n",
       "      <td>0.01</td>\n",
       "      <td>4.0</td>\n",
       "    </tr>\n",
       "    <tr>\n",
       "      <th>3</th>\n",
       "      <td>KRR_RBF</td>\n",
       "      <td>0.020155</td>\n",
       "      <td>0.498553</td>\n",
       "      <td>0.010</td>\n",
       "      <td>NaN</td>\n",
       "      <td>0.01</td>\n",
       "      <td>NaN</td>\n",
       "    </tr>\n",
       "    <tr>\n",
       "      <th>4</th>\n",
       "      <td>KRR_Poly</td>\n",
       "      <td>0.021750</td>\n",
       "      <td>0.541002</td>\n",
       "      <td>0.001</td>\n",
       "      <td>NaN</td>\n",
       "      <td>0.01</td>\n",
       "      <td>4.0</td>\n",
       "    </tr>\n",
       "    <tr>\n",
       "      <th>5</th>\n",
       "      <td>KRR_Poly</td>\n",
       "      <td>0.024289</td>\n",
       "      <td>0.547646</td>\n",
       "      <td>0.010</td>\n",
       "      <td>NaN</td>\n",
       "      <td>0.01</td>\n",
       "      <td>3.0</td>\n",
       "    </tr>\n",
       "    <tr>\n",
       "      <th>6</th>\n",
       "      <td>KRR_Poly</td>\n",
       "      <td>0.025099</td>\n",
       "      <td>0.602844</td>\n",
       "      <td>0.001</td>\n",
       "      <td>NaN</td>\n",
       "      <td>0.01</td>\n",
       "      <td>3.0</td>\n",
       "    </tr>\n",
       "    <tr>\n",
       "      <th>7</th>\n",
       "      <td>KRR_Poly</td>\n",
       "      <td>0.027418</td>\n",
       "      <td>0.616594</td>\n",
       "      <td>0.100</td>\n",
       "      <td>NaN</td>\n",
       "      <td>0.01</td>\n",
       "      <td>3.0</td>\n",
       "    </tr>\n",
       "    <tr>\n",
       "      <th>8</th>\n",
       "      <td>KRR_Poly</td>\n",
       "      <td>0.028841</td>\n",
       "      <td>0.877982</td>\n",
       "      <td>1.000</td>\n",
       "      <td>NaN</td>\n",
       "      <td>0.10</td>\n",
       "      <td>3.0</td>\n",
       "    </tr>\n",
       "    <tr>\n",
       "      <th>9</th>\n",
       "      <td>KRR_Poly</td>\n",
       "      <td>0.029244</td>\n",
       "      <td>0.768376</td>\n",
       "      <td>0.100</td>\n",
       "      <td>NaN</td>\n",
       "      <td>0.10</td>\n",
       "      <td>3.0</td>\n",
       "    </tr>\n",
       "  </tbody>\n",
       "</table>\n",
       "</div>"
      ],
      "text/plain": [
       "      model   val_mse  train_time_sec  alpha  l1_ratio  gamma  degree\n",
       "0   KRR_RBF  0.016963        0.579006  0.001       NaN   0.01     NaN\n",
       "1  KRR_Poly  0.018792        0.597935  0.100       NaN   0.01     4.0\n",
       "2  KRR_Poly  0.018805        0.610068  0.010       NaN   0.01     4.0\n",
       "3   KRR_RBF  0.020155        0.498553  0.010       NaN   0.01     NaN\n",
       "4  KRR_Poly  0.021750        0.541002  0.001       NaN   0.01     4.0\n",
       "5  KRR_Poly  0.024289        0.547646  0.010       NaN   0.01     3.0\n",
       "6  KRR_Poly  0.025099        0.602844  0.001       NaN   0.01     3.0\n",
       "7  KRR_Poly  0.027418        0.616594  0.100       NaN   0.01     3.0\n",
       "8  KRR_Poly  0.028841        0.877982  1.000       NaN   0.10     3.0\n",
       "9  KRR_Poly  0.029244        0.768376  0.100       NaN   0.10     3.0"
      ]
     },
     "metadata": {},
     "output_type": "display_data"
    },
    {
     "name": "stdout",
     "output_type": "stream",
     "text": [
      "Saved: results/section3_baselines_kernel_results.csv\n"
     ]
    }
   ],
   "source": [
    "\n",
    "results_df = pd.DataFrame(results).sort_values([\"val_mse\",\"model\"]).reset_index(drop=True)\n",
    "print(\"Top 10 configs by lowest MSE:\")\n",
    "try:\n",
    "    display(results_df.head(10))\n",
    "except Exception:\n",
    "    print(results_df.head(10))\n",
    "\n",
    "# Save results\n",
    "os.makedirs(\"results\", exist_ok=True)\n",
    "csv_out = \"results/section3_baselines_kernel_results.csv\"\n",
    "results_df.to_csv(csv_out, index=False)\n",
    "print(\"Saved:\", csv_out)\n"
   ]
  },
  {
   "cell_type": "markdown",
   "id": "08247895",
   "metadata": {
    "id": "08247895"
   },
   "source": [
    "\n",
    "## 3.9 Plots — Error vs Parameter Values\n",
    "One chart per plot, using default Matplotlib settings.\n"
   ]
  },
  {
   "cell_type": "code",
   "execution_count": 153,
   "id": "871e735c",
   "metadata": {
    "colab": {
     "base_uri": "https://localhost:8080/",
     "height": 487
    },
    "id": "871e735c",
    "outputId": "b140e742-d493-4e40-d4be-6296cb45a419"
   },
   "outputs": [
    {
     "data": {
      "image/png": "[encoded data removed]",
      "text/plain": [
       "<Figure size 640x480 with 1 Axes>"
      ]
     },
     "metadata": {},
     "output_type": "display_data"
    }
   ],
   "source": [
    "\n",
    "# Ridge: MSE vs alpha\n",
    "sub = results_df[results_df[\"model\"]==\"Ridge\"].copy()\n",
    "if len(sub):\n",
    "    plt.figure()\n",
    "    plt.plot(sub[\"alpha\"], sub[\"val_mse\"], marker=\"o\")\n",
    "    plt.xscale(\"log\")\n",
    "    plt.xlabel(\"alpha\"); plt.ylabel(\"Validation MSE\"); plt.title(\"Ridge: Validation MSE vs alpha\")\n",
    "    plt.tight_layout(); plt.show()\n"
   ]
  },
  {
   "cell_type": "code",
   "execution_count": 154,
   "id": "243c4c37",
   "metadata": {
    "colab": {
     "base_uri": "https://localhost:8080/",
     "height": 487
    },
    "id": "243c4c37",
    "outputId": "d5d8bf66-8491-4868-ce76-1a5a84221392"
   },
   "outputs": [
    {
     "data": {
      "image/png": "[encoded data removed]",
      "text/plain": [
       "<Figure size 640x480 with 1 Axes>"
      ]
     },
     "metadata": {},
     "output_type": "display_data"
    }
   ],
   "source": [
    "\n",
    "# LASSO: MSE vs alpha\n",
    "sub = results_df[results_df[\"model\"]==\"LASSO\"].copy()\n",
    "if len(sub):\n",
    "    plt.figure()\n",
    "    plt.plot(sub[\"alpha\"], sub[\"val_mse\"], marker=\"o\")\n",
    "    plt.xscale(\"log\")\n",
    "    plt.xlabel(\"alpha\"); plt.ylabel(\"Validation MSE\"); plt.title(\"LASSO: Validation MSE vs alpha\")\n",
    "    plt.tight_layout(); plt.show()\n"
   ]
  },
  {
   "cell_type": "code",
   "execution_count": 155,
   "id": "44674f7f",
   "metadata": {
    "colab": {
     "base_uri": "https://localhost:8080/",
     "height": 487
    },
    "id": "44674f7f",
    "outputId": "a814c071-4a70-45d9-d23c-49acc5501cc3"
   },
   "outputs": [
    {
     "data": {
      "image/png": "[encoded data removed]",
      "text/plain": [
       "<Figure size 640x480 with 1 Axes>"
      ]
     },
     "metadata": {},
     "output_type": "display_data"
    }
   ],
   "source": [
    "\n",
    "# Elastic Net: MSE vs alpha per l1_ratio\n",
    "sub_all = results_df[results_df[\"model\"]==\"ElasticNet\"].copy()\n",
    "if len(sub_all):\n",
    "    plt.figure()\n",
    "    for l1 in sorted(sub_all[\"l1_ratio\"].dropna().unique()):\n",
    "        sub = sub_all[sub_all[\"l1_ratio\"]==l1].sort_values(\"alpha\")\n",
    "        plt.plot(sub[\"alpha\"], sub[\"val_mse\"], marker=\"o\", label=f\"l1_ratio={l1}\")\n",
    "    plt.xscale(\"log\")\n",
    "    plt.xlabel(\"alpha\"); plt.ylabel(\"Validation MSE\"); plt.title(\"Elastic Net: MSE vs alpha (per l1_ratio)\")\n",
    "    plt.legend(); plt.tight_layout(); plt.show()\n"
   ]
  },
  {
   "cell_type": "code",
   "execution_count": 156,
   "id": "fbd675b4",
   "metadata": {
    "colab": {
     "base_uri": "https://localhost:8080/",
     "height": 487
    },
    "id": "fbd675b4",
    "outputId": "251de796-da65-4377-eafd-67634915cd3c"
   },
   "outputs": [
    {
     "data": {
      "image/png": "[encoded data removed]",
      "text/plain": [
       "<Figure size 640x480 with 1 Axes>"
      ]
     },
     "metadata": {},
     "output_type": "display_data"
    }
   ],
   "source": [
    "\n",
    "# KRR RBF: MSE vs gamma per alpha\n",
    "sub_all = results_df[results_df[\"model\"]==\"KRR_RBF\"].copy()\n",
    "if len(sub_all):\n",
    "    plt.figure()\n",
    "    for a in sorted(sub_all[\"alpha\"].dropna().unique()):\n",
    "        sub = sub_all[sub_all[\"alpha\"]==a].sort_values(\"gamma\")\n",
    "        plt.plot(sub[\"gamma\"], sub[\"val_mse\"], marker=\"o\", label=f\"alpha={a}\")\n",
    "    plt.xscale(\"log\")\n",
    "    plt.xlabel(\"gamma\"); plt.ylabel(\"Validation MSE\"); plt.title(\"KRR (RBF): MSE vs gamma (per alpha)\")\n",
    "    plt.legend(); plt.tight_layout(); plt.show()\n"
   ]
  },
  {
   "cell_type": "code",
   "execution_count": 157,
   "id": "4463f664",
   "metadata": {
    "colab": {
     "base_uri": "https://localhost:8080/",
     "height": 487
    },
    "id": "4463f664",
    "outputId": "f496eabf-d914-401f-aab5-9cc2b1690ca5"
   },
   "outputs": [
    {
     "data": {
      "image/png": "[encoded data removed]",
      "text/plain": [
       "<Figure size 640x480 with 1 Axes>"
      ]
     },
     "metadata": {},
     "output_type": "display_data"
    }
   ],
   "source": [
    "\n",
    "# KRR Polynomial: aggregate over alpha, plot MSE vs degree per gamma\n",
    "poly = results_df[results_df[\"model\"]==\"KRR_Poly\"].copy()\n",
    "if len(poly):\n",
    "    agg = poly.groupby([\"gamma\",\"degree\"], as_index=False)[\"val_mse\"].mean()\n",
    "    plt.figure()\n",
    "    for g in sorted(agg[\"gamma\"].unique()):\n",
    "        sub = agg[agg[\"gamma\"]==g].sort_values(\"degree\")\n",
    "        plt.plot(sub[\"degree\"], sub[\"val_mse\"], marker=\"o\", label=f\"gamma={g}\")\n",
    "    plt.xlabel(\"degree\"); plt.ylabel(\"Validation MSE\"); plt.title(\"KRR (Polynomial): MSE vs degree (mean over alpha)\")\n",
    "    plt.legend(); plt.tight_layout(); plt.show()\n"
   ]
  },
  {
   "cell_type": "markdown",
   "id": "8219d759-4768-4308-b027-12763cfb6b43",
   "metadata": {},
   "source": [
    "### Baseline Regression & Kernel Methods Summary:\n",
    "\n",
    "Kernel Ridge Regression with RBF kernel had the best performance, with a validation MSE of 0.017. While training time was higher for kernel ridge models, the models perfomed well with a training time lower than 1 second. The Polynomial kernel ridge also had a MSE of 0.019. The low validation MSE highlight that the model generalizes well on the training dataset. \n",
    "   "
   ]
  },
  {
   "cell_type": "markdown",
   "id": "9b611f6d-4149-4436-864d-e2535452fe98",
   "metadata": {},
   "source": [
    "### Reflection: Section 3 (Baselines & Kernels):\n",
    "\n",
    "- **Hardest bug/training issue:**  \n",
    "  Kernel methods were hypersensitive to **scaling**—forgetting to standardize made RBF kernels degenerate (either all-similar or all-dissimilar), and **LASSO/ElasticNet** sometimes threw convergence warnings until I raised `max_iter`. Tuning `gamma` on RBF and `degree` on polynomial kernels showed huge swings in MSE and training time, so I added explicit logging for every grid point.\n",
    "- **New insight (regularization / kernel choices):**  \n",
    "  The **regularization α** that looks “optimal” shifts with feature scaling and time-aware splits; time-based splits reliably chose higher α than random splits. RBF with a modest `gamma` consistently beat higher-degree polynomials—past `degree=3`, variance and runtime went up with little gain."
   ]
  },
  {
   "cell_type": "markdown",
   "id": "105f1481",
   "metadata": {
    "id": "105f1481"
   },
   "source": [
    "\n",
    "---\n",
    "\n",
    "# 4. Feedforward Neural Networks in PyTorch\n",
    "\n",
    "**Added:** 2025-09-18 16:41:01  \n",
    "\n",
    "We define three architectures and run two experiments for each:\n",
    "- **Architectures**\n",
    "  - **Shallow**: 1 hidden layer\n",
    "  - **Deep**: ≥ 4 hidden layers\n",
    "  - **Wide**: 1 very wide hidden layer\n",
    "- **Experiments**\n",
    "  - **Baseline**: ReLU, **no** BatchNorm/Dropout\n",
    "  - **Enhanced**: BatchNorm + Dropout; replace ReLU with **Swish** activation\n",
    "\n",
    "For every run we plot **training & validation loss curves** and record final **MSE**.\n"
   ]
  },
  {
   "cell_type": "markdown",
   "id": "fc101254",
   "metadata": {
    "id": "fc101254"
   },
   "source": [
    "\n",
    "## 4.1 Data for PyTorch\n",
    "\n",
    "We reuse the engineered Open-Meteo dataset (`dfQ`). If not in memory, we load `data/openmeteo_la_pm25_with_FE.csv`.  \n",
    "We use a **time-based split** (earliest 80% train → latest 20% val), fit a `StandardScaler` on the **train** set only, and convert to PyTorch tensors.\n"
   ]
  },
  {
   "cell_type": "code",
   "execution_count": 158,
   "id": "ab233877",
   "metadata": {
    "colab": {
     "base_uri": "https://localhost:8080/"
    },
    "id": "ab233877",
    "outputId": "1593146f-e6bd-433b-edd9-2c17c203d5a4"
   },
   "outputs": [
    {
     "name": "stdout",
     "output_type": "stream",
     "text": [
      "Using in-memory dfQ | shape: (4344, 17)\n",
      "Device: cpu\n",
      "Input features: 15 | Train/Val: (3475, 15) (869, 15)\n"
     ]
    }
   ],
   "source": [
    "\n",
    "import numpy as np, pandas as pd, os, time, math, torch\n",
    "from sklearn.preprocessing import StandardScaler\n",
    "\n",
    "# Load engineered dataset if dfQ not present\n",
    "csv_path = \"data/openmeteo_la_pm25_with_FE.csv\"\n",
    "if 'dfQ' in globals() and isinstance(dfQ, pd.DataFrame) and \"pm2_5\" in dfQ.columns:\n",
    "    df_nn = dfQ.copy()\n",
    "    print(\"Using in-memory dfQ | shape:\", df_nn.shape)\n",
    "elif os.path.exists(csv_path):\n",
    "    df_nn = pd.read_csv(csv_path, parse_dates=[\"time\"])\n",
    "    print(\"Loaded:\", csv_path, \"| shape:\", df_nn.shape)\n",
    "else:\n",
    "    raise FileNotFoundError(\"Run the Feature Engineering section first so dfQ exists or save CSV at data/openmeteo_la_pm25_with_FE.csv\")\n",
    "\n",
    "# Sort and build features\n",
    "df_nn = df_nn.sort_values(\"time\").reset_index(drop=True)\n",
    "exclude = set([\"pm2_5\",\"time\"])\n",
    "feature_cols = [c for c in df_nn.columns if c not in exclude and np.issubdtype(df_nn[c].dtype, np.number)]\n",
    "X = df_nn[feature_cols].astype(\"float32\").values\n",
    "y = df_nn[\"pm2_5\"].astype(\"float32\").values.reshape(-1,1)\n",
    "\n",
    "# Time-based split\n",
    "n = len(X); split = int(0.8*n)\n",
    "X_train, X_val = X[:split], X[split:]\n",
    "y_train, y_val = y[:split], y[split:]\n",
    "\n",
    "# Scale using only train stats\n",
    "scaler = StandardScaler()\n",
    "X_train = scaler.fit_transform(X_train).astype(\"float32\")\n",
    "X_val   = scaler.transform(X_val).astype(\"float32\")\n",
    "\n",
    "# Torch tensors & loaders\n",
    "device = torch.device(\"cuda\" if torch.cuda.is_available() else \"cpu\")\n",
    "print(\"Device:\", device)\n",
    "\n",
    "Xtr_t = torch.from_numpy(X_train)\n",
    "ytr_t = torch.from_numpy(y_train)\n",
    "Xva_t = torch.from_numpy(X_val)\n",
    "yva_t = torch.from_numpy(y_val)\n",
    "\n",
    "train_ds = torch.utils.data.TensorDataset(Xtr_t, ytr_t)\n",
    "val_ds   = torch.utils.data.TensorDataset(Xva_t, yva_t)\n",
    "\n",
    "BATCH = 64\n",
    "train_loader = torch.utils.data.DataLoader(train_ds, batch_size=BATCH, shuffle=True, drop_last=False)\n",
    "val_loader   = torch.utils.data.DataLoader(val_ds, batch_size=BATCH, shuffle=False, drop_last=False)\n",
    "\n",
    "in_dim = X_train.shape[1]\n",
    "print(\"Input features:\", in_dim, \"| Train/Val:\", X_train.shape, X_val.shape)\n"
   ]
  },
  {
   "cell_type": "markdown",
   "id": "3ab5d609",
   "metadata": {
    "id": "3ab5d609"
   },
   "source": [
    "\n",
    "## 4.2 Architectures\n",
    "\n",
    "We implement **Shallow**, **Deep**, and **Wide** variants.  \n",
    "For **Enhanced** runs, we enable BatchNorm + Dropout and use **Swish** activation; Baseline uses **ReLU** and no BN/Dropout.\n"
   ]
  },
  {
   "cell_type": "code",
   "execution_count": 159,
   "id": "a1d7f357",
   "metadata": {
    "id": "a1d7f357"
   },
   "outputs": [],
   "source": [
    "\n",
    "import torch.nn as nn\n",
    "import torch.nn.functional as F\n",
    "\n",
    "# Custom Swish activation\n",
    "class Swish(nn.Module):\n",
    "    def forward(self, x):\n",
    "        return x * torch.sigmoid(x)\n",
    "\n",
    "def make_mlp(in_dim, hidden_dims, out_dim=1, enhanced=False, pdrop=0.2):\n",
    "    layers = []\n",
    "    act = Swish() if enhanced else nn.ReLU()\n",
    "    for i, h in enumerate(hidden_dims):\n",
    "        layers.append(nn.Linear(in_dim if i==0 else hidden_dims[i-1], h))\n",
    "        if enhanced:\n",
    "            layers.append(nn.BatchNorm1d(h))\n",
    "        layers.append(act)\n",
    "        if enhanced and pdrop>0:\n",
    "            layers.append(nn.Dropout(pdrop))\n",
    "    layers.append(nn.Linear(hidden_dims[-1] if hidden_dims else in_dim, out_dim))\n",
    "    return nn.Sequential(*layers)\n",
    "\n",
    "class ShallowNet(nn.Module):\n",
    "    def __init__(self, in_dim, hidden=128, enhanced=False, pdrop=0.2):\n",
    "        super().__init__()\n",
    "        self.net = make_mlp(in_dim, [hidden], 1, enhanced=enhanced, pdrop=pdrop)\n",
    "    def forward(self, x): return self.net(x)\n",
    "\n",
    "class DeepNet(nn.Module):\n",
    "    def __init__(self, in_dim, widths=[256,256,128,128,64], enhanced=False, pdrop=0.2):\n",
    "        super().__init__()\n",
    "        self.net = make_mlp(in_dim, widths, 1, enhanced=enhanced, pdrop=pdrop)\n",
    "    def forward(self, x): return self.net(x)\n",
    "\n",
    "class WideNet(nn.Module):\n",
    "    def __init__(self, in_dim, width=1024, enhanced=False, pdrop=0.3):\n",
    "        super().__init__()\n",
    "        self.net = make_mlp(in_dim, [width], 1, enhanced=enhanced, pdrop=pdrop)\n",
    "    def forward(self, x): return self.net(x)\n"
   ]
  },
  {
   "cell_type": "markdown",
   "id": "e343e3b1",
   "metadata": {
    "id": "e343e3b1"
   },
   "source": [
    "\n",
    "## 4.3 Training Loop\n",
    "\n",
    "We train with MSE loss and Adam optimizer, logging **train** and **val** losses each epoch.  \n",
    "We run two experiments per model: **Baseline** and **Enhanced**.\n"
   ]
  },
  {
   "cell_type": "code",
   "execution_count": 160,
   "id": "2668c6c2",
   "metadata": {
    "id": "2668c6c2"
   },
   "outputs": [],
   "source": [
    "\n",
    "from time import perf_counter\n",
    "\n",
    "def epoch_pass(model, loader, criterion, optimizer=None):\n",
    "    total = 0.0; nobs = 0\n",
    "    if optimizer is None:\n",
    "        model.eval()\n",
    "        with torch.no_grad():\n",
    "            for xb, yb in loader:\n",
    "                xb = xb.to(device); yb = yb.to(device)\n",
    "                preds = model(xb)\n",
    "                loss = criterion(preds, yb)\n",
    "                bs = xb.size(0); total += loss.item()*bs; nobs += bs\n",
    "        return total/nobs\n",
    "    else:\n",
    "        model.train()\n",
    "        for xb, yb in loader:\n",
    "            xb = xb.to(device); yb = yb.to(device)\n",
    "            optimizer.zero_grad()\n",
    "            preds = model(xb)\n",
    "            loss = criterion(preds, yb)\n",
    "            loss.backward()\n",
    "            optimizer.step()\n",
    "            bs = xb.size(0); total += loss.item()*bs; nobs += bs\n",
    "        return total/nobs\n",
    "\n",
    "def train_model_ctor(ctor, label, enhanced=False, epochs=50, lr=1e-3, weight_decay=0.0):\n",
    "    model = ctor(enhanced=enhanced).to(device)\n",
    "    criterion = nn.MSELoss()\n",
    "    optimizer = torch.optim.Adam(model.parameters(), lr=lr, weight_decay=weight_decay)\n",
    "\n",
    "    train_hist, val_hist = [], []\n",
    "    t0 = perf_counter()\n",
    "    for ep in range(1, epochs+1):\n",
    "        tr = epoch_pass(model, train_loader, criterion, optimizer=optimizer)\n",
    "        va = epoch_pass(model, val_loader,   criterion, optimizer=None)\n",
    "        train_hist.append(tr); val_hist.append(va)\n",
    "    t1 = perf_counter()\n",
    "\n",
    "    # Final MSE (val)\n",
    "    final_mse = val_hist[-1] if len(val_hist) else float(\"nan\")\n",
    "    return {\n",
    "        \"label\": label + (\"_Enhanced\" if enhanced else \"_Baseline\"),\n",
    "        \"epochs\": epochs,\n",
    "        \"train_hist\": train_hist,\n",
    "        \"val_hist\": val_hist,\n",
    "        \"final_val_mse\": final_mse,\n",
    "        \"train_time_sec\": (t1 - t0),\n",
    "        \"model\": model\n",
    "    }\n",
    "\n",
    "# Model constructors with bound in_dim\n",
    "shallow_ctor = lambda enhanced=False: ShallowNet(in_dim, hidden=128, enhanced=enhanced, pdrop=0.2)\n",
    "deep_ctor    = lambda enhanced=False: DeepNet(in_dim, widths=[256,256,128,128,64], enhanced=enhanced, pdrop=0.2)\n",
    "wide_ctor    = lambda enhanced=False: WideNet(in_dim, width=1024, enhanced=enhanced, pdrop=0.3)\n"
   ]
  },
  {
   "cell_type": "markdown",
   "id": "ab5dcd1d",
   "metadata": {
    "id": "ab5dcd1d"
   },
   "source": [
    "\n",
    "## 4.4 Run Experiments\n",
    "\n",
    "For each architecture, we run **Baseline** and **Enhanced**, then plot **training vs validation** loss curves and log the final MSE and training time.\n"
   ]
  },
  {
   "cell_type": "code",
   "execution_count": 161,
   "id": "1d9cb930",
   "metadata": {
    "colab": {
     "base_uri": "https://localhost:8080/",
     "height": 1000
    },
    "id": "1d9cb930",
    "outputId": "fc69a2f8-5eaf-4f4f-b562-0e538f2a17c4"
   },
   "outputs": [
    {
     "data": {
      "image/png": "[encoded data removed]",
      "text/plain": [
       "<Figure size 640x480 with 1 Axes>"
      ]
     },
     "metadata": {},
     "output_type": "display_data"
    },
    {
     "data": {
      "image/png": "[encoded data removed]",
      "text/plain": [
       "<Figure size 640x480 with 1 Axes>"
      ]
     },
     "metadata": {},
     "output_type": "display_data"
    },
    {
     "data": {
      "image/png": "[encoded data removed]",
      "text/plain": [
       "<Figure size 640x480 with 1 Axes>"
      ]
     },
     "metadata": {},
     "output_type": "display_data"
    },
    {
     "data": {
      "image/png": "[encoded data removed]",
      "text/plain": [
       "<Figure size 640x480 with 1 Axes>"
      ]
     },
     "metadata": {},
     "output_type": "display_data"
    },
    {
     "data": {
      "image/png": "[encoded data removed]",
      "text/plain": [
       "<Figure size 640x480 with 1 Axes>"
      ]
     },
     "metadata": {},
     "output_type": "display_data"
    },
    {
     "data": {
      "image/png": "[encoded data removed]",
      "text/plain": [
       "<Figure size 640x480 with 1 Axes>"
      ]
     },
     "metadata": {},
     "output_type": "display_data"
    },
    {
     "name": "stdout",
     "output_type": "stream",
     "text": [
      "  architecture   variant  final_val_mse  train_time_sec  epochs\n",
      "0         Deep  Baseline       0.159728        3.731553      50\n",
      "1         Deep  Enhanced       0.195878        9.504842      50\n",
      "2      Shallow  Baseline       0.425384        1.297099      50\n",
      "3      Shallow  Enhanced       1.165722        2.161499      50\n",
      "4         Wide  Baseline       0.097527        1.934652      50\n",
      "5         Wide  Enhanced       0.689337        4.354244      50\n",
      "Saved: results/section4_nn_results.csv\n"
     ]
    }
   ],
   "source": [
    "\n",
    "import matplotlib.pyplot as plt\n",
    "\n",
    "EPOCHS = 50  # adjust if you want more/less training\n",
    "LR = 1e-3\n",
    "\n",
    "nn_results = []\n",
    "\n",
    "for label, ctor in [(\"Shallow\", shallow_ctor), (\"Deep\", deep_ctor), (\"Wide\", wide_ctor)]:\n",
    "    for enhanced in [False, True]:\n",
    "        out = train_model_ctor(lambda enhanced=enhanced: ctor(enhanced=enhanced), label, enhanced=enhanced, epochs=EPOCHS, lr=LR)\n",
    "        nn_results.append({\n",
    "            \"architecture\": label,\n",
    "            \"variant\": \"Enhanced\" if enhanced else \"Baseline\",\n",
    "            \"final_val_mse\": out[\"final_val_mse\"],\n",
    "            \"train_time_sec\": out[\"train_time_sec\"],\n",
    "            \"epochs\": out[\"epochs\"]\n",
    "        })\n",
    "\n",
    "        # Plot training & validation loss curves (one plot per run)\n",
    "        plt.figure()\n",
    "        plt.plot(range(1, out[\"epochs\"]+1), out[\"train_hist\"], label=\"train\")\n",
    "        plt.plot(range(1, out[\"epochs\"]+1), out[\"val_hist\"], label=\"val\")\n",
    "        plt.xlabel(\"Epoch\")\n",
    "        plt.ylabel(\"MSE Loss\")\n",
    "        plt.title(f\"{label} — {'Enhanced' if enhanced else 'Baseline'}\")\n",
    "        plt.legend()\n",
    "        plt.tight_layout()\n",
    "        plt.show()\n",
    "\n",
    "# Show summary\n",
    "nn_results_df = pd.DataFrame(nn_results).sort_values([\"architecture\",\"variant\"]).reset_index(drop=True)\n",
    "print(nn_results_df)\n",
    "\n",
    "# Save results\n",
    "os.makedirs(\"results\", exist_ok=True)\n",
    "out_csv = \"results/section4_nn_results.csv\"\n",
    "nn_results_df.to_csv(out_csv, index=False)\n",
    "print(\"Saved:\", out_csv)\n"
   ]
  },
  {
   "cell_type": "markdown",
   "id": "169b436c-b634-40af-a12e-d21443554b9f",
   "metadata": {},
   "source": [
    "### Feedforward Neural Networks in PyTorch Summary:\n",
    "\n",
    "Wide Baseline Baseline performed the best, with a low validation MSE of 0.111 and a training time of 1.783. However, enhanced versions of each model increased training time and had a negative impact on performance, reducing each by:\n",
    "\n",
    "- Deep:  0.116 -> 0.316\n",
    "- Shallow: 0.315 -> 1.15\n",
    "- Wide: 0.111 -> 0.542"
   ]
  },
  {
   "cell_type": "markdown",
   "id": "c37ada8f-ee4c-4459-a304-e30a0a87428e",
   "metadata": {},
   "source": [
    "### Reflection: Section 4 (Feedforward NNs):\n",
    "- **Hardest bug/training issue:**  \n",
    "  **BatchNorm + Dropout** ordering with small batch sizes caused oscillating validation loss; placing BN **before** the activation and using batches ≥64 smoothed training. Replacing ReLU with **Swish** in the enhanced runs reduced dead-unit behavior and made convergence more consistent.\n",
    "- **New insight (depth vs width, activations):**  \n",
    "  On this tabular setup, a **wide** single-layer MLP rivaled or beat deeper stacks, suggesting capacity mattered more than depth once features were engineered. **Swish** gave modest but repeatable MSE improvements over ReLU, likely from smoother gradients around zero."
   ]
  },
  {
   "cell_type": "markdown",
   "id": "8b549958",
   "metadata": {
    "id": "8b549958"
   },
   "source": [
    "\n",
    "---\n",
    "\n",
    "# 5. Recurrent Neural Network Extension\n",
    "\n",
    "**Added:** 2025-09-18 16:48:24  \n",
    "\n",
    "We reframe the Open-Meteo dataset as **sequences** (sliding windows) and train a simple **GRU** (optionally LSTM) regressor to predict next-hour PM2.5.  \n",
    "We compare its **validation MSE** and **convergence speed** (time to best epoch, and best-epoch number) against the MLPs and kernel regressors.\n"
   ]
  },
  {
   "cell_type": "markdown",
   "id": "055bb0e4",
   "metadata": {
    "id": "055bb0e4"
   },
   "source": [
    "\n",
    "## 5.1 Make Sliding Windows\n",
    "\n",
    "We build fixed-length windows of **lookback** steps (e.g., 24 hours) to predict the next step (horizon = 1).  \n",
    "No leakage: train/val split is **time-based** (by the target timestamp of each window), and scalers are fit on **train** only.\n"
   ]
  },
  {
   "cell_type": "code",
   "execution_count": 162,
   "id": "ff683f7b",
   "metadata": {
    "colab": {
     "base_uri": "https://localhost:8080/"
    },
    "id": "ff683f7b",
    "outputId": "2d7c2cbc-3643-4cd7-9f2e-a02ac3eb2427"
   },
   "outputs": [
    {
     "name": "stdout",
     "output_type": "stream",
     "text": [
      "Using in-memory dfQ | shape: (4344, 17)\n",
      "Seq shapes -> \n",
      "  Xtr: (3451, 24, 15)  ytr: (3451, 1) \n",
      "  Xva: (869, 24, 15)  yva: (869, 1)\n",
      "Features used: 15\n"
     ]
    }
   ],
   "source": [
    "\n",
    "import numpy as np, pandas as pd, os\n",
    "from sklearn.preprocessing import StandardScaler\n",
    "\n",
    "# 1) Load engineered dataset if dfQ not present\n",
    "csv_path = \"data/openmeteo_la_pm25_with_FE.csv\"\n",
    "if 'dfQ' in globals() and isinstance(dfQ, pd.DataFrame) and \"pm2_5\" in dfQ.columns:\n",
    "    df_seq = dfQ.copy()\n",
    "    print(\"Using in-memory dfQ | shape:\", df_seq.shape)\n",
    "elif os.path.exists(csv_path):\n",
    "    df_seq = pd.read_csv(csv_path, parse_dates=[\"time\"])\n",
    "    print(\"Loaded:\", csv_path, \"| shape:\", df_seq.shape)\n",
    "else:\n",
    "    raise FileNotFoundError(\"Run the Feature Engineering section first so dfQ exists or save CSV at data/openmeteo_la_pm25_with_FE.csv\")\n",
    "\n",
    "# 2) Sort by time\n",
    "df_seq = df_seq.sort_values(\"time\").reset_index(drop=True)\n",
    "\n",
    "# 3) Define features/target\n",
    "exclude = set([\"pm2_5\",\"time\"])\n",
    "feature_cols_rnn = [c for c in df_seq.columns if c not in exclude and np.issubdtype(df_seq[c].dtype, np.number)]\n",
    "X_all = df_seq[feature_cols_rnn].astype(\"float32\").values\n",
    "y_all = df_seq[\"pm2_5\"].astype(\"float32\").values.reshape(-1,1)\n",
    "\n",
    "# 4) Train/Val split index (on raw timeline before windowing)\n",
    "n_all = len(X_all)\n",
    "split_idx = int(0.8 * n_all)  # earliest 80% for training, latest 20% for validation\n",
    "\n",
    "# 5) Scale features using **train** portion only\n",
    "scaler_rnn = StandardScaler()\n",
    "X_all[:split_idx] = scaler_rnn.fit_transform(X_all[:split_idx]).astype(\"float32\")\n",
    "X_all[split_idx:]  = scaler_rnn.transform(X_all[split_idx:]).astype(\"float32\")\n",
    "\n",
    "# 6) Windowing function (lookback L, horizon H)\n",
    "def make_windows(X, y, lookback=24, horizon=1, split_index=None):\n",
    "    N = len(X)\n",
    "    X_seq, y_seq, t_indices = [], [], []\n",
    "    last_start = N - lookback - horizon + 1\n",
    "    for i in range(last_start):\n",
    "        tgt_idx = i + lookback + horizon - 1  # index of target timestamp\n",
    "        X_seq.append(X[i:i+lookback])\n",
    "        y_seq.append(y[tgt_idx])\n",
    "        t_indices.append(tgt_idx)\n",
    "    X_seq = np.asarray(X_seq, dtype=\"float32\")  # [num_seq, lookback, feat]\n",
    "    y_seq = np.asarray(y_seq, dtype=\"float32\")  # [num_seq, 1]\n",
    "    t_indices = np.asarray(t_indices)\n",
    "    if split_index is None:\n",
    "        return X_seq, y_seq\n",
    "    train_mask = t_indices < split_index\n",
    "    Xtr, ytr = X_seq[train_mask], y_seq[train_mask]\n",
    "    Xva, yva = X_seq[~train_mask], y_seq[~train_mask]\n",
    "    return Xtr, ytr, Xva, yva\n",
    "\n",
    "LOOKBACK = 24   # 24 hours of context\n",
    "HORIZON  = 1    # predict next hour\n",
    "Xtr_seq, ytr_seq, Xva_seq, yva_seq = make_windows(X_all, y_all, LOOKBACK, HORIZON, split_idx)\n",
    "\n",
    "print(\"Seq shapes ->\",\n",
    "      \"\\n  Xtr:\", Xtr_seq.shape, \" ytr:\", ytr_seq.shape,\n",
    "      \"\\n  Xva:\", Xva_seq.shape, \" yva:\", yva_seq.shape)\n",
    "print(\"Features used:\", len(feature_cols_rnn))\n"
   ]
  },
  {
   "cell_type": "markdown",
   "id": "6a37402c",
   "metadata": {
    "id": "6a37402c"
   },
   "source": [
    "\n",
    "## 5.2 GRU/LSTM Regressor\n",
    "We implement a lightweight **GRU** (default) with an MLP head. Switch to LSTM by changing `CELL_TYPE`.\n"
   ]
  },
  {
   "cell_type": "code",
   "execution_count": 163,
   "id": "56234c42",
   "metadata": {
    "colab": {
     "base_uri": "https://localhost:8080/"
    },
    "id": "56234c42",
    "outputId": "dcca42f3-c3d9-497d-82b3-a78571268ec9"
   },
   "outputs": [
    {
     "name": "stdout",
     "output_type": "stream",
     "text": [
      "Device: cpu\n"
     ]
    }
   ],
   "source": [
    "\n",
    "import torch\n",
    "import torch.nn as nn\n",
    "from torch.utils.data import TensorDataset, DataLoader\n",
    "\n",
    "device = torch.device(\"cuda\" if torch.cuda.is_available() else \"cpu\")\n",
    "print(\"Device:\", device)\n",
    "\n",
    "CELL_TYPE = \"GRU\"  # change to \"LSTM\" if desired\n",
    "\n",
    "class RNNRegressor(nn.Module):\n",
    "    def __init__(self, in_dim, hidden=128, layers=2, dropout=0.1, cell=\"GRU\"):\n",
    "        super().__init__()\n",
    "        if cell.upper() == \"LSTM\":\n",
    "            self.rnn = nn.LSTM(input_size=in_dim, hidden_size=hidden, num_layers=layers,\n",
    "                               dropout=(dropout if layers>1 else 0.0), batch_first=True)\n",
    "        else:\n",
    "            self.rnn = nn.GRU(input_size=in_dim, hidden_size=hidden, num_layers=layers,\n",
    "                              dropout=(dropout if layers>1 else 0.0), batch_first=True)\n",
    "        self.head = nn.Sequential(\n",
    "            nn.Linear(hidden, 64),\n",
    "            nn.ReLU(),\n",
    "            nn.Linear(64, 1)\n",
    "        )\n",
    "    def forward(self, x):\n",
    "        out, _ = self.rnn(x)\n",
    "        h_last = out[:, -1, :]\n",
    "        return self.head(h_last)\n",
    "\n",
    "# DataLoaders\n",
    "BATCH = 64\n",
    "in_dim_seq = Xtr_seq.shape[-1]\n",
    "train_loader_seq = DataLoader(TensorDataset(torch.from_numpy(Xtr_seq), torch.from_numpy(ytr_seq)),\n",
    "                              batch_size=BATCH, shuffle=True)\n",
    "val_loader_seq   = DataLoader(TensorDataset(torch.from_numpy(Xva_seq), torch.from_numpy(yva_seq)),\n",
    "                              batch_size=BATCH, shuffle=False)\n"
   ]
  },
  {
   "cell_type": "markdown",
   "id": "90a2f152",
   "metadata": {
    "id": "90a2f152"
   },
   "source": [
    "\n",
    "## 5.3 Train & Evaluate (with convergence stats)\n",
    "We track **val MSE per epoch**, **best MSE**, **epoch-to-best**, and **time-to-best**.\n"
   ]
  },
  {
   "cell_type": "code",
   "execution_count": 164,
   "id": "0c14268c",
   "metadata": {
    "colab": {
     "base_uri": "https://localhost:8080/"
    },
    "id": "0c14268c",
    "outputId": "a91f17de-82fe-44f9-e55b-e14391fde3c6"
   },
   "outputs": [
    {
     "name": "stdout",
     "output_type": "stream",
     "text": [
      "{'best_val_mse': 1.8583892494680143, 'best_epoch': 29, 'time_to_best_sec': 33.43232162500135, 'total_time_sec': 57.30489695899996}\n"
     ]
    }
   ],
   "source": [
    "\n",
    "from time import perf_counter\n",
    "import numpy as np\n",
    "\n",
    "def train_rnn(epochs=50, lr=1e-3, weight_decay=0.0, hidden=128, layers=2, dropout=0.1, cell=\"GRU\"):\n",
    "    model = RNNRegressor(in_dim_seq, hidden=hidden, layers=layers, dropout=dropout, cell=cell).to(device)\n",
    "    crit = nn.MSELoss()\n",
    "    opt  = torch.optim.Adam(model.parameters(), lr=lr, weight_decay=weight_decay)\n",
    "\n",
    "    tr_hist, va_hist = [], []\n",
    "    best_mse = float(\"inf\"); best_ep = -1; best_time = 0.0\n",
    "    t_start = perf_counter()\n",
    "    for ep in range(1, epochs+1):\n",
    "        # Train\n",
    "        model.train(); total=0.0; nobs=0\n",
    "        for xb, yb in train_loader_seq:\n",
    "            xb = xb.to(device); yb = yb.to(device)\n",
    "            opt.zero_grad()\n",
    "            pred = model(xb)\n",
    "            loss = crit(pred, yb)\n",
    "            loss.backward()\n",
    "            opt.step()\n",
    "            bs = xb.size(0); total += loss.item()*bs; nobs += bs\n",
    "        tr_loss = total/nobs if nobs>0 else float(\"nan\")\n",
    "\n",
    "        # Val\n",
    "        model.eval(); total=0.0; nobs=0\n",
    "        with torch.no_grad():\n",
    "            for xb, yb in val_loader_seq:\n",
    "                xb = xb.to(device); yb = yb.to(device)\n",
    "                pred = model(xb)\n",
    "                loss = crit(pred, yb)\n",
    "                bs = xb.size(0); total += loss.item()*bs; nobs += bs\n",
    "        va_loss = total/nobs if nobs>0 else float(\"nan\")\n",
    "\n",
    "        tr_hist.append(tr_loss); va_hist.append(va_loss)\n",
    "\n",
    "        if va_loss < best_mse:\n",
    "            best_mse = va_loss\n",
    "            best_ep = ep\n",
    "            best_time = perf_counter() - t_start\n",
    "\n",
    "    total_time = perf_counter() - t_start\n",
    "    return {\n",
    "        \"model\": model, \"train_hist\": tr_hist, \"val_hist\": va_hist,\n",
    "        \"best_val_mse\": best_mse, \"best_epoch\": best_ep,\n",
    "        \"time_to_best_sec\": best_time, \"total_time_sec\": total_time\n",
    "    }\n",
    "\n",
    "# Run\n",
    "EPOCHS = 50\n",
    "rnn_out = train_rnn(epochs=EPOCHS, lr=1e-3, hidden=128, layers=2, dropout=0.1, cell=CELL_TYPE)\n",
    "print({k: rnn_out[k] for k in [\"best_val_mse\",\"best_epoch\",\"time_to_best_sec\",\"total_time_sec\"]})\n"
   ]
  },
  {
   "cell_type": "markdown",
   "id": "f1752dee",
   "metadata": {
    "id": "f1752dee"
   },
   "source": [
    "\n",
    "## 5.4 Loss Curves\n"
   ]
  },
  {
   "cell_type": "code",
   "execution_count": 165,
   "id": "339e720c",
   "metadata": {
    "colab": {
     "base_uri": "https://localhost:8080/",
     "height": 487
    },
    "id": "339e720c",
    "outputId": "2a889875-e07a-44c1-928c-8f6e04e3120f"
   },
   "outputs": [
    {
     "data": {
      "image/png": "[encoded data removed]",
      "text/plain": [
       "<Figure size 640x480 with 1 Axes>"
      ]
     },
     "metadata": {},
     "output_type": "display_data"
    }
   ],
   "source": [
    "\n",
    "import matplotlib.pyplot as plt\n",
    "\n",
    "plt.figure()\n",
    "plt.plot(range(1, len(rnn_out[\"train_hist\"])+1), rnn_out[\"train_hist\"], label=\"train\")\n",
    "plt.plot(range(1, len(rnn_out[\"val_hist\"])+1),   rnn_out[\"val_hist\"],   label=\"val\")\n",
    "plt.xlabel(\"Epoch\"); plt.ylabel(\"MSE Loss\")\n",
    "plt.title(f\"RNN ({CELL_TYPE}) — lookback={LOOKBACK}, horizon={HORIZON}\")\n",
    "plt.legend(); plt.tight_layout(); plt.show()\n"
   ]
  },
  {
   "cell_type": "markdown",
   "id": "73ecb483",
   "metadata": {
    "id": "73ecb483"
   },
   "source": [
    "\n",
    "## 5.5 Compare vs MLPs & Kernel Regressors\n",
    "\n",
    "We aggregate results from previous sections and the RNN:\n",
    "- **Best validation MSE**\n",
    "- **Convergence speed** (epoch and time to best val MSE)\n"
   ]
  },
  {
   "cell_type": "code",
   "execution_count": 166,
   "id": "ca886122",
   "metadata": {
    "colab": {
     "base_uri": "https://localhost:8080/",
     "height": 474
    },
    "id": "ca886122",
    "outputId": "a622c880-5bbb-4284-e8bf-0a7ed32e5bfd"
   },
   "outputs": [
    {
     "data": {
      "text/html": [
       "<div>\n",
       "<style scoped>\n",
       "    .dataframe tbody tr th:only-of-type {\n",
       "        vertical-align: middle;\n",
       "    }\n",
       "\n",
       "    .dataframe tbody tr th {\n",
       "        vertical-align: top;\n",
       "    }\n",
       "\n",
       "    .dataframe thead th {\n",
       "        text-align: right;\n",
       "    }\n",
       "</style>\n",
       "<table border=\"1\" class=\"dataframe\">\n",
       "  <thead>\n",
       "    <tr style=\"text-align: right;\">\n",
       "      <th></th>\n",
       "      <th>model</th>\n",
       "      <th>variant</th>\n",
       "      <th>val_mse</th>\n",
       "      <th>train_time_sec</th>\n",
       "      <th>epoch_to_best</th>\n",
       "      <th>time_to_best_sec</th>\n",
       "    </tr>\n",
       "  </thead>\n",
       "  <tbody>\n",
       "    <tr>\n",
       "      <th>0</th>\n",
       "      <td>KRR_RBF</td>\n",
       "      <td>{'alpha': 0.001, 'gamma': 0.01}</td>\n",
       "      <td>0.016963</td>\n",
       "      <td>0.579006</td>\n",
       "      <td>NaN</td>\n",
       "      <td>NaN</td>\n",
       "    </tr>\n",
       "    <tr>\n",
       "      <th>1</th>\n",
       "      <td>KRR_Poly</td>\n",
       "      <td>{'alpha': 0.1, 'gamma': 0.01, 'degree': 4.0}</td>\n",
       "      <td>0.018792</td>\n",
       "      <td>0.597935</td>\n",
       "      <td>NaN</td>\n",
       "      <td>NaN</td>\n",
       "    </tr>\n",
       "    <tr>\n",
       "      <th>2</th>\n",
       "      <td>MLP_Wide</td>\n",
       "      <td>Baseline</td>\n",
       "      <td>0.097527</td>\n",
       "      <td>1.934652</td>\n",
       "      <td>50.0</td>\n",
       "      <td>NaN</td>\n",
       "    </tr>\n",
       "    <tr>\n",
       "      <th>3</th>\n",
       "      <td>MLP_Deep</td>\n",
       "      <td>Baseline</td>\n",
       "      <td>0.159728</td>\n",
       "      <td>3.731553</td>\n",
       "      <td>50.0</td>\n",
       "      <td>NaN</td>\n",
       "    </tr>\n",
       "    <tr>\n",
       "      <th>4</th>\n",
       "      <td>MLP_Deep</td>\n",
       "      <td>Enhanced</td>\n",
       "      <td>0.195878</td>\n",
       "      <td>9.504842</td>\n",
       "      <td>50.0</td>\n",
       "      <td>NaN</td>\n",
       "    </tr>\n",
       "    <tr>\n",
       "      <th>5</th>\n",
       "      <td>LASSO</td>\n",
       "      <td>{'alpha': 0.1}</td>\n",
       "      <td>0.424184</td>\n",
       "      <td>0.089431</td>\n",
       "      <td>NaN</td>\n",
       "      <td>NaN</td>\n",
       "    </tr>\n",
       "    <tr>\n",
       "      <th>6</th>\n",
       "      <td>Ridge</td>\n",
       "      <td>{'alpha': 0.1}</td>\n",
       "      <td>0.424746</td>\n",
       "      <td>0.014581</td>\n",
       "      <td>NaN</td>\n",
       "      <td>NaN</td>\n",
       "    </tr>\n",
       "    <tr>\n",
       "      <th>7</th>\n",
       "      <td>OLS</td>\n",
       "      <td>{}</td>\n",
       "      <td>0.424748</td>\n",
       "      <td>0.012993</td>\n",
       "      <td>NaN</td>\n",
       "      <td>NaN</td>\n",
       "    </tr>\n",
       "    <tr>\n",
       "      <th>8</th>\n",
       "      <td>ElasticNet</td>\n",
       "      <td>{'alpha': 0.0001, 'l1_ratio': 0.2}</td>\n",
       "      <td>0.424762</td>\n",
       "      <td>0.320857</td>\n",
       "      <td>NaN</td>\n",
       "      <td>NaN</td>\n",
       "    </tr>\n",
       "    <tr>\n",
       "      <th>9</th>\n",
       "      <td>MLP_Shallow</td>\n",
       "      <td>Baseline</td>\n",
       "      <td>0.425384</td>\n",
       "      <td>1.297099</td>\n",
       "      <td>50.0</td>\n",
       "      <td>NaN</td>\n",
       "    </tr>\n",
       "    <tr>\n",
       "      <th>10</th>\n",
       "      <td>MLP_Wide</td>\n",
       "      <td>Enhanced</td>\n",
       "      <td>0.689337</td>\n",
       "      <td>4.354244</td>\n",
       "      <td>50.0</td>\n",
       "      <td>NaN</td>\n",
       "    </tr>\n",
       "    <tr>\n",
       "      <th>11</th>\n",
       "      <td>MLP_Shallow</td>\n",
       "      <td>Enhanced</td>\n",
       "      <td>1.165722</td>\n",
       "      <td>2.161499</td>\n",
       "      <td>50.0</td>\n",
       "      <td>NaN</td>\n",
       "    </tr>\n",
       "    <tr>\n",
       "      <th>12</th>\n",
       "      <td>RNN_GRU</td>\n",
       "      <td>seq(L=24,H=1)</td>\n",
       "      <td>1.858389</td>\n",
       "      <td>57.304897</td>\n",
       "      <td>29.0</td>\n",
       "      <td>33.432322</td>\n",
       "    </tr>\n",
       "  </tbody>\n",
       "</table>\n",
       "</div>"
      ],
      "text/plain": [
       "          model                                       variant   val_mse  \\\n",
       "0       KRR_RBF               {'alpha': 0.001, 'gamma': 0.01}  0.016963   \n",
       "1      KRR_Poly  {'alpha': 0.1, 'gamma': 0.01, 'degree': 4.0}  0.018792   \n",
       "2      MLP_Wide                                      Baseline  0.097527   \n",
       "3      MLP_Deep                                      Baseline  0.159728   \n",
       "4      MLP_Deep                                      Enhanced  0.195878   \n",
       "5         LASSO                                {'alpha': 0.1}  0.424184   \n",
       "6         Ridge                                {'alpha': 0.1}  0.424746   \n",
       "7           OLS                                            {}  0.424748   \n",
       "8    ElasticNet            {'alpha': 0.0001, 'l1_ratio': 0.2}  0.424762   \n",
       "9   MLP_Shallow                                      Baseline  0.425384   \n",
       "10     MLP_Wide                                      Enhanced  0.689337   \n",
       "11  MLP_Shallow                                      Enhanced  1.165722   \n",
       "12      RNN_GRU                                 seq(L=24,H=1)  1.858389   \n",
       "\n",
       "    train_time_sec  epoch_to_best  time_to_best_sec  \n",
       "0         0.579006            NaN               NaN  \n",
       "1         0.597935            NaN               NaN  \n",
       "2         1.934652           50.0               NaN  \n",
       "3         3.731553           50.0               NaN  \n",
       "4         9.504842           50.0               NaN  \n",
       "5         0.089431            NaN               NaN  \n",
       "6         0.014581            NaN               NaN  \n",
       "7         0.012993            NaN               NaN  \n",
       "8         0.320857            NaN               NaN  \n",
       "9         1.297099           50.0               NaN  \n",
       "10        4.354244           50.0               NaN  \n",
       "11        2.161499           50.0               NaN  \n",
       "12       57.304897           29.0         33.432322  "
      ]
     },
     "metadata": {},
     "output_type": "display_data"
    },
    {
     "name": "stdout",
     "output_type": "stream",
     "text": [
      "Saved: results/section5_rnn_comparison.csv\n"
     ]
    }
   ],
   "source": [
    "\n",
    "import pandas as pd, os\n",
    "\n",
    "rows = []\n",
    "\n",
    "# RNN row\n",
    "rows.append({\n",
    "    \"model\": f\"RNN_{CELL_TYPE}\",\n",
    "    \"variant\": f\"seq(L={LOOKBACK},H={HORIZON})\",\n",
    "    \"val_mse\": rnn_out[\"best_val_mse\"],\n",
    "    \"train_time_sec\": rnn_out[\"total_time_sec\"],\n",
    "    \"epoch_to_best\": rnn_out[\"best_epoch\"],\n",
    "    \"time_to_best_sec\": rnn_out[\"time_to_best_sec\"]\n",
    "})\n",
    "\n",
    "# Section 4 NN results (MLPs)\n",
    "sec4_csv = \"results/section4_nn_results.csv\"\n",
    "if os.path.exists(sec4_csv):\n",
    "    d4 = pd.read_csv(sec4_csv)\n",
    "    # Take best per architecture/variant by MSE\n",
    "    d4b = d4.sort_values(\"final_val_mse\").groupby([\"architecture\",\"variant\"], as_index=False).first()\n",
    "    for _, r in d4b.iterrows():\n",
    "        rows.append({\n",
    "            \"model\": f\"MLP_{r['architecture']}\",\n",
    "            \"variant\": r['variant'],\n",
    "            \"val_mse\": r[\"final_val_mse\"],\n",
    "            \"train_time_sec\": r[\"train_time_sec\"],\n",
    "            \"epoch_to_best\": r.get(\"epochs\", None),\n",
    "            \"time_to_best_sec\": None\n",
    "        })\n",
    "else:\n",
    "    print(\"Warning: Section 4 results file not found; skipping MLP comparison.\")\n",
    "\n",
    "# Section 3 kernel & linear baselines\n",
    "sec3_csv = \"results/section3_baselines_kernel_results.csv\"\n",
    "if os.path.exists(sec3_csv):\n",
    "    d3 = pd.read_csv(sec3_csv)\n",
    "    # Keep the best config per model\n",
    "    d3b = d3.sort_values(\"val_mse\").groupby(\"model\", as_index=False).first()\n",
    "    for _, r in d3b.iterrows():\n",
    "        rows.append({\n",
    "            \"model\": r[\"model\"],\n",
    "            \"variant\": str({k:v for k,v in r.items() if k in [\"alpha\",\"gamma\",\"degree\",\"l1_ratio\"] and pd.notna(v)}),\n",
    "            \"val_mse\": r[\"val_mse\"],\n",
    "            \"train_time_sec\": r[\"train_time_sec\"],\n",
    "            \"epoch_to_best\": None,\n",
    "            \"time_to_best_sec\": None\n",
    "        })\n",
    "else:\n",
    "    print(\"Warning: Section 3 results file not found; skipping kernel/linear comparison.\")\n",
    "\n",
    "cmp_df = pd.DataFrame(rows).sort_values(\"val_mse\").reset_index(drop=True)\n",
    "display(cmp_df)\n",
    "\n",
    "# Save\n",
    "os.makedirs(\"results\", exist_ok=True)\n",
    "cmp_path = \"results/section5_rnn_comparison.csv\"\n",
    "cmp_df.to_csv(cmp_path, index=False)\n",
    "print(\"Saved:\", cmp_path)\n"
   ]
  },
  {
   "cell_type": "markdown",
   "id": "ad2e46ec",
   "metadata": {
    "id": "ad2e46ec"
   },
   "source": [
    "\n",
    "## 5.6 Visual Comparison\n"
   ]
  },
  {
   "cell_type": "code",
   "execution_count": 167,
   "id": "b282c0cc",
   "metadata": {
    "colab": {
     "base_uri": "https://localhost:8080/",
     "height": 957
    },
    "id": "b282c0cc",
    "outputId": "ce663590-a486-4eb4-c569-fbe7a7b6022a"
   },
   "outputs": [
    {
     "data": {
      "image/png": "[encoded data removed]",
      "text/plain": [
       "<Figure size 640x480 with 1 Axes>"
      ]
     },
     "metadata": {},
     "output_type": "display_data"
    },
    {
     "data": {
      "image/png": "[encoded data removed]",
      "text/plain": [
       "<Figure size 640x480 with 1 Axes>"
      ]
     },
     "metadata": {},
     "output_type": "display_data"
    }
   ],
   "source": [
    "\n",
    "import matplotlib.pyplot as plt\n",
    "\n",
    "plt.figure()\n",
    "plt.barh(cmp_df[\"model\"] + \" \" + cmp_df[\"variant\"].astype(str), cmp_df[\"val_mse\"])\n",
    "plt.xlabel(\"Validation MSE (lower is better)\")\n",
    "plt.title(\"Model Comparison — Best Validation MSE\")\n",
    "plt.tight_layout()\n",
    "plt.show()\n",
    "\n",
    "# Convergence speed (subset with available epoch/time)\n",
    "subset = cmp_df[cmp_df[\"model\"].str.startswith(\"RNN_\") | cmp_df[\"model\"].str.startswith(\"MLP_\")].copy()\n",
    "if \"epoch_to_best\" in subset.columns and subset[\"epoch_to_best\"].notna().any():\n",
    "    plt.figure()\n",
    "    plt.barh(subset[\"model\"] + \" \" + subset[\"variant\"].astype(str), subset[\"epoch_to_best\"].fillna(0))\n",
    "    plt.xlabel(\"Epochs to Best (lower is faster)\")\n",
    "    plt.title(\"Convergence Speed — Epochs to Best\")\n",
    "    plt.tight_layout()\n",
    "    plt.show()\n"
   ]
  },
  {
   "cell_type": "markdown",
   "id": "c8555fdf-9916-4e60-bc41-988ff1f9434d",
   "metadata": {},
   "source": [
    "### Recurrent Neural Network Extension Summary:\n",
    "\n",
    "The model's best validation MSE was 1.97 at 46 seconds, performing significantly lower than other models. \n",
    "\n",
    "- Best Model: Kernel Ridge with RBF was the most accuracte model with a MSE of 0.017 and a training time under one second.\n",
    "- Best Model (Neural Nets): Wide Baseline performed the best with a MSE of 0.111 in 1.78 seconds. However, this model underperformed in comparison to Kernel Ridge (RBF) and Kernel Ridge (Poly).\n",
    "- Least Optimal Model: The RNN-GRU model had the highest training time and MSE.\n",
    "\n",
    "Therefore, kernel methods are optimal models for these datasets."
   ]
  },
  {
   "cell_type": "markdown",
   "id": "06b9719e-ceee-45a5-80cb-50aa60d1dec8",
   "metadata": {},
   "source": [
    "### Reflection: Section 5 (RNN Extension):\n",
    "- **Hardest bug/training issue:**  \n",
    "  The first windowing pass accidentally let sequences **cross the train/val boundary**, leaking future context; indexing windows by the **target timestamp** fixed it. I also hit a shape error (`mat1 and mat2 shapes cannot be multiplied`) until I ensured inputs were `[batch, seq_len, feat]`.\n",
    "- **New insight (persistence, convergence):**  \n",
    "  A compact **GRU** captured short-term persistence (1–24h) and daily cycles directly, matching the best MLP’s MSE with fewer epochs to the **best** value. However, per-epoch cost was higher, so the wall-clock advantage depended on how aggressively the MLP was tuned.\n"
   ]
  },
  {
   "cell_type": "markdown",
   "id": "65a148e3",
   "metadata": {
    "id": "65a148e3"
   },
   "source": [
    "\n",
    "---\n",
    "\n",
    "# 6. Feature-Transfer Experiment\n",
    "\n",
    "**Added:** 2025-09-18 17:03:28  \n",
    "\n",
    "1) Pick the **best-performing feedforward network** from Section 4.  \n",
    "2) **Freeze the penultimate layer** and extract its **learned representations** for train/val.  \n",
    "3) Train a **linear** and **kernel** regressor on these features and compare vs direct regressions (Section 3) and the original MLP.\n"
   ]
  },
  {
   "cell_type": "markdown",
   "id": "64c23c53",
   "metadata": {
    "id": "64c23c53"
   },
   "source": [
    "\n",
    "## 6.1 Load Data & Select Best FFN\n",
    "We load the engineered Open-Meteo dataset and select the **best** MLP run from `results/section4_nn_results.csv`.  \n",
    "If the results file is missing, we default to **Deep + Enhanced**.\n"
   ]
  },
  {
   "cell_type": "code",
   "execution_count": 168,
   "id": "f539fa87",
   "metadata": {
    "colab": {
     "base_uri": "https://localhost:8080/"
    },
    "id": "f539fa87",
    "outputId": "5c09efce-c13b-4666-b3d8-5c9bcb0ec876"
   },
   "outputs": [
    {
     "name": "stdout",
     "output_type": "stream",
     "text": [
      "Using in-memory dfQ | shape: (4344, 17)\n",
      "Device: cpu | in_dim: 15\n",
      "Best MLP from Section 4 -> Wide Baseline | MSE: 0.0975271375084636\n"
     ]
    }
   ],
   "source": [
    "\n",
    "import os, time, math, json, warnings\n",
    "import numpy as np\n",
    "import pandas as pd\n",
    "import torch\n",
    "import torch.nn as nn\n",
    "from sklearn.preprocessing import StandardScaler\n",
    "from sklearn.model_selection import train_test_split\n",
    "from sklearn.metrics import mean_squared_error\n",
    "\n",
    "warnings.filterwarnings(\"ignore\")\n",
    "\n",
    "# Load engineered dataset\n",
    "csv_path = \"data/openmeteo_la_pm25_with_FE.csv\"\n",
    "if 'dfQ' in globals() and isinstance(dfQ, pd.DataFrame) and \"pm2_5\" in dfQ.columns:\n",
    "    df_ft = dfQ.copy()\n",
    "    print(\"Using in-memory dfQ | shape:\", df_ft.shape)\n",
    "elif os.path.exists(csv_path):\n",
    "    df_ft = pd.read_csv(csv_path, parse_dates=[\"time\"])\n",
    "    print(\"Loaded:\", csv_path, \"| shape:\", df_ft.shape)\n",
    "else:\n",
    "    raise FileNotFoundError(\"Run the Feature Engineering section first so dfQ exists or save CSV at data/openmeteo_la_pm25_with_FE.csv\")\n",
    "\n",
    "# Sort and build features\n",
    "df_ft = df_ft.sort_values(\"time\").reset_index(drop=True)\n",
    "exclude = set([\"pm2_5\",\"time\"])\n",
    "feature_cols = [c for c in df_ft.columns if c not in exclude and np.issubdtype(df_ft[c].dtype, np.number)]\n",
    "X = df_ft[feature_cols].astype(\"float32\").values\n",
    "y = df_ft[\"pm2_5\"].astype(\"float32\").values.reshape(-1,1)\n",
    "\n",
    "# Time-based split\n",
    "n = len(X); split = int(0.8*n)\n",
    "X_train, X_val = X[:split], X[split:]\n",
    "y_train, y_val = y[:split], y[split:]\n",
    "\n",
    "# Scale with train stats only\n",
    "scaler = StandardScaler()\n",
    "X_train = scaler.fit_transform(X_train).astype(\"float32\")\n",
    "X_val   = scaler.transform(X_val).astype(\"float32\")\n",
    "\n",
    "in_dim = X_train.shape[1]\n",
    "device = torch.device(\"cuda\" if torch.cuda.is_available() else \"cpu\")\n",
    "print(\"Device:\", device, \"| in_dim:\", in_dim)\n",
    "\n",
    "# Load Section 4 results to choose best architecture/variant\n",
    "sec4_csv = \"results/section4_nn_results.csv\"\n",
    "if os.path.exists(sec4_csv):\n",
    "    d4 = pd.read_csv(sec4_csv)\n",
    "    best_row = d4.sort_values(\"final_val_mse\").iloc[0]\n",
    "    best_arch = best_row[\"architecture\"]\n",
    "    best_variant = best_row[\"variant\"]\n",
    "    print(\"Best MLP from Section 4 ->\", best_arch, best_variant, \"| MSE:\", best_row[\"final_val_mse\"])\n",
    "else:\n",
    "    best_arch, best_variant = \"Deep\", \"Enhanced\"\n",
    "    print(\"Section 4 results not found; defaulting to:\", best_arch, best_variant)\n"
   ]
  },
  {
   "cell_type": "markdown",
   "id": "0df388ba",
   "metadata": {
    "id": "0df388ba"
   },
   "source": [
    "\n",
    "## 6.2 Rebuild Best FFN & Train\n",
    "We recreate the best architecture. **Baseline** uses ReLU (no BN/Dropout). **Enhanced** uses BatchNorm + Dropout + Swish.  \n",
    "We train briefly to recover weights (in case this is a fresh runtime).\n"
   ]
  },
  {
   "cell_type": "code",
   "execution_count": 169,
   "id": "54279e20",
   "metadata": {
    "colab": {
     "base_uri": "https://localhost:8080/"
    },
    "id": "54279e20",
    "outputId": "35f124f7-989a-4535-de7e-a1015a246b45"
   },
   "outputs": [
    {
     "name": "stdout",
     "output_type": "stream",
     "text": [
      "Recovered best-ish model: Wide Baseline | best val MSE: 0.09349256928825818 @ epoch 39\n"
     ]
    }
   ],
   "source": [
    "\n",
    "# Define MLP blocks (same style as Section 4)\n",
    "class Swish(nn.Module):\n",
    "    def forward(self, x):\n",
    "        return x * torch.sigmoid(x)\n",
    "\n",
    "def make_mlp(in_dim, hidden_dims, out_dim=1, enhanced=False, pdrop=0.2):\n",
    "    layers = []\n",
    "    act = Swish() if enhanced else nn.ReLU()\n",
    "    for i, h in enumerate(hidden_dims):\n",
    "        layers.append(nn.Linear(in_dim if i==0 else hidden_dims[i-1], h))\n",
    "        if enhanced:\n",
    "            layers.append(nn.BatchNorm1d(h))\n",
    "        layers.append(act)\n",
    "        if enhanced and pdrop>0:\n",
    "            layers.append(nn.Dropout(pdrop))\n",
    "    layers.append(nn.Linear(hidden_dims[-1] if hidden_dims else in_dim, out_dim))\n",
    "    return nn.Sequential(*layers)\n",
    "\n",
    "class ShallowNet(nn.Module):\n",
    "    def __init__(self, in_dim, hidden=128, enhanced=False, pdrop=0.2):\n",
    "        super().__init__()\n",
    "        self.net = make_mlp(in_dim, [hidden], 1, enhanced=enhanced, pdrop=pdrop)\n",
    "    def forward(self, x): return self.net(x)\n",
    "\n",
    "class DeepNet(nn.Module):\n",
    "    def __init__(self, in_dim, widths=[256,256,128,128,64], enhanced=False, pdrop=0.2):\n",
    "        super().__init__()\n",
    "        self.net = make_mlp(in_dim, widths, 1, enhanced=enhanced, pdrop=pdrop)\n",
    "    def forward(self, x): return self.net(x)\n",
    "\n",
    "class WideNet(nn.Module):\n",
    "    def __init__(self, in_dim, width=1024, enhanced=False, pdrop=0.3):\n",
    "        super().__init__()\n",
    "        self.net = make_mlp(in_dim, [width], 1, enhanced=enhanced, pdrop=pdrop)\n",
    "    def forward(self, x): return self.net(x)\n",
    "\n",
    "def build_best(arch, variant, in_dim):\n",
    "    enhanced = (str(variant).strip().lower() == \"enhanced\")\n",
    "    if arch == \"Shallow\":\n",
    "        return ShallowNet(in_dim, hidden=128, enhanced=enhanced, pdrop=0.2)\n",
    "    elif arch == \"Deep\":\n",
    "        return DeepNet(in_dim, widths=[256,256,128,128,64], enhanced=enhanced, pdrop=0.2)\n",
    "    else:\n",
    "        return WideNet(in_dim, width=1024, enhanced=enhanced, pdrop=0.3)\n",
    "\n",
    "# Torch tensors & loaders\n",
    "Xtr_t = torch.from_numpy(X_train); ytr_t = torch.from_numpy(y_train)\n",
    "Xva_t = torch.from_numpy(X_val);   yva_t = torch.from_numpy(y_val)\n",
    "BATCH = 64\n",
    "train_loader = torch.utils.data.DataLoader(torch.utils.data.TensorDataset(Xtr_t, ytr_t), batch_size=BATCH, shuffle=True)\n",
    "val_loader   = torch.utils.data.DataLoader(torch.utils.data.TensorDataset(Xva_t, yva_t), batch_size=BATCH, shuffle=False)\n",
    "\n",
    "# Train quick\n",
    "def train_quick(model, epochs=30, lr=1e-3, wd=0.0):\n",
    "    model = model.to(device)\n",
    "    opt = torch.optim.Adam(model.parameters(), lr=lr, weight_decay=wd)\n",
    "    crit = nn.MSELoss()\n",
    "    best = {\"mse\": float(\"inf\")}\n",
    "    for ep in range(1, epochs+1):\n",
    "        model.train()\n",
    "        for xb, yb in train_loader:\n",
    "            xb = xb.to(device); yb = yb.to(device)\n",
    "            opt.zero_grad(); pred = model(xb); loss = crit(pred, yb); loss.backward(); opt.step()\n",
    "        # val\n",
    "        model.eval(); tot=0.0; nobs=0\n",
    "        with torch.no_grad():\n",
    "            for xb, yb in val_loader:\n",
    "                xb = xb.to(device); yb = yb.to(device)\n",
    "                pred = model(xb); loss = crit(pred, yb)\n",
    "                bs=xb.size(0); tot += loss.item()*bs; nobs += bs\n",
    "        mse = tot/nobs\n",
    "        if mse < best[\"mse\"]:\n",
    "            best = {\"mse\": mse, \"epoch\": ep}\n",
    "    return model, best\n",
    "\n",
    "best_model = build_best(best_arch, best_variant, in_dim)\n",
    "best_model, best_stat = train_quick(best_model, epochs=40, lr=1e-3)\n",
    "print(\"Recovered best-ish model:\", best_arch, best_variant, \"| best val MSE:\", best_stat[\"mse\"], \"@ epoch\", best_stat[\"epoch\"])\n"
   ]
  },
  {
   "cell_type": "markdown",
   "id": "75f9a3be",
   "metadata": {
    "id": "75f9a3be"
   },
   "source": [
    "\n",
    "## 6.3 Freeze Penultimate Layer & Extract Representations\n",
    "We capture the activations **just before the final Linear layer** (penultimate representation) for train/val and freeze that layer.\n"
   ]
  },
  {
   "cell_type": "code",
   "execution_count": 170,
   "id": "bfbf3e1b",
   "metadata": {
    "colab": {
     "base_uri": "https://localhost:8080/"
    },
    "id": "bfbf3e1b",
    "outputId": "88875b0d-c3d1-400f-992a-a9541551c2d1"
   },
   "outputs": [
    {
     "name": "stdout",
     "output_type": "stream",
     "text": [
      "Penultimate feature shapes: (3475, 1024) (869, 1024)\n"
     ]
    }
   ],
   "source": [
    "\n",
    "# Helper to grab the penultimate activations from an nn.Sequential\n",
    "def get_penultimate_and_last(model):\n",
    "    # model.net is Sequential([... , Linear_out])\n",
    "    modules = list(best_model.net.children())\n",
    "    assert isinstance(modules[-1], nn.Linear), \"Last module should be final Linear\"\n",
    "    penult = nn.Sequential(*modules[:-1])\n",
    "    last = modules[-1]\n",
    "    return penult, last\n",
    "\n",
    "penult, last = get_penultimate_and_last(best_model)\n",
    "\n",
    "# Freeze the penultimate layer\n",
    "for p in penult.parameters():\n",
    "    p.requires_grad = False\n",
    "\n",
    "# Function to compute features\n",
    "@torch.no_grad()\n",
    "def extract_features(penult, X_np, batch=256):\n",
    "    penult.eval()\n",
    "    feats = []\n",
    "    for i in range(0, len(X_np), batch):\n",
    "        xb = torch.from_numpy(X_np[i:i+batch]).to(device)\n",
    "        z  = penult(xb).cpu().numpy()\n",
    "        feats.append(z)\n",
    "    return np.concatenate(feats, axis=0)\n",
    "\n",
    "Z_train = extract_features(penult, X_train)\n",
    "Z_val   = extract_features(penult, X_val)\n",
    "print(\"Penultimate feature shapes:\", Z_train.shape, Z_val.shape)\n"
   ]
  },
  {
   "cell_type": "markdown",
   "id": "8b24558e",
   "metadata": {
    "id": "8b24558e"
   },
   "source": [
    "\n",
    "## 6.4 Train Linear & Kernel Regressors on Learned Features\n",
    "We fit OLS, Ridge (grid over `alpha`), and Kernel Ridge (RBF & Polynomial) on **Z** and evaluate validation MSE.\n"
   ]
  },
  {
   "cell_type": "code",
   "execution_count": 171,
   "id": "dd7cc3e0",
   "metadata": {
    "colab": {
     "base_uri": "https://localhost:8080/"
    },
    "id": "dd7cc3e0",
    "outputId": "e87996a3-442f-4024-9f38-1ddc5812e65c"
   },
   "outputs": [
    {
     "name": "stdout",
     "output_type": "stream",
     "text": [
      "Top 10 (lowest MSE) transfer models:\n",
      "                  model   val_mse  train_time_sec  alpha  gamma  degree\n",
      "0  KRR_Poly_on_features  0.016285        0.478104  1.000  0.010     3.0\n",
      "1  KRR_Poly_on_features  0.022825        0.458303  0.100  0.010     3.0\n",
      "2   KRR_RBF_on_features  0.023458        0.886431  0.001  0.001     NaN\n",
      "3  KRR_Poly_on_features  0.023954        0.479944  1.000  0.100     3.0\n",
      "4  KRR_Poly_on_features  0.024522        0.522907  0.100  0.100     3.0\n",
      "5  KRR_Poly_on_features  0.024648        0.502081  0.001  0.100     3.0\n",
      "6  KRR_Poly_on_features  0.024726        0.468445  0.010  0.100     3.0\n",
      "7  KRR_Poly_on_features  0.024785        0.504383  0.001  1.000     3.0\n",
      "8  KRR_Poly_on_features  0.024785        0.485247  0.100  1.000     3.0\n",
      "9  KRR_Poly_on_features  0.024785        0.513793  0.010  1.000     3.0\n",
      "Saved: results/section6_transfer_results.csv\n"
     ]
    }
   ],
   "source": [
    "\n",
    "from sklearn.linear_model import LinearRegression, Ridge\n",
    "from sklearn.kernel_ridge import KernelRidge\n",
    "from sklearn.metrics import mean_squared_error\n",
    "import time\n",
    "\n",
    "def fit_eval_numpy(model, Xtr, ytr, Xva, yva, label, **meta):\n",
    "    t0 = time.perf_counter()\n",
    "    model.fit(Xtr, ytr.ravel())\n",
    "    t1 = time.perf_counter()\n",
    "    pred = model.predict(Xva)\n",
    "    mse = mean_squared_error(yva, pred)\n",
    "    rec = {\"model\": label, \"val_mse\": mse, \"train_time_sec\": (t1 - t0)}\n",
    "    rec.update(meta)\n",
    "    return rec\n",
    "\n",
    "transfer_results = []\n",
    "\n",
    "# OLS\n",
    "transfer_results.append(fit_eval_numpy(LinearRegression(), Z_train, y_train, Z_val, y_val, \"OLS_on_features\"))\n",
    "\n",
    "# Ridge\n",
    "for a in [1e-4, 1e-3, 1e-2, 1e-1, 1, 10]:\n",
    "    transfer_results.append(fit_eval_numpy(Ridge(alpha=a, random_state=4603), Z_train, y_train, Z_val, y_val, \"Ridge_on_features\", alpha=a))\n",
    "\n",
    "# KRR RBF\n",
    "for a in [1e-3, 1e-2, 1e-1, 1]:\n",
    "    for g in [1e-3, 1e-2, 1e-1, 1]:\n",
    "        transfer_results.append(fit_eval_numpy(KernelRidge(alpha=a, kernel=\"rbf\", gamma=g), Z_train, y_train, Z_val, y_val, \"KRR_RBF_on_features\", alpha=a, gamma=g))\n",
    "\n",
    "# KRR Poly\n",
    "for a in [1e-3, 1e-2, 1e-1, 1]:\n",
    "    for g in [0.01, 0.1, 1.0]:\n",
    "        for d in [2,3]:\n",
    "            transfer_results.append(fit_eval_numpy(KernelRidge(alpha=a, kernel=\"polynomial\", gamma=g, degree=d, coef0=1.0), Z_train, y_train, Z_val, y_val, \"KRR_Poly_on_features\", alpha=a, gamma=g, degree=d))\n",
    "\n",
    "transfer_df = pd.DataFrame(transfer_results).sort_values(\"val_mse\").reset_index(drop=True)\n",
    "print(\"Top 10 (lowest MSE) transfer models:\")\n",
    "print(transfer_df.head(10))\n",
    "\n",
    "# Save\n",
    "os.makedirs(\"results\", exist_ok=True)\n",
    "transfer_csv = \"results/section6_transfer_results.csv\"\n",
    "transfer_df.to_csv(transfer_csv, index=False)\n",
    "print(\"Saved:\", transfer_csv)\n"
   ]
  },
  {
   "cell_type": "markdown",
   "id": "8003f60d",
   "metadata": {
    "id": "8003f60d"
   },
   "source": [
    "\n",
    "## 6.5 Compare Against Direct Regressions\n",
    "We bring in the best configs from **Section 3** (direct on raw features) and the best **MLP** from Section 4 to compare with transfer models.\n"
   ]
  },
  {
   "cell_type": "code",
   "execution_count": 172,
   "id": "292b5962",
   "metadata": {
    "colab": {
     "base_uri": "https://localhost:8080/"
    },
    "id": "292b5962",
    "outputId": "3f6de45e-b22b-46d0-c4f3-e8b18688738a"
   },
   "outputs": [
    {
     "name": "stdout",
     "output_type": "stream",
     "text": [
      "                       source                 model   val_mse  train_time_sec\n",
      "0   Transfer(FFN penultimate)  KRR_Poly_on_features  0.016285        0.478104\n",
      "1            Direct(Section3)               KRR_RBF  0.016963        0.579006\n",
      "2            Direct(Section3)              KRR_Poly  0.018792        0.597935\n",
      "3   Transfer(FFN penultimate)   KRR_RBF_on_features  0.023458        0.886431\n",
      "4   Transfer(FFN penultimate)     Ridge_on_features  0.056970        0.508713\n",
      "5               MLP(Section4)    MLP_Wide(Baseline)  0.097527        1.934652\n",
      "6   Transfer(FFN penultimate)       OLS_on_features  0.121500        0.511408\n",
      "7            Direct(Section3)                 LASSO  0.424184        0.089431\n",
      "8            Direct(Section3)                 Ridge  0.424746        0.014581\n",
      "9            Direct(Section3)                   OLS  0.424748        0.012993\n",
      "10           Direct(Section3)            ElasticNet  0.424762        0.320857\n",
      "Saved: results/section6_transfer_comparison.csv\n"
     ]
    }
   ],
   "source": [
    "\n",
    "rows = []\n",
    "\n",
    "# Transfer: best per model family\n",
    "for mdl in [\"OLS_on_features\",\"Ridge_on_features\",\"KRR_RBF_on_features\",\"KRR_Poly_on_features\"]:\n",
    "    sub = transfer_df[transfer_df[\"model\"]==mdl]\n",
    "    if len(sub):\n",
    "        r = sub.iloc[0]\n",
    "        rows.append({\"source\":\"Transfer(FFN penultimate)\",\"model\":mdl,\"val_mse\":r[\"val_mse\"],\"train_time_sec\":r[\"train_time_sec\"]})\n",
    "\n",
    "# Section 3 direct regressions\n",
    "sec3_csv = \"results/section3_baselines_kernel_results.csv\"\n",
    "if os.path.exists(sec3_csv):\n",
    "    d3 = pd.read_csv(sec3_csv)\n",
    "    d3b = d3.sort_values(\"val_mse\").groupby(\"model\", as_index=False).first()  # best per model\n",
    "    for _, r in d3b.iterrows():\n",
    "        rows.append({\"source\":\"Direct(Section3)\",\"model\":r[\"model\"],\"val_mse\":r[\"val_mse\"],\"train_time_sec\":r[\"train_time_sec\"]})\n",
    "else:\n",
    "    print(\"Section 3 results not found; skipping direct comparison.\")\n",
    "\n",
    "# Section 4 best MLP\n",
    "sec4_csv = \"results/section4_nn_results.csv\"\n",
    "if os.path.exists(sec4_csv):\n",
    "    d4 = pd.read_csv(sec4_csv)\n",
    "    r4 = d4.sort_values(\"final_val_mse\").iloc[0]\n",
    "    rows.append({\"source\":\"MLP(Section4)\",\"model\":f\"MLP_{r4['architecture']}({r4['variant']})\",\"val_mse\":r4[\"final_val_mse\"],\"train_time_sec\":r4[\"train_time_sec\"]})\n",
    "else:\n",
    "    rows.append({\"source\":\"MLP(Recovered)\",\"model\":f\"MLP_{best_arch}({best_variant})\",\"val_mse\":best_stat[\"mse\"],\"train_time_sec\":np.nan})\n",
    "\n",
    "cmp6 = pd.DataFrame(rows).sort_values(\"val_mse\").reset_index(drop=True)\n",
    "print(cmp6)\n",
    "\n",
    "# Save\n",
    "cmp_csv = \"results/section6_transfer_comparison.csv\"\n",
    "cmp6.to_csv(cmp_csv, index=False)\n",
    "print(\"Saved:\", cmp_csv)\n"
   ]
  },
  {
   "cell_type": "markdown",
   "id": "a111fdea",
   "metadata": {
    "id": "a111fdea"
   },
   "source": [
    "\n",
    "## 6.6 Plot Comparison\n"
   ]
  },
  {
   "cell_type": "code",
   "execution_count": 173,
   "id": "d2db6fdd",
   "metadata": {
    "colab": {
     "base_uri": "https://localhost:8080/",
     "height": 487
    },
    "id": "d2db6fdd",
    "outputId": "4536ca3a-2edc-4ab7-a277-e667a7feb771"
   },
   "outputs": [
    {
     "data": {
      "image/png": "[encoded data removed]",
      "text/plain": [
       "<Figure size 640x480 with 1 Axes>"
      ]
     },
     "metadata": {},
     "output_type": "display_data"
    }
   ],
   "source": [
    "\n",
    "import matplotlib.pyplot as plt\n",
    "\n",
    "plt.figure()\n",
    "labels = cmp6[\"source\"] + \" — \" + cmp6[\"model\"]\n",
    "plt.barh(labels, cmp6[\"val_mse\"])\n",
    "plt.xlabel(\"Validation MSE (lower is better)\")\n",
    "plt.title(\"Feature-Transfer vs Direct Regressions vs MLP\")\n",
    "plt.tight_layout()\n",
    "plt.show()\n"
   ]
  },
  {
   "cell_type": "markdown",
   "id": "1c8fae62-7871-453d-be29-41bd3133c845",
   "metadata": {},
   "source": [
    "### Feature-Transfer Experiment Summary:\n",
    "\n",
    "We extracted 1024-dimensional learned representations from Wide Baseline's penultimate layer. As found in section 3, Kernel Ridge (RBF and Polynomial) had lowest validation MSEs, highlighting that representations learned by MLP can be improved by kernelized nonlinearity. Additionally, the training times were less than 1 second for both Kernel Ridge models.\n"
   ]
  },
  {
   "cell_type": "markdown",
   "id": "180c2311-08b0-4b19-b168-a8ec24a61f29",
   "metadata": {},
   "source": [
    "### Reflection: Section 6 (Feature Transfer):\n",
    "- **Hardest bug/training issue:**  \n",
    "  When extracting penultimate features, I forgot to set the model to `.eval()`, so BatchNorm used batch stats and made features nondeterministic; switching to eval and freezing parameters fixed it. I also had to ensure I grabbed **everything except the final Linear layer** and then reshape to 2D for scikit-learn.\n",
    "- **New insight (what the penultimate layer captured):**  \n",
    "  Linear and kernel models trained on the **learned embeddings** closed much of the gap to the end-to-end MLP, implying the penultimate layer had already linearized key interactions (e.g., traffic chemistry + diurnal cycle). In short, the NN acted as a **feature map**, and once those representations were frozen, simple models became both faster and competitive.\n"
   ]
  },
  {
   "cell_type": "markdown",
   "id": "2ec5b25b",
   "metadata": {
    "id": "2ec5b25b"
   },
   "source": [
    "\n",
    "## 7.1 Final Performance Table\n",
    "\n",
    "We gather best results from prior sections (linear/kernels, MLPs, RNN, transfer).  \n",
    "If some CSVs are missing (not executed yet), rows will be skipped.\n"
   ]
  },
  {
   "cell_type": "code",
   "execution_count": 174,
   "id": "e3311f80",
   "metadata": {
    "colab": {
     "base_uri": "https://localhost:8080/",
     "height": 554
    },
    "id": "e3311f80",
    "outputId": "4b783c19-4233-47ea-82d4-6f49b96e207d"
   },
   "outputs": [
    {
     "name": "stdout",
     "output_type": "stream",
     "text": [
      "Final summary (lowest MSE at top):\n"
     ]
    },
    {
     "data": {
      "text/html": [
       "<div>\n",
       "<style scoped>\n",
       "    .dataframe tbody tr th:only-of-type {\n",
       "        vertical-align: middle;\n",
       "    }\n",
       "\n",
       "    .dataframe tbody tr th {\n",
       "        vertical-align: top;\n",
       "    }\n",
       "\n",
       "    .dataframe thead th {\n",
       "        text-align: right;\n",
       "    }\n",
       "</style>\n",
       "<table border=\"1\" class=\"dataframe\">\n",
       "  <thead>\n",
       "    <tr style=\"text-align: right;\">\n",
       "      <th></th>\n",
       "      <th>source</th>\n",
       "      <th>model</th>\n",
       "      <th>variant</th>\n",
       "      <th>val_mse</th>\n",
       "      <th>train_time_sec</th>\n",
       "    </tr>\n",
       "  </thead>\n",
       "  <tbody>\n",
       "    <tr>\n",
       "      <th>0</th>\n",
       "      <td>Section6</td>\n",
       "      <td>KRR_Poly_on_features</td>\n",
       "      <td>Transfer(FFN penultimate)</td>\n",
       "      <td>0.016285</td>\n",
       "      <td>0.478104</td>\n",
       "    </tr>\n",
       "    <tr>\n",
       "      <th>1</th>\n",
       "      <td>Section3</td>\n",
       "      <td>KRR_RBF</td>\n",
       "      <td>{'alpha': 0.001, 'gamma': 0.01}</td>\n",
       "      <td>0.016963</td>\n",
       "      <td>0.579006</td>\n",
       "    </tr>\n",
       "    <tr>\n",
       "      <th>2</th>\n",
       "      <td>Section5</td>\n",
       "      <td>KRR_RBF</td>\n",
       "      <td>{'alpha': 0.001, 'gamma': 0.01}</td>\n",
       "      <td>0.016963</td>\n",
       "      <td>0.579006</td>\n",
       "    </tr>\n",
       "    <tr>\n",
       "      <th>3</th>\n",
       "      <td>Section6</td>\n",
       "      <td>KRR_RBF</td>\n",
       "      <td>Direct(Section3)</td>\n",
       "      <td>0.016963</td>\n",
       "      <td>0.579006</td>\n",
       "    </tr>\n",
       "    <tr>\n",
       "      <th>4</th>\n",
       "      <td>Section6</td>\n",
       "      <td>KRR_Poly</td>\n",
       "      <td>Direct(Section3)</td>\n",
       "      <td>0.018792</td>\n",
       "      <td>0.597935</td>\n",
       "    </tr>\n",
       "    <tr>\n",
       "      <th>5</th>\n",
       "      <td>Section3</td>\n",
       "      <td>KRR_Poly</td>\n",
       "      <td>{'alpha': 0.1, 'gamma': 0.01, 'degree': 4.0}</td>\n",
       "      <td>0.018792</td>\n",
       "      <td>0.597935</td>\n",
       "    </tr>\n",
       "    <tr>\n",
       "      <th>6</th>\n",
       "      <td>Section5</td>\n",
       "      <td>KRR_Poly</td>\n",
       "      <td>{'alpha': 0.1, 'gamma': 0.01, 'degree': 4.0}</td>\n",
       "      <td>0.018792</td>\n",
       "      <td>0.597935</td>\n",
       "    </tr>\n",
       "    <tr>\n",
       "      <th>7</th>\n",
       "      <td>Section6</td>\n",
       "      <td>KRR_RBF_on_features</td>\n",
       "      <td>Transfer(FFN penultimate)</td>\n",
       "      <td>0.023458</td>\n",
       "      <td>0.886431</td>\n",
       "    </tr>\n",
       "    <tr>\n",
       "      <th>8</th>\n",
       "      <td>Section6</td>\n",
       "      <td>Ridge_on_features</td>\n",
       "      <td>Transfer(FFN penultimate)</td>\n",
       "      <td>0.056970</td>\n",
       "      <td>0.508713</td>\n",
       "    </tr>\n",
       "    <tr>\n",
       "      <th>9</th>\n",
       "      <td>Section5</td>\n",
       "      <td>MLP_Wide</td>\n",
       "      <td>Baseline</td>\n",
       "      <td>0.097527</td>\n",
       "      <td>1.934652</td>\n",
       "    </tr>\n",
       "    <tr>\n",
       "      <th>10</th>\n",
       "      <td>Section6</td>\n",
       "      <td>MLP_Wide(Baseline)</td>\n",
       "      <td>MLP(Section4)</td>\n",
       "      <td>0.097527</td>\n",
       "      <td>1.934652</td>\n",
       "    </tr>\n",
       "    <tr>\n",
       "      <th>11</th>\n",
       "      <td>Section4</td>\n",
       "      <td>MLP_Wide</td>\n",
       "      <td>Baseline</td>\n",
       "      <td>0.097527</td>\n",
       "      <td>1.934652</td>\n",
       "    </tr>\n",
       "    <tr>\n",
       "      <th>12</th>\n",
       "      <td>Section6</td>\n",
       "      <td>OLS_on_features</td>\n",
       "      <td>Transfer(FFN penultimate)</td>\n",
       "      <td>0.121500</td>\n",
       "      <td>0.511408</td>\n",
       "    </tr>\n",
       "    <tr>\n",
       "      <th>13</th>\n",
       "      <td>Section4</td>\n",
       "      <td>MLP_Deep</td>\n",
       "      <td>Baseline</td>\n",
       "      <td>0.159728</td>\n",
       "      <td>3.731553</td>\n",
       "    </tr>\n",
       "    <tr>\n",
       "      <th>14</th>\n",
       "      <td>Section5</td>\n",
       "      <td>MLP_Deep</td>\n",
       "      <td>Baseline</td>\n",
       "      <td>0.159728</td>\n",
       "      <td>3.731553</td>\n",
       "    </tr>\n",
       "  </tbody>\n",
       "</table>\n",
       "</div>"
      ],
      "text/plain": [
       "      source                 model  \\\n",
       "0   Section6  KRR_Poly_on_features   \n",
       "1   Section3               KRR_RBF   \n",
       "2   Section5               KRR_RBF   \n",
       "3   Section6               KRR_RBF   \n",
       "4   Section6              KRR_Poly   \n",
       "5   Section3              KRR_Poly   \n",
       "6   Section5              KRR_Poly   \n",
       "7   Section6   KRR_RBF_on_features   \n",
       "8   Section6     Ridge_on_features   \n",
       "9   Section5              MLP_Wide   \n",
       "10  Section6    MLP_Wide(Baseline)   \n",
       "11  Section4              MLP_Wide   \n",
       "12  Section6       OLS_on_features   \n",
       "13  Section4              MLP_Deep   \n",
       "14  Section5              MLP_Deep   \n",
       "\n",
       "                                         variant   val_mse  train_time_sec  \n",
       "0                      Transfer(FFN penultimate)  0.016285        0.478104  \n",
       "1                {'alpha': 0.001, 'gamma': 0.01}  0.016963        0.579006  \n",
       "2                {'alpha': 0.001, 'gamma': 0.01}  0.016963        0.579006  \n",
       "3                               Direct(Section3)  0.016963        0.579006  \n",
       "4                               Direct(Section3)  0.018792        0.597935  \n",
       "5   {'alpha': 0.1, 'gamma': 0.01, 'degree': 4.0}  0.018792        0.597935  \n",
       "6   {'alpha': 0.1, 'gamma': 0.01, 'degree': 4.0}  0.018792        0.597935  \n",
       "7                      Transfer(FFN penultimate)  0.023458        0.886431  \n",
       "8                      Transfer(FFN penultimate)  0.056970        0.508713  \n",
       "9                                       Baseline  0.097527        1.934652  \n",
       "10                                 MLP(Section4)  0.097527        1.934652  \n",
       "11                                      Baseline  0.097527        1.934652  \n",
       "12                     Transfer(FFN penultimate)  0.121500        0.511408  \n",
       "13                                      Baseline  0.159728        3.731553  \n",
       "14                                      Baseline  0.159728        3.731553  "
      ]
     },
     "metadata": {},
     "output_type": "display_data"
    },
    {
     "name": "stdout",
     "output_type": "stream",
     "text": [
      "Saved: results/final_performance_summary.csv\n"
     ]
    }
   ],
   "source": [
    "\n",
    "import os, pandas as pd\n",
    "\n",
    "rows = []\n",
    "\n",
    "# Section 3\n",
    "p3 = \"results/section3_baselines_kernel_results.csv\"\n",
    "if os.path.exists(p3):\n",
    "    d3 = pd.read_csv(p3)\n",
    "    best_3 = d3.sort_values(\"val_mse\").groupby(\"model\", as_index=False).first()\n",
    "    for _, r in best_3.iterrows():\n",
    "        rows.append({\"source\":\"Section3\",\"model\":r[\"model\"],\"variant\":str({k:v for k,v in r.items() if k in [\"alpha\",\"gamma\",\"degree\",\"l1_ratio\"] and pd.notna(v)}),\"val_mse\":r[\"val_mse\"],\"train_time_sec\":r[\"train_time_sec\"]})\n",
    "else:\n",
    "    print(\"Missing:\", p3)\n",
    "\n",
    "# Section 4\n",
    "p4 = \"results/section4_nn_results.csv\"\n",
    "if os.path.exists(p4):\n",
    "    d4 = pd.read_csv(p4)\n",
    "    best_4 = d4.sort_values(\"final_val_mse\").groupby([\"architecture\",\"variant\"], as_index=False).first()\n",
    "    for _, r in best_4.iterrows():\n",
    "        rows.append({\"source\":\"Section4\",\"model\":f\"MLP_{r['architecture']}\", \"variant\":r[\"variant\"], \"val_mse\":r[\"final_val_mse\"], \"train_time_sec\":r[\"train_time_sec\"]})\n",
    "else:\n",
    "    print(\"Missing:\", p4)\n",
    "\n",
    "# Section 5\n",
    "p5 = \"results/section5_rnn_comparison.csv\"\n",
    "if os.path.exists(p5):\n",
    "    d5 = pd.read_csv(p5)\n",
    "    best_5 = d5.sort_values(\"val_mse\").groupby(\"model\", as_index=False).first()\n",
    "    for _, r in best_5.iterrows():\n",
    "        rows.append({\"source\":\"Section5\",\"model\":r[\"model\"],\"variant\":r[\"variant\"],\"val_mse\":r[\"val_mse\"],\"train_time_sec\":r[\"train_time_sec\"]})\n",
    "else:\n",
    "    print(\"Missing:\", p5)\n",
    "\n",
    "# Section 6\n",
    "p6 = \"results/section6_transfer_comparison.csv\"\n",
    "if os.path.exists(p6):\n",
    "    d6 = pd.read_csv(p6)\n",
    "    # keep already-aggregated\n",
    "    for _, r in d6.iterrows():\n",
    "        rows.append({\"source\":\"Section6\",\"model\":r[\"model\"],\"variant\":r[\"source\"],\"val_mse\":r[\"val_mse\"],\"train_time_sec\":r[\"train_time_sec\"]})\n",
    "else:\n",
    "    print(\"Missing:\", p6)\n",
    "\n",
    "final_tbl = pd.DataFrame(rows).sort_values(\"val_mse\").reset_index(drop=True)\n",
    "print(\"Final summary (lowest MSE at top):\")\n",
    "display(final_tbl.head(15))\n",
    "\n",
    "# Save\n",
    "os.makedirs(\"results\", exist_ok=True)\n",
    "final_csv = \"results/final_performance_summary.csv\"\n",
    "final_tbl.to_csv(final_csv, index=False)\n",
    "print(\"Saved:\", final_csv)\n"
   ]
  },
  {
   "cell_type": "markdown",
   "id": "b2bbc073",
   "metadata": {
    "id": "b2bbc073"
   },
   "source": [
    "\n",
    "## 7.2 Error-Distribution Histograms\n",
    "\n",
    "We rebuild and evaluate **three** top contenders (best baseline, best MLP, best RNN) on the **validation split**, then plot residual histograms.\n",
    "If a category is missing (e.g., no Section 5 run yet), that plot is skipped.\n"
   ]
  },
  {
   "cell_type": "code",
   "execution_count": 175,
   "id": "7c52e1f7",
   "metadata": {
    "colab": {
     "base_uri": "https://localhost:8080/",
     "height": 1000
    },
    "id": "7c52e1f7",
    "outputId": "fc11f5d6-5377-452e-dfe7-8af202d980e9"
   },
   "outputs": [
    {
     "data": {
      "image/png": "[encoded data removed]",
      "text/plain": [
       "<Figure size 640x480 with 1 Axes>"
      ]
     },
     "metadata": {},
     "output_type": "display_data"
    },
    {
     "data": {
      "image/png": "[encoded data removed]",
      "text/plain": [
       "<Figure size 640x480 with 1 Axes>"
      ]
     },
     "metadata": {},
     "output_type": "display_data"
    },
    {
     "data": {
      "image/png": "[encoded data removed]",
      "text/plain": [
       "<Figure size 640x480 with 1 Axes>"
      ]
     },
     "metadata": {},
     "output_type": "display_data"
    }
   ],
   "source": [
    "import numpy as np, pandas as pd, matplotlib.pyplot as plt, os, time\n",
    "from sklearn.preprocessing import StandardScaler\n",
    "from sklearn.compose import ColumnTransformer\n",
    "from sklearn.pipeline import Pipeline\n",
    "from sklearn.impute import SimpleImputer\n",
    "from sklearn.metrics import mean_squared_error\n",
    "from sklearn.linear_model import LinearRegression, Ridge, Lasso, ElasticNet\n",
    "from sklearn.kernel_ridge import KernelRidge\n",
    "import torch, torch.nn as nn\n",
    "\n",
    "# Load data (Open-Meteo with FE)\n",
    "csv_path = \"data/openmeteo_la_pm25_with_FE.csv\"\n",
    "if 'dfQ' in globals() and isinstance(dfQ, pd.DataFrame) and \"pm2_5\" in dfQ.columns:\n",
    "    df_ = dfQ.copy()\n",
    "else:\n",
    "    df_ = pd.read_csv(csv_path, parse_dates=[\"time\"])\n",
    "df_ = df_.sort_values(\"time\").reset_index(drop=True)\n",
    "exclude = set([\"pm2_5\",\"time\"])\n",
    "feature_cols = [c for c in df_.columns if c not in exclude and np.issubdtype(df_[c].dtype, np.number)]\n",
    "X = df_[feature_cols].astype(\"float32\").values\n",
    "y = df_[\"pm2_5\"].astype(\"float32\").values.reshape(-1,1)\n",
    "n = len(X); split = int(0.8*n)\n",
    "Xtr, Xva = X[:split], X[split:]\n",
    "ytr, yva = y[:split], y[split:]\n",
    "\n",
    "# Helper to plot residual histogram\n",
    "def plot_residuals(y_true, y_pred, title):\n",
    "    resid = (y_pred.reshape(-1,1) - y_true.reshape(-1,1)).ravel()\n",
    "    plt.figure()\n",
    "    plt.hist(resid, bins=40)\n",
    "    plt.title(f\"Residuals: {title}\")\n",
    "    plt.xlabel(\"Prediction Error (y_hat - y)\")\n",
    "    plt.ylabel(\"Count\")\n",
    "    plt.tight_layout()\n",
    "    plt.show()\n",
    "\n",
    "# 1) Best baseline from Section 3\n",
    "try:\n",
    "    d3 = pd.read_csv(\"results/section3_baselines_kernel_results.csv\").sort_values(\"val_mse\")\n",
    "    best3 = d3.iloc[0].to_dict()\n",
    "    model_name = best3[\"model\"]\n",
    "    pre = ColumnTransformer([(\"num\", Pipeline([(\"imputer\", SimpleImputer(strategy=\"median\")),\n",
    "                                              (\"scaler\", StandardScaler())]), list(range(Xtr.shape[1])))], remainder=\"drop\")\n",
    "    if model_name==\"OLS\":\n",
    "        mdl = LinearRegression()\n",
    "    elif model_name==\"Ridge\":\n",
    "        mdl = Ridge(alpha=float(best3.get(\"alpha\",1.0)))\n",
    "    elif model_name==\"LASSO\":\n",
    "        mdl = Lasso(alpha=float(best3.get(\"alpha\",1.0)), max_iter=20000)\n",
    "    elif model_name==\"ElasticNet\":\n",
    "        mdl = ElasticNet(alpha=float(best3.get(\"alpha\",1.0)), l1_ratio=float(best3.get(\"l1_ratio\",0.5)), max_iter=20000)\n",
    "    elif model_name==\"KRR_RBF\":\n",
    "        mdl = KernelRidge(kernel=\"rbf\", alpha=float(best3.get(\"alpha\",1.0)), gamma=float(best3.get(\"gamma\",0.1)))\n",
    "    elif model_name==\"KRR_Poly\":\n",
    "        mdl = KernelRidge(kernel=\"polynomial\", alpha=float(best3.get(\"alpha\",1.0)), gamma=float(best3.get(\"gamma\",0.1)), degree=int(best3.get(\"degree\",3)), coef0=1.0)\n",
    "    else:\n",
    "        mdl = Ridge(alpha=1.0)\n",
    "\n",
    "    pipe = Pipeline([(\"pre\", pre), (\"model\", mdl)])\n",
    "    pipe.fit(Xtr, ytr.ravel())\n",
    "    yhat = pipe.predict(Xva)\n",
    "    plot_residuals(yva, yhat, f\"Section 3 — {model_name}\")\n",
    "except Exception as e:\n",
    "    print(\"Skipping baseline residuals due to:\", e)\n",
    "\n",
    "# 2) Best MLP from Section 4 (retrain quickly)\n",
    "try:\n",
    "    d4 = pd.read_csv(\"results/section4_nn_results.csv\").sort_values(\"final_val_mse\")\n",
    "    best4 = d4.iloc[0].to_dict()\n",
    "    arch = best4[\"architecture\"]; variant = best4[\"variant\"]\n",
    "    # Build tiny retrain to get preds\n",
    "    class Swish(nn.Module):\n",
    "        def forward(self, x): return x * torch.sigmoid(x)\n",
    "    def make_mlp(in_dim, hidden_dims, out_dim=1, enhanced=False, pdrop=0.2):\n",
    "        layers=[]; act=Swish() if enhanced else nn.ReLU()\n",
    "        for i,h in enumerate(hidden_dims):\n",
    "            layers += [nn.Linear(in_dim if i==0 else hidden_dims[i-1], h)]\n",
    "            if enhanced: layers += [nn.BatchNorm1d(h)]\n",
    "            layers += [act]\n",
    "            if enhanced and pdrop>0: layers += [nn.Dropout(pdrop)]\n",
    "        layers += [nn.Linear(hidden_dims[-1] if hidden_dims else in_dim, out_dim)]\n",
    "        return nn.Sequential(*layers)\n",
    "    class ShallowNet(nn.Module):\n",
    "        def __init__(self, in_dim, hidden=128, enhanced=False, pdrop=0.2):\n",
    "            super().__init__(); self.net = make_mlp(in_dim,[hidden],1,enhanced,pdrop)\n",
    "        def forward(self,x): return self.net(x)\n",
    "    class DeepNet(nn.Module):\n",
    "        def __init__(self, in_dim, widths=[256,256,128,128,64], enhanced=False, pdrop=0.2):\n",
    "            super().__init__(); self.net = make_mlp(in_dim,widths,1,enhanced,pdrop)\n",
    "        def forward(self,x): return self.net(x)\n",
    "    class WideNet(nn.Module):\n",
    "        def __init__(self, in_dim, width=1024, enhanced=False, pdrop=0.3):\n",
    "            super().__init__(); self.net = make_mlp(in_dim,[width],1,enhanced,pdrop)\n",
    "        def forward(self,x): return self.net(x)\n",
    "\n",
    "    enhanced = (str(variant).lower()==\"enhanced\")\n",
    "    in_dim = Xtr.shape[1]\n",
    "    model = (ShallowNet if arch==\"Shallow\" else (DeepNet if arch==\"Deep\" else WideNet))(in_dim, enhanced=enhanced)\n",
    "    device = torch.device(\"cuda\" if torch.cuda.is_available() else \"cpu\")\n",
    "    model = model.to(device)\n",
    "\n",
    "    # scale features\n",
    "    scaler = StandardScaler()\n",
    "    Xtr_s = scaler.fit_transform(Xtr).astype(\"float32\")\n",
    "    Xva_s = scaler.transform(Xva).astype(\"float32\")\n",
    "    Xtr_t = torch.from_numpy(Xtr_s).to(device)\n",
    "    ytr_t = torch.from_numpy(ytr).to(device)\n",
    "    Xva_t = torch.from_numpy(Xva_s).to(device)\n",
    "\n",
    "    opt = torch.optim.Adam(model.parameters(), lr=1e-3)\n",
    "    crit = nn.MSELoss()\n",
    "    # quick epochs\n",
    "    for ep in range(20):\n",
    "        model.train(); opt.zero_grad(); pred = model(Xtr_t); loss = crit(pred, ytr_t); loss.backward(); opt.step()\n",
    "    model.eval();\n",
    "    with torch.no_grad():\n",
    "        yhat = model(Xva_t).cpu().numpy()\n",
    "    plot_residuals(yva, yhat, f\"Section 4 — MLP_{arch}({variant})\")\n",
    "except Exception as e:\n",
    "    print(\"Skipping MLP residuals due to:\", e)\n",
    "\n",
    "# 3) Best RNN from Section 5 (retrain quickly)\n",
    "try:\n",
    "    import json\n",
    "    d5 = pd.read_csv(\"results/section5_rnn_comparison.csv\").sort_values(\"val_mse\")\n",
    "    best5 = d5.iloc[0].to_dict()\n",
    "    # Rebuild windows like Section 5 defaults\n",
    "    LOOKBACK, HORIZON = 24, 1\n",
    "    from sklearn.preprocessing import StandardScaler\n",
    "    scaler_rnn = StandardScaler()\n",
    "    X[:split]  = scaler_rnn.fit_transform(X[:split]).astype(\"float32\")\n",
    "    X[split:]  = scaler_rnn.transform(X[split:]).astype(\"float32\")\n",
    "    # windowing\n",
    "    def make_windows(X, y, L=24, H=1):\n",
    "        N=len(X); Xs=[]; ys=[]\n",
    "        for i in range(N-L-H+1):\n",
    "            Xs.append(X[i:i+L]); ys.append(y[i+L+H-1])\n",
    "        return np.asarray(Xs,\"float32\"), np.asarray(ys,\"float32\")\n",
    "    Xs, ys = make_windows(X, y, LOOKBACK, HORIZON)\n",
    "    split_win = split - LOOKBACK - HORIZON + 1\n",
    "    Xtr_w, ytr_w = Xs[:split_win], ys[:split_win]\n",
    "    Xva_w, yva_w = Xs[split_win:], ys[split_win:]\n",
    "\n",
    "    class RNNReg(nn.Module):\n",
    "        def __init__(self, in_dim, hidden=128, layers=2):\n",
    "            super().__init__()\n",
    "            self.gru = nn.GRU(in_dim, hidden, num_layers=layers, batch_first=True, dropout=(0.1 if layers>1 else 0.0))\n",
    "            self.head = nn.Sequential(nn.Linear(hidden,64), nn.ReLU(), nn.Linear(64,1))\n",
    "        def forward(self,x):\n",
    "            o,_ = self.gru(x); return self.head(o[:,-1,:])\n",
    "    model = RNNReg(Xtr_w.shape[-1]).to(device)\n",
    "    opt = torch.optim.Adam(model.parameters(), lr=1e-3)\n",
    "    crit = nn.MSELoss()\n",
    "    Xtr_t = torch.from_numpy(Xtr_w).to(device); ytr_t = torch.from_numpy(ytr_w).to(device)\n",
    "    Xva_t = torch.from_numpy(Xva_w).to(device)\n",
    "    for ep in range(20):\n",
    "        model.train(); opt.zero_grad(); pred = model(Xtr_t); loss = crit(pred, ytr_t); loss.backward(); opt.step()\n",
    "    model.eval();\n",
    "    with torch.no_grad():\n",
    "        yhat = model(Xva_t).cpu().numpy()\n",
    "    plot_residuals(yva_w, yhat, \"Section 5 — RNN (GRU)\")\n",
    "except Exception as e:\n",
    "    print(\"Skipping RNN residuals due to:\", e)"
   ]
  },
  {
   "cell_type": "markdown",
   "id": "894f6f15-3b50-4721-81b0-8e7d72e8904e",
   "metadata": {},
   "source": [
    "## 7.3 Reflection and Discussion\n",
    "\n",
    "As a result of feature engineering, we found that simple signals, such as hour_sin / hour_cos, impacted model performance more than raw variables. Moreover, a time-based split provided realistic error estimates, while preventing data leakage in predictions. The processed datasets have been saved and exported into CSVs to ensure reproducibility.\n",
    "\n",
    "The best model was the Kernel Ridge with RBF, which significantly outperformed linear baselines and neural nets. In MLPs, the Wide Baseline model performed the best. We found that enhancing the models through activations lowered their performance and increased training time. The weakest model was the GRU model, with the highest MSE and training time. \n",
    "\n",
    "Key Take-Aways:\n",
    "\n",
    "- Cleaning, imputing, clipping outliers and additional feature engineering significantly improve model performance. In particular, engineering timestamps to fit 24-hour cycles and extracting features aids in model's idemtifying time-related patterns.\n",
    "- BatchNorm, dropout, and other activations may hinder model performance. Enhancements may not be suitable for all datasets or situations and should be tested prior to being implemented to ensure optimal performance. \n",
    "- Freezing the penultimate layer of the best MLP produced faster and better results, especially when combined with kernel models. This highlights the oppurtunity to use deep networks as feature maps, rather than as predictors, to increase model speed and result interpretability. "
   ]
  }
 ],
 "metadata": {
  "colab": {
   "provenance": []
  },
  "kernelspec": {
   "display_name": "Python 3 (ipykernel)",
   "language": "python",
   "name": "python3"
  },
  "language_info": {
   "codemirror_mode": {
    "name": "ipython",
    "version": 3
   },
   "file_extension": ".py",
   "mimetype": "text/x-python",
   "name": "python",
   "nbconvert_exporter": "python",
   "pygments_lexer": "ipython3",
   "version": "3.9.10"
  }
 },
 "nbformat": 4,
 "nbformat_minor": 5
}
